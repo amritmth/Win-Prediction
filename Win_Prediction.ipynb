{
 "cells": [
  {
   "cell_type": "code",
   "execution_count": 1,
   "id": "5c183c78",
   "metadata": {},
   "outputs": [],
   "source": [
    "import os\n",
    "import numpy as np\n",
    "import pandas as pd\n",
    "import matplotlib.pyplot as plt\n",
    "import seaborn as sns\n",
    "%matplotlib inline\n",
    "import warnings\n",
    "warnings.filterwarnings(\"ignore\")\n",
    "import lux"
   ]
  },
  {
   "cell_type": "code",
   "execution_count": null,
   "id": "4a2fd572",
   "metadata": {},
   "outputs": [],
   "source": []
  },
  {
   "cell_type": "markdown",
   "id": "f9cae857",
   "metadata": {},
   "source": [
    "## Importing excel sheet in dataframe"
   ]
  },
  {
   "cell_type": "code",
   "execution_count": 2,
   "id": "de6b0e5f",
   "metadata": {},
   "outputs": [
    {
     "name": "stdout",
     "output_type": "stream",
     "text": [
      "(10061, 9)\n"
     ]
    },
    {
     "data": {
      "application/vnd.jupyter.widget-view+json": {
       "model_id": "4518c9af120a41d59af935ac78a539fe",
       "version_major": 2,
       "version_minor": 0
      },
      "text/plain": [
       "Button(description='Toggle Pandas/Lux', layout=Layout(top='5px', width='140px'), style=ButtonStyle())"
      ]
     },
     "metadata": {},
     "output_type": "display_data"
    },
    {
     "data": {
      "application/vnd.jupyter.widget-view+json": {
       "model_id": "99b348c884a94806876785a5133bcead",
       "version_major": 2,
       "version_minor": 0
      },
      "text/plain": [
       "Output()"
      ]
     },
     "metadata": {},
     "output_type": "display_data"
    }
   ],
   "source": [
    "df = pd.read_excel(\"Win_Prediction_Data.xlsx\")\n",
    "print(df.shape)\n",
    "df.head()"
   ]
  },
  {
   "cell_type": "markdown",
   "id": "97e96352",
   "metadata": {},
   "source": [
    "### As we can see there is total 10061 rows, 9 columns"
   ]
  },
  {
   "cell_type": "code",
   "execution_count": null,
   "id": "881ba88a",
   "metadata": {},
   "outputs": [],
   "source": []
  },
  {
   "cell_type": "markdown",
   "id": "8b7c4c2a",
   "metadata": {},
   "source": [
    "# Pre - Processing "
   ]
  },
  {
   "cell_type": "code",
   "execution_count": null,
   "id": "52c53ee7",
   "metadata": {},
   "outputs": [],
   "source": []
  },
  {
   "cell_type": "markdown",
   "id": "f8d65b04",
   "metadata": {},
   "source": [
    "## Step 1 - Handling Missing Values"
   ]
  },
  {
   "cell_type": "code",
   "execution_count": 3,
   "id": "e0e7fe6e",
   "metadata": {
    "scrolled": true
   },
   "outputs": [
    {
     "data": {
      "application/vnd.jupyter.widget-view+json": {
       "model_id": "a9a02a8cc3b848b791120b3c24d61400",
       "version_major": 2,
       "version_minor": 0
      },
      "text/plain": [
       "Button(description='Toggle Pandas/Lux', layout=Layout(top='5px', width='140px'), style=ButtonStyle())"
      ]
     },
     "metadata": {},
     "output_type": "display_data"
    },
    {
     "data": {
      "application/vnd.jupyter.widget-view+json": {
       "model_id": "3dfab7e53d864da9867c4701b436e9f4",
       "version_major": 2,
       "version_minor": 0
      },
      "text/plain": [
       "Output()"
      ]
     },
     "metadata": {},
     "output_type": "display_data"
    }
   ],
   "source": [
    "df.isna().sum()/len(df)*100"
   ]
  },
  {
   "cell_type": "markdown",
   "id": "ec4e9137",
   "metadata": {},
   "source": [
    "### There only one column which has missing value.\n",
    "#### Client Category contains object so we can replace missing value by mode (Most Occuring Word in client category)"
   ]
  },
  {
   "cell_type": "code",
   "execution_count": null,
   "id": "42e3cb5d",
   "metadata": {},
   "outputs": [],
   "source": []
  },
  {
   "cell_type": "code",
   "execution_count": 4,
   "id": "cb24269a",
   "metadata": {},
   "outputs": [
    {
     "data": {
      "application/vnd.jupyter.widget-view+json": {
       "model_id": "7edf9b9fec6a43499be701718f8e7ee0",
       "version_major": 2,
       "version_minor": 0
      },
      "text/plain": [
       "Button(description='Toggle Pandas/Lux', layout=Layout(top='5px', width='140px'), style=ButtonStyle())"
      ]
     },
     "metadata": {},
     "output_type": "display_data"
    },
    {
     "data": {
      "application/vnd.jupyter.widget-view+json": {
       "model_id": "f1064df276234eebb878e01aeebbe09b",
       "version_major": 2,
       "version_minor": 0
      },
      "text/plain": [
       "Output()"
      ]
     },
     "metadata": {},
     "output_type": "display_data"
    }
   ],
   "source": [
    "df['Client Category'].mode()"
   ]
  },
  {
   "cell_type": "code",
   "execution_count": 5,
   "id": "f6c5da1a",
   "metadata": {},
   "outputs": [],
   "source": [
    "df['Client Category'] = df['Client Category'].fillna('Others')"
   ]
  },
  {
   "cell_type": "code",
   "execution_count": 6,
   "id": "5cb622e5",
   "metadata": {
    "scrolled": true
   },
   "outputs": [
    {
     "data": {
      "application/vnd.jupyter.widget-view+json": {
       "model_id": "76d50376ed66421db67e9fea8e89a689",
       "version_major": 2,
       "version_minor": 0
      },
      "text/plain": [
       "Button(description='Toggle Pandas/Lux', layout=Layout(top='5px', width='140px'), style=ButtonStyle())"
      ]
     },
     "metadata": {},
     "output_type": "display_data"
    },
    {
     "data": {
      "application/vnd.jupyter.widget-view+json": {
       "model_id": "989d5d3dba5241f595726b1f0dfe17f2",
       "version_major": 2,
       "version_minor": 0
      },
      "text/plain": [
       "Output()"
      ]
     },
     "metadata": {},
     "output_type": "display_data"
    }
   ],
   "source": [
    "df.isna().sum()/len(df)*100"
   ]
  },
  {
   "cell_type": "code",
   "execution_count": null,
   "id": "2d3628e0",
   "metadata": {},
   "outputs": [],
   "source": []
  },
  {
   "cell_type": "code",
   "execution_count": 7,
   "id": "11f5cecf",
   "metadata": {
    "scrolled": true
   },
   "outputs": [
    {
     "name": "stdout",
     "output_type": "stream",
     "text": [
      "********* Client Category *******\n",
      "\n",
      "{'Medical ', 'e-commerce', 'Retail_market', 'Tech', 'Internal', 'Energy', 'Consulting', 'Domestic Public Bank', 'Consumer Good', 'Holding', 'Power ind', 'Management', 'Govt Bank Special', 'Domestic Bank', 'Finance', 'Healthcare', 'Research Development', 'Manufacturing', 'International Bank', 'Others', 'Pharma', 'Tax_audit', 'Energy ', 'Media_Journal', 'Infrastructure', 'Share_market', 'Hospitality', 'Industries', 'Logistics', 'Govt', 'International Org', 'Services_based', 'Knowledge', 'Domestic Private Bank', 'Payment', 'Airpline', 'Automobiles', 'Real Estate', 'Electronics', 'Insurance', 'Telecom'}\n",
      "********* Solution Type *******\n",
      "\n",
      "{'Solution 8', 'Solution 34', 'Solution 7', 'Solution 49', 'Solution 28', 'Solution 25', 'Solution 1', 'Solution 41', 'Solution 4', 'Solution 30', 'Solution 61', 'Solution 9', 'Solution 26', 'Solution 60', 'Solution 20', 'Solution 22', 'Solution 33', 'Solution 29', 'Solution 42', 'Solution 58', 'Solution 36', 'Solution 38', 'Solution 53', 'Solution 52', 'Solution 43', 'Solution 37', 'Solution 23', 'Solution 19', 'Solution 31', 'Solution 67', 'Solution 57', 'Solution 21', 'Solution 44', 'Solution 66', 'Solution 6', 'Solution 3', 'Solution 11', 'Solution 18', 'Solution 10', 'Solution 56', 'Solution 27', 'Solution 64', 'Solution 17', 'Solution 24', 'Solution 55', 'Solution 15', 'Solution 54', 'Solution 48', 'Solution 65', 'Solution 13', 'Solution 2', 'Solution 51', 'Solution 5', 'Solution 62', 'Solution 47', 'Solution 35', 'Solution 16', 'Solution 45', 'Solution 50', 'Solution 14', 'Solution 12', 'Solution 46', 'Solution 39', 'Solution 32', 'Solution 59', 'Solution 63', 'Solution 40'}\n",
      "********* Deal Date *******\n",
      "\n",
      "{Timestamp('2016-09-08 00:00:00'), Timestamp('2013-09-10 00:00:00'), Timestamp('2015-09-07 00:00:00'), Timestamp('2018-07-27 00:00:00'), Timestamp('2012-08-31 00:00:00'), Timestamp('2013-10-20 00:00:00'), Timestamp('2017-03-15 00:00:00'), Timestamp('2012-04-23 00:00:00'), Timestamp('2012-04-25 00:00:00'), Timestamp('2013-11-22 00:00:00'), Timestamp('2016-06-24 00:00:00'), Timestamp('2019-06-07 00:00:00'), Timestamp('2018-10-28 00:00:00'), Timestamp('2017-12-29 00:00:00'), Timestamp('2017-07-02 00:00:00'), Timestamp('2017-12-31 00:00:00'), Timestamp('2016-10-21 00:00:00'), Timestamp('2015-09-22 00:00:00'), Timestamp('2017-03-17 00:00:00'), Timestamp('2017-02-06 00:00:00'), Timestamp('2014-11-02 00:00:00'), Timestamp('2014-06-16 00:00:00'), Timestamp('2013-12-29 00:00:00'), Timestamp('2014-11-14 00:00:00'), Timestamp('2018-09-07 00:00:00'), Timestamp('2012-08-06 00:00:00'), Timestamp('2013-08-11 00:00:00'), Timestamp('2019-03-17 00:00:00'), Timestamp('2011-07-14 00:00:00'), Timestamp('2013-01-25 00:00:00'), Timestamp('2017-04-14 00:00:00'), Timestamp('2016-12-03 00:00:00'), Timestamp('2014-04-13 00:00:00'), Timestamp('2016-11-16 00:00:00'), Timestamp('2012-06-09 00:00:00'), Timestamp('2013-10-04 00:00:00'), Timestamp('2015-03-08 00:00:00'), Timestamp('2015-11-27 00:00:00'), Timestamp('2013-02-09 00:00:00'), Timestamp('2018-12-17 00:00:00'), Timestamp('2018-07-01 00:00:00'), Timestamp('2013-08-15 00:00:00'), Timestamp('2014-08-27 00:00:00'), Timestamp('2015-09-17 00:00:00'), Timestamp('2017-06-13 00:00:00'), Timestamp('2018-10-22 00:00:00'), Timestamp('2014-01-19 00:00:00'), Timestamp('2016-05-14 00:00:00'), Timestamp('2016-05-15 00:00:00'), Timestamp('2016-01-24 00:00:00'), Timestamp('2012-01-01 00:00:00'), Timestamp('2014-04-12 00:00:00'), Timestamp('2013-10-30 00:00:00'), Timestamp('2014-09-03 00:00:00'), Timestamp('2017-01-23 00:00:00'), Timestamp('2014-01-13 00:00:00'), Timestamp('2018-02-14 00:00:00'), Timestamp('2016-12-12 00:00:00'), Timestamp('2013-12-12 00:00:00'), Timestamp('2012-09-19 00:00:00'), Timestamp('2016-07-15 00:00:00'), Timestamp('2014-07-19 00:00:00'), Timestamp('2015-12-18 00:00:00'), Timestamp('2014-05-23 00:00:00'), Timestamp('2011-12-07 00:00:00'), Timestamp('2013-05-14 00:00:00'), Timestamp('2017-08-17 00:00:00'), Timestamp('2014-11-23 00:00:00'), Timestamp('2017-01-19 00:00:00'), Timestamp('2015-12-21 00:00:00'), Timestamp('2015-04-29 00:00:00'), Timestamp('2018-09-21 00:00:00'), Timestamp('2016-11-08 00:00:00'), Timestamp('2017-08-31 00:00:00'), Timestamp('2014-07-28 00:00:00'), Timestamp('2015-04-28 00:00:00'), Timestamp('2013-04-14 00:00:00'), Timestamp('2015-08-29 00:00:00'), Timestamp('2018-01-08 00:00:00'), Timestamp('2016-03-14 00:00:00'), Timestamp('2013-01-06 00:00:00'), Timestamp('2014-08-02 00:00:00'), Timestamp('2015-04-23 00:00:00'), Timestamp('2018-06-19 00:00:00'), Timestamp('2012-07-19 00:00:00'), Timestamp('2015-06-01 00:00:00'), Timestamp('2016-09-15 00:00:00'), Timestamp('2014-05-06 00:00:00'), Timestamp('2013-11-16 00:00:00'), Timestamp('2016-02-17 00:00:00'), Timestamp('2013-06-03 00:00:00'), Timestamp('2019-02-22 00:00:00'), Timestamp('2014-11-28 00:00:00'), Timestamp('2017-01-05 00:00:00'), Timestamp('2014-03-02 00:00:00'), Timestamp('2018-08-15 00:00:00'), Timestamp('2018-02-15 00:00:00'), Timestamp('2016-04-30 00:00:00'), Timestamp('2016-01-07 00:00:00'), Timestamp('2017-02-10 00:00:00'), Timestamp('2014-01-01 00:00:00'), Timestamp('2012-10-28 00:00:00'), Timestamp('2015-09-15 00:00:00'), Timestamp('2019-01-10 00:00:00'), Timestamp('2017-05-13 00:00:00'), Timestamp('2015-05-31 00:00:00'), Timestamp('2012-08-21 00:00:00'), Timestamp('2013-08-17 00:00:00'), Timestamp('2017-08-15 00:00:00'), Timestamp('2017-10-12 00:00:00'), Timestamp('2017-05-31 00:00:00'), Timestamp('2014-05-10 00:00:00'), Timestamp('2015-10-30 00:00:00'), Timestamp('2013-06-18 00:00:00'), Timestamp('2017-10-21 00:00:00'), Timestamp('2015-05-26 00:00:00'), Timestamp('2012-08-15 00:00:00'), Timestamp('2012-05-18 00:00:00'), Timestamp('2014-09-14 00:00:00'), Timestamp('2016-11-05 00:00:00'), Timestamp('2018-11-14 00:00:00'), Timestamp('2012-05-03 00:00:00'), Timestamp('2013-07-10 00:00:00'), Timestamp('2016-02-25 00:00:00'), Timestamp('2012-09-25 00:00:00'), Timestamp('2015-11-12 00:00:00'), Timestamp('2018-05-27 00:00:00'), Timestamp('2019-01-29 00:00:00'), Timestamp('2015-08-13 00:00:00'), Timestamp('2016-11-09 00:00:00'), Timestamp('2018-07-10 00:00:00'), Timestamp('2017-03-07 00:00:00'), Timestamp('2012-10-18 00:00:00'), Timestamp('2015-07-27 00:00:00'), Timestamp('2013-12-16 00:00:00'), Timestamp('2016-02-06 00:00:00'), Timestamp('2012-06-28 00:00:00'), Timestamp('2016-01-22 00:00:00'), Timestamp('2017-08-02 00:00:00'), Timestamp('2015-05-25 00:00:00'), Timestamp('2014-06-03 00:00:00'), Timestamp('2013-12-15 00:00:00'), Timestamp('2011-12-11 00:00:00'), Timestamp('2018-03-09 00:00:00'), Timestamp('2014-05-19 00:00:00'), Timestamp('2015-10-06 00:00:00'), Timestamp('2018-03-28 00:00:00'), Timestamp('2012-07-25 00:00:00'), Timestamp('2015-03-31 00:00:00'), Timestamp('2017-03-31 00:00:00'), Timestamp('2014-07-26 00:00:00'), Timestamp('2017-05-19 00:00:00'), Timestamp('2012-04-18 00:00:00'), Timestamp('2013-12-18 00:00:00'), Timestamp('2018-08-04 00:00:00'), Timestamp('2013-07-18 00:00:00'), Timestamp('2016-09-03 00:00:00'), Timestamp('2018-09-09 00:00:00'), Timestamp('2018-11-28 00:00:00'), Timestamp('2012-10-22 00:00:00'), Timestamp('2016-01-17 00:00:00'), Timestamp('2017-11-27 00:00:00'), Timestamp('2018-07-13 00:00:00'), Timestamp('2014-11-25 00:00:00'), Timestamp('2014-07-05 00:00:00'), Timestamp('2018-01-14 00:00:00'), Timestamp('2013-06-05 00:00:00'), Timestamp('2014-03-26 00:00:00'), Timestamp('2013-09-03 00:00:00'), Timestamp('2018-07-02 00:00:00'), Timestamp('2015-02-26 00:00:00'), Timestamp('2017-03-03 00:00:00'), Timestamp('2018-11-17 00:00:00'), Timestamp('2015-09-28 00:00:00'), Timestamp('2013-12-28 00:00:00'), Timestamp('2013-05-22 00:00:00'), Timestamp('2015-11-20 00:00:00'), Timestamp('2012-11-09 00:00:00'), Timestamp('2016-06-12 00:00:00'), Timestamp('2014-12-29 00:00:00'), Timestamp('2014-03-18 00:00:00'), Timestamp('2014-10-28 00:00:00'), Timestamp('2016-06-17 00:00:00'), Timestamp('2018-12-12 00:00:00'), Timestamp('2016-07-20 00:00:00'), Timestamp('2016-08-26 00:00:00'), Timestamp('2018-01-10 00:00:00'), Timestamp('2012-01-13 00:00:00'), Timestamp('2016-07-21 00:00:00'), Timestamp('2012-10-23 00:00:00'), Timestamp('2016-05-26 00:00:00'), Timestamp('2013-11-21 00:00:00'), Timestamp('2016-02-22 00:00:00'), Timestamp('2012-03-30 00:00:00'), Timestamp('2014-03-23 00:00:00'), Timestamp('2011-12-05 00:00:00'), Timestamp('2014-10-29 00:00:00'), Timestamp('2018-05-22 00:00:00'), Timestamp('2018-01-07 00:00:00'), Timestamp('2017-09-29 00:00:00'), Timestamp('2014-12-08 00:00:00'), Timestamp('2014-04-16 00:00:00'), Timestamp('2017-07-22 00:00:00'), Timestamp('2014-04-02 00:00:00'), Timestamp('2015-05-10 00:00:00'), Timestamp('2016-11-28 00:00:00'), Timestamp('2015-02-16 00:00:00'), Timestamp('2014-06-02 00:00:00'), Timestamp('2018-11-05 00:00:00'), Timestamp('2016-02-19 00:00:00'), Timestamp('2017-09-26 00:00:00'), Timestamp('2016-01-02 00:00:00'), Timestamp('2014-05-22 00:00:00'), Timestamp('2017-02-27 00:00:00'), Timestamp('2018-09-08 00:00:00'), Timestamp('2017-06-24 00:00:00'), Timestamp('2018-12-02 00:00:00'), Timestamp('2013-09-11 00:00:00'), Timestamp('2015-04-01 00:00:00'), Timestamp('2014-04-19 00:00:00'), Timestamp('2016-06-08 00:00:00'), Timestamp('2014-08-03 00:00:00'), Timestamp('2018-12-24 00:00:00'), Timestamp('2012-08-30 00:00:00'), Timestamp('2018-07-20 00:00:00'), Timestamp('2016-01-29 00:00:00'), Timestamp('2013-05-31 00:00:00'), Timestamp('2016-04-28 00:00:00'), Timestamp('2012-04-14 00:00:00'), Timestamp('2013-07-21 00:00:00'), Timestamp('2015-06-19 00:00:00'), Timestamp('2014-10-13 00:00:00'), Timestamp('2015-09-14 00:00:00'), Timestamp('2015-03-14 00:00:00'), Timestamp('2018-07-22 00:00:00'), Timestamp('2015-03-29 00:00:00'), Timestamp('2015-01-30 00:00:00'), Timestamp('2017-01-18 00:00:00'), Timestamp('2016-02-02 00:00:00'), Timestamp('2015-10-27 00:00:00'), Timestamp('2015-07-03 00:00:00'), Timestamp('2018-05-09 00:00:00'), Timestamp('2018-10-18 00:00:00'), Timestamp('2012-07-15 00:00:00'), Timestamp('2016-10-22 00:00:00'), Timestamp('2014-12-26 00:00:00'), Timestamp('2012-11-03 00:00:00'), Timestamp('2014-12-22 00:00:00'), Timestamp('2015-04-05 00:00:00'), Timestamp('2019-02-15 00:00:00'), Timestamp('2018-12-18 00:00:00'), Timestamp('2019-02-17 00:00:00'), Timestamp('2018-10-13 00:00:00'), Timestamp('2016-07-18 00:00:00'), Timestamp('2017-12-24 00:00:00'), Timestamp('2015-12-16 00:00:00'), Timestamp('2014-02-27 00:00:00'), Timestamp('2018-07-11 00:00:00'), Timestamp('2016-08-19 00:00:00'), Timestamp('2012-01-28 00:00:00'), Timestamp('2011-11-02 00:00:00'), Timestamp('2017-09-06 00:00:00'), Timestamp('2013-01-17 00:00:00'), Timestamp('2013-05-16 00:00:00'), Timestamp('2015-01-06 00:00:00'), Timestamp('2017-09-03 00:00:00'), Timestamp('2016-02-05 00:00:00'), Timestamp('2012-01-23 00:00:00'), Timestamp('2012-07-02 00:00:00'), Timestamp('2015-06-14 00:00:00'), Timestamp('2015-09-08 00:00:00'), Timestamp('2018-02-01 00:00:00'), Timestamp('2017-08-04 00:00:00'), Timestamp('2013-11-28 00:00:00'), Timestamp('2017-02-16 00:00:00'), Timestamp('2017-07-15 00:00:00'), Timestamp('2014-04-27 00:00:00'), Timestamp('2018-11-11 00:00:00'), Timestamp('2015-03-19 00:00:00'), Timestamp('2015-10-13 00:00:00'), Timestamp('2018-11-12 00:00:00'), Timestamp('2013-03-29 00:00:00'), Timestamp('2013-07-28 00:00:00'), Timestamp('2015-03-25 00:00:00'), Timestamp('2017-09-24 00:00:00'), Timestamp('2014-03-07 00:00:00'), Timestamp('2018-09-13 00:00:00'), Timestamp('2016-08-07 00:00:00'), Timestamp('2017-08-28 00:00:00'), Timestamp('2018-01-31 00:00:00'), Timestamp('2015-05-21 00:00:00'), Timestamp('2014-10-08 00:00:00'), Timestamp('2013-04-07 00:00:00'), Timestamp('2016-05-13 00:00:00'), Timestamp('2012-01-03 00:00:00'), Timestamp('2017-10-11 00:00:00'), Timestamp('2016-01-10 00:00:00'), Timestamp('2014-12-21 00:00:00'), Timestamp('2017-11-28 00:00:00'), Timestamp('2014-12-27 00:00:00'), Timestamp('2016-04-04 00:00:00'), Timestamp('2018-10-10 00:00:00'), Timestamp('2014-11-11 00:00:00'), Timestamp('2012-08-23 00:00:00'), Timestamp('2017-02-05 00:00:00'), Timestamp('2015-07-14 00:00:00'), Timestamp('2013-12-19 00:00:00'), Timestamp('2012-07-12 00:00:00'), Timestamp('2017-12-22 00:00:00'), Timestamp('2014-05-01 00:00:00'), Timestamp('2012-07-18 00:00:00'), Timestamp('2013-12-02 00:00:00'), Timestamp('2017-10-05 00:00:00'), Timestamp('2018-07-17 00:00:00'), Timestamp('2014-09-04 00:00:00'), Timestamp('2016-12-13 00:00:00'), Timestamp('2019-04-07 00:00:00'), Timestamp('2018-07-04 00:00:00'), Timestamp('2016-07-03 00:00:00'), Timestamp('2018-08-16 00:00:00'), Timestamp('2016-02-04 00:00:00'), Timestamp('2017-04-01 00:00:00'), Timestamp('2012-06-18 00:00:00'), Timestamp('2016-01-11 00:00:00'), Timestamp('2016-11-26 00:00:00'), Timestamp('2016-08-08 00:00:00'), Timestamp('2018-10-11 00:00:00'), Timestamp('2016-12-27 00:00:00'), Timestamp('2012-01-19 00:00:00'), Timestamp('2013-11-26 00:00:00'), Timestamp('2012-06-07 00:00:00'), Timestamp('2013-12-24 00:00:00'), Timestamp('2015-01-15 00:00:00'), Timestamp('2018-09-11 00:00:00'), Timestamp('2016-06-27 00:00:00'), Timestamp('2019-01-01 00:00:00'), Timestamp('2018-05-23 00:00:00'), Timestamp('2015-11-06 00:00:00'), Timestamp('2017-11-09 00:00:00'), Timestamp('2015-09-29 00:00:00'), Timestamp('2013-04-27 00:00:00'), Timestamp('2016-12-28 00:00:00'), Timestamp('2016-11-21 00:00:00'), Timestamp('2017-04-23 00:00:00'), Timestamp('2014-11-04 00:00:00'), Timestamp('2014-03-09 00:00:00'), Timestamp('2014-10-15 00:00:00'), Timestamp('2016-12-04 00:00:00'), Timestamp('2013-08-21 00:00:00'), Timestamp('2014-05-25 00:00:00'), Timestamp('2017-11-02 00:00:00'), Timestamp('2019-05-07 00:00:00'), Timestamp('2015-03-12 00:00:00'), Timestamp('2018-02-24 00:00:00'), Timestamp('2015-02-25 00:00:00'), Timestamp('2014-04-04 00:00:00'), Timestamp('2018-08-18 00:00:00'), Timestamp('2017-05-26 00:00:00'), Timestamp('2018-05-26 00:00:00'), Timestamp('2017-09-30 00:00:00'), Timestamp('2016-09-01 00:00:00'), Timestamp('2018-12-31 00:00:00'), Timestamp('2016-05-12 00:00:00'), Timestamp('2018-11-15 00:00:00'), Timestamp('2017-01-15 00:00:00'), Timestamp('2019-03-02 00:00:00'), Timestamp('2014-03-16 00:00:00'), Timestamp('2018-07-05 00:00:00'), Timestamp('2013-03-30 00:00:00'), Timestamp('2015-10-05 00:00:00'), Timestamp('2018-06-13 00:00:00'), Timestamp('2015-01-01 00:00:00'), Timestamp('2016-12-18 00:00:00'), Timestamp('2018-12-15 00:00:00'), Timestamp('2014-09-09 00:00:00'), Timestamp('2013-01-26 00:00:00'), Timestamp('2014-10-02 00:00:00'), Timestamp('2018-12-05 00:00:00'), Timestamp('2017-09-11 00:00:00'), Timestamp('2016-09-09 00:00:00'), Timestamp('2015-08-04 00:00:00'), Timestamp('2016-01-31 00:00:00'), Timestamp('2016-08-31 00:00:00'), Timestamp('2019-05-06 00:00:00'), Timestamp('2014-10-31 00:00:00'), Timestamp('2015-12-05 00:00:00'), Timestamp('2017-05-27 00:00:00'), Timestamp('2015-02-08 00:00:00'), Timestamp('2016-03-15 00:00:00'), Timestamp('2015-12-29 00:00:00'), Timestamp('2017-07-14 00:00:00'), Timestamp('2015-10-24 00:00:00'), Timestamp('2013-12-10 00:00:00'), Timestamp('2017-12-18 00:00:00'), Timestamp('2013-07-29 00:00:00'), Timestamp('2011-12-20 00:00:00'), Timestamp('2014-04-14 00:00:00'), Timestamp('2018-03-19 00:00:00'), Timestamp('2017-02-01 00:00:00'), Timestamp('2016-06-05 00:00:00'), Timestamp('2017-10-29 00:00:00'), Timestamp('2016-10-06 00:00:00'), Timestamp('2012-03-20 00:00:00'), Timestamp('2016-11-03 00:00:00'), Timestamp('2014-09-28 00:00:00'), Timestamp('2013-08-04 00:00:00'), Timestamp('2014-09-05 00:00:00'), Timestamp('2017-01-14 00:00:00'), Timestamp('2013-06-29 00:00:00'), Timestamp('2011-08-01 00:00:00'), Timestamp('2016-10-03 00:00:00'), Timestamp('2017-06-04 00:00:00'), Timestamp('2013-05-23 00:00:00'), Timestamp('2014-04-01 00:00:00'), Timestamp('2019-02-16 00:00:00'), Timestamp('2017-01-27 00:00:00'), Timestamp('2012-05-15 00:00:00'), Timestamp('2013-09-04 00:00:00'), Timestamp('2014-02-25 00:00:00'), Timestamp('2017-10-08 00:00:00'), Timestamp('2016-09-28 00:00:00'), Timestamp('2012-01-31 00:00:00'), Timestamp('2018-09-01 00:00:00'), Timestamp('2017-01-01 00:00:00'), Timestamp('2013-10-15 00:00:00'), Timestamp('2014-01-06 00:00:00'), Timestamp('2012-05-12 00:00:00'), Timestamp('2014-05-13 00:00:00'), Timestamp('2013-09-15 00:00:00'), Timestamp('2015-05-24 00:00:00'), Timestamp('2013-06-24 00:00:00'), Timestamp('2012-08-11 00:00:00'), Timestamp('2017-11-08 00:00:00'), Timestamp('2015-07-22 00:00:00'), Timestamp('2015-07-29 00:00:00'), Timestamp('2012-10-01 00:00:00'), Timestamp('2018-12-13 00:00:00'), Timestamp('2015-08-30 00:00:00'), Timestamp('2019-04-20 00:00:00'), Timestamp('2017-01-29 00:00:00'), Timestamp('2012-11-27 00:00:00'), Timestamp('2013-10-21 00:00:00'), Timestamp('2014-02-04 00:00:00'), Timestamp('2018-12-08 00:00:00'), Timestamp('2014-05-03 00:00:00'), Timestamp('2017-01-13 00:00:00'), Timestamp('2017-05-20 00:00:00'), Timestamp('2018-01-26 00:00:00'), Timestamp('2016-05-24 00:00:00'), Timestamp('2014-02-10 00:00:00'), Timestamp('2015-07-06 00:00:00'), Timestamp('2016-09-14 00:00:00'), Timestamp('2012-02-27 00:00:00'), Timestamp('2017-06-30 00:00:00'), Timestamp('2017-07-18 00:00:00'), Timestamp('2019-02-25 00:00:00'), Timestamp('2017-02-18 00:00:00'), Timestamp('2017-07-08 00:00:00'), Timestamp('2016-02-21 00:00:00'), Timestamp('2016-03-31 00:00:00'), Timestamp('2014-11-24 00:00:00'), Timestamp('2015-08-19 00:00:00'), Timestamp('2017-03-22 00:00:00'), Timestamp('2014-05-08 00:00:00'), Timestamp('2016-05-03 00:00:00'), Timestamp('2012-10-09 00:00:00'), Timestamp('2017-02-08 00:00:00'), Timestamp('2018-11-23 00:00:00'), Timestamp('2016-06-30 00:00:00'), Timestamp('2016-07-31 00:00:00'), Timestamp('2016-09-05 00:00:00'), Timestamp('2016-12-30 00:00:00'), Timestamp('2018-07-30 00:00:00'), Timestamp('2014-04-08 00:00:00'), Timestamp('2018-12-22 00:00:00'), Timestamp('2016-07-25 00:00:00'), Timestamp('2011-11-10 00:00:00'), Timestamp('2015-05-02 00:00:00'), Timestamp('2016-12-05 00:00:00'), Timestamp('2015-04-16 00:00:00'), Timestamp('2014-03-29 00:00:00'), Timestamp('2017-06-26 00:00:00'), Timestamp('2013-05-02 00:00:00'), Timestamp('2013-03-04 00:00:00'), Timestamp('2017-03-01 00:00:00'), Timestamp('2019-01-03 00:00:00'), Timestamp('2014-08-14 00:00:00'), Timestamp('2018-02-07 00:00:00'), Timestamp('2011-12-17 00:00:00'), Timestamp('2016-07-09 00:00:00'), Timestamp('2018-12-27 00:00:00'), Timestamp('2015-09-26 00:00:00'), Timestamp('2018-08-22 00:00:00'), Timestamp('2012-11-14 00:00:00'), Timestamp('2015-11-15 00:00:00'), Timestamp('2016-07-08 00:00:00'), Timestamp('2016-08-14 00:00:00'), Timestamp('2017-07-29 00:00:00'), Timestamp('2013-12-21 00:00:00'), Timestamp('2015-12-17 00:00:00'), Timestamp('2015-03-17 00:00:00'), Timestamp('2014-05-26 00:00:00'), Timestamp('2013-07-31 00:00:00'), Timestamp('2014-05-05 00:00:00'), Timestamp('2014-10-17 00:00:00'), Timestamp('2017-02-23 00:00:00'), Timestamp('2016-05-01 00:00:00'), Timestamp('2014-09-11 00:00:00'), Timestamp('2017-07-07 00:00:00'), Timestamp('2018-08-25 00:00:00'), Timestamp('2018-03-18 00:00:00'), Timestamp('2016-04-18 00:00:00'), Timestamp('2013-04-28 00:00:00'), Timestamp('2016-11-29 00:00:00'), Timestamp('2015-06-22 00:00:00'), Timestamp('2014-01-25 00:00:00'), Timestamp('2012-11-24 00:00:00'), Timestamp('2012-02-19 00:00:00'), Timestamp('2018-05-14 00:00:00'), Timestamp('2018-05-19 00:00:00'), Timestamp('2018-09-17 00:00:00'), Timestamp('2014-08-30 00:00:00'), Timestamp('2016-08-20 00:00:00'), Timestamp('2015-12-23 00:00:00'), Timestamp('2012-02-04 00:00:00'), Timestamp('2016-04-24 00:00:00'), Timestamp('2014-12-18 00:00:00'), Timestamp('2018-06-10 00:00:00'), Timestamp('2014-01-29 00:00:00'), Timestamp('2012-02-22 00:00:00'), Timestamp('2017-10-26 00:00:00'), Timestamp('2016-09-12 00:00:00'), Timestamp('2014-11-17 00:00:00'), Timestamp('2013-09-14 00:00:00'), Timestamp('2013-02-21 00:00:00'), Timestamp('2013-03-02 00:00:00'), Timestamp('2016-02-29 00:00:00'), Timestamp('2017-03-25 00:00:00'), Timestamp('2018-10-04 00:00:00'), Timestamp('2013-12-06 00:00:00'), Timestamp('2016-07-24 00:00:00'), Timestamp('2018-09-29 00:00:00'), Timestamp('2013-04-19 00:00:00'), Timestamp('2012-12-12 00:00:00'), Timestamp('2017-05-12 00:00:00'), Timestamp('2012-09-02 00:00:00'), Timestamp('2018-07-16 00:00:00'), Timestamp('2017-03-12 00:00:00'), Timestamp('2012-07-27 00:00:00'), Timestamp('2018-12-10 00:00:00'), Timestamp('2014-10-20 00:00:00'), Timestamp('2017-09-02 00:00:00'), Timestamp('2015-12-24 00:00:00'), Timestamp('2017-06-11 00:00:00'), Timestamp('2012-07-01 00:00:00'), Timestamp('2015-05-16 00:00:00'), Timestamp('2013-11-02 00:00:00'), Timestamp('2018-02-20 00:00:00'), Timestamp('2014-04-05 00:00:00'), Timestamp('2017-09-23 00:00:00'), Timestamp('2017-06-19 00:00:00'), Timestamp('2016-08-06 00:00:00'), Timestamp('2016-02-07 00:00:00'), Timestamp('2016-06-11 00:00:00'), Timestamp('2014-02-22 00:00:00'), Timestamp('2016-03-27 00:00:00'), Timestamp('2018-12-07 00:00:00'), Timestamp('2014-08-29 00:00:00'), Timestamp('2013-08-19 00:00:00'), Timestamp('2015-12-27 00:00:00'), Timestamp('2017-05-05 00:00:00'), Timestamp('2012-06-03 00:00:00'), Timestamp('2015-01-03 00:00:00'), Timestamp('2013-01-24 00:00:00'), Timestamp('2018-07-25 00:00:00'), Timestamp('2018-01-11 00:00:00'), Timestamp('2017-10-28 00:00:00'), Timestamp('2016-10-01 00:00:00'), Timestamp('2017-06-01 00:00:00'), Timestamp('2015-10-15 00:00:00'), Timestamp('2016-07-27 00:00:00'), Timestamp('2016-08-12 00:00:00'), Timestamp('2012-03-19 00:00:00'), Timestamp('2017-02-04 00:00:00'), Timestamp('2013-09-18 00:00:00'), Timestamp('2017-02-13 00:00:00'), Timestamp('2013-01-20 00:00:00'), Timestamp('2018-04-30 00:00:00'), Timestamp('2012-02-02 00:00:00'), Timestamp('2014-01-18 00:00:00'), Timestamp('2015-11-07 00:00:00'), Timestamp('2018-02-12 00:00:00'), Timestamp('2014-04-23 00:00:00'), Timestamp('2018-09-20 00:00:00'), Timestamp('2017-12-21 00:00:00'), Timestamp('2017-12-14 00:00:00'), Timestamp('2019-03-05 00:00:00'), Timestamp('2016-12-21 00:00:00'), Timestamp('2014-08-26 00:00:00'), Timestamp('2011-04-19 00:00:00'), Timestamp('2016-06-13 00:00:00'), Timestamp('2017-12-17 00:00:00'), Timestamp('2013-07-30 00:00:00'), Timestamp('2012-01-08 00:00:00'), Timestamp('2018-07-06 00:00:00'), Timestamp('2015-08-18 00:00:00'), Timestamp('2016-04-11 00:00:00'), Timestamp('2015-01-24 00:00:00'), Timestamp('2013-05-06 00:00:00'), Timestamp('2016-07-17 00:00:00'), Timestamp('2018-06-07 00:00:00'), Timestamp('2018-12-23 00:00:00'), Timestamp('2013-04-10 00:00:00'), Timestamp('2014-06-21 00:00:00'), Timestamp('2014-08-17 00:00:00'), Timestamp('2017-06-17 00:00:00'), Timestamp('2018-06-14 00:00:00'), Timestamp('2015-11-17 00:00:00'), Timestamp('2014-01-17 00:00:00'), Timestamp('2012-08-24 00:00:00'), Timestamp('2018-02-16 00:00:00'), Timestamp('2017-08-06 00:00:00'), Timestamp('2017-04-09 00:00:00'), Timestamp('2019-02-18 00:00:00'), Timestamp('2015-01-12 00:00:00'), Timestamp('2014-06-19 00:00:00'), Timestamp('2014-02-26 00:00:00'), Timestamp('2018-04-28 00:00:00'), Timestamp('2017-03-14 00:00:00'), Timestamp('2011-11-07 00:00:00'), Timestamp('2017-09-25 00:00:00'), Timestamp('2011-12-26 00:00:00'), Timestamp('2017-04-13 00:00:00'), Timestamp('2019-01-27 00:00:00'), Timestamp('2016-06-02 00:00:00'), Timestamp('2016-04-14 00:00:00'), Timestamp('2016-06-21 00:00:00'), Timestamp('2018-10-09 00:00:00'), Timestamp('2014-02-05 00:00:00'), Timestamp('2014-08-04 00:00:00'), Timestamp('2013-02-15 00:00:00'), Timestamp('2016-07-28 00:00:00'), Timestamp('2015-04-22 00:00:00'), Timestamp('2019-01-07 00:00:00'), Timestamp('2019-04-18 00:00:00'), Timestamp('2013-06-16 00:00:00'), Timestamp('2018-06-01 00:00:00'), Timestamp('2011-05-24 00:00:00'), Timestamp('2014-10-27 00:00:00'), Timestamp('2015-01-19 00:00:00'), Timestamp('2011-11-12 00:00:00'), Timestamp('2014-06-25 00:00:00'), Timestamp('2012-06-14 00:00:00'), Timestamp('2012-02-20 00:00:00'), Timestamp('2012-05-14 00:00:00'), Timestamp('2019-01-30 00:00:00'), Timestamp('2013-07-11 00:00:00'), Timestamp('2012-04-19 00:00:00'), Timestamp('2014-06-08 00:00:00'), Timestamp('2017-10-27 00:00:00'), Timestamp('2015-04-20 00:00:00'), Timestamp('2014-02-07 00:00:00'), Timestamp('2018-11-24 00:00:00'), Timestamp('2016-04-12 00:00:00'), Timestamp('2012-04-01 00:00:00'), Timestamp('2016-08-13 00:00:00'), Timestamp('2012-12-19 00:00:00'), Timestamp('2017-07-11 00:00:00'), Timestamp('2017-01-12 00:00:00'), Timestamp('2017-11-25 00:00:00'), Timestamp('2015-10-25 00:00:00'), Timestamp('2017-08-18 00:00:00'), Timestamp('2016-03-06 00:00:00'), Timestamp('2016-03-08 00:00:00'), Timestamp('2019-03-11 00:00:00'), Timestamp('2015-05-11 00:00:00'), Timestamp('2016-05-11 00:00:00'), Timestamp('2018-05-05 00:00:00'), Timestamp('2016-12-10 00:00:00'), Timestamp('2013-01-10 00:00:00'), Timestamp('2015-12-14 00:00:00'), Timestamp('2012-11-28 00:00:00'), Timestamp('2014-05-18 00:00:00'), Timestamp('2016-06-28 00:00:00'), Timestamp('2011-12-09 00:00:00'), Timestamp('2019-03-04 00:00:00'), Timestamp('2012-05-21 00:00:00'), Timestamp('2012-10-03 00:00:00'), Timestamp('2013-07-16 00:00:00'), Timestamp('2013-10-31 00:00:00'), Timestamp('2013-09-23 00:00:00'), Timestamp('2018-04-04 00:00:00'), Timestamp('2017-09-20 00:00:00'), Timestamp('2015-01-13 00:00:00'), Timestamp('2018-10-30 00:00:00'), Timestamp('2019-01-28 00:00:00'), Timestamp('2017-10-02 00:00:00'), Timestamp('2012-07-28 00:00:00'), Timestamp('2018-09-16 00:00:00'), Timestamp('2018-12-25 00:00:00'), Timestamp('2011-11-13 00:00:00'), Timestamp('2018-03-31 00:00:00'), Timestamp('2012-02-26 00:00:00'), Timestamp('2019-03-22 00:00:00'), Timestamp('2016-01-23 00:00:00'), Timestamp('2018-04-01 00:00:00'), Timestamp('2013-04-02 00:00:00'), Timestamp('2016-06-23 00:00:00'), Timestamp('2014-01-22 00:00:00'), Timestamp('2015-02-21 00:00:00'), Timestamp('2016-05-29 00:00:00'), Timestamp('2012-04-17 00:00:00'), Timestamp('2013-12-26 00:00:00'), Timestamp('2016-09-07 00:00:00'), Timestamp('2018-09-25 00:00:00'), Timestamp('2016-05-21 00:00:00'), Timestamp('2017-10-03 00:00:00'), Timestamp('2017-06-18 00:00:00'), Timestamp('2016-09-24 00:00:00'), Timestamp('2014-02-20 00:00:00'), Timestamp('2011-12-14 00:00:00'), Timestamp('2012-03-22 00:00:00'), Timestamp('2016-01-03 00:00:00'), Timestamp('2018-12-21 00:00:00'), Timestamp('2017-11-12 00:00:00'), Timestamp('2015-02-11 00:00:00'), Timestamp('2014-08-13 00:00:00'), Timestamp('2012-02-11 00:00:00'), Timestamp('2014-07-25 00:00:00'), Timestamp('2017-02-11 00:00:00'), Timestamp('2017-11-24 00:00:00'), Timestamp('2018-12-19 00:00:00'), Timestamp('2016-08-02 00:00:00'), Timestamp('2018-09-14 00:00:00'), Timestamp('2015-01-05 00:00:00'), Timestamp('2015-02-02 00:00:00'), Timestamp('2018-12-30 00:00:00'), Timestamp('2014-01-15 00:00:00'), Timestamp('2012-11-04 00:00:00'), Timestamp('2016-02-12 00:00:00'), Timestamp('2014-12-19 00:00:00'), Timestamp('2013-05-20 00:00:00'), Timestamp('2014-08-11 00:00:00'), Timestamp('2016-06-07 00:00:00'), Timestamp('2018-08-14 00:00:00'), Timestamp('2018-01-15 00:00:00'), Timestamp('2015-12-15 00:00:00'), Timestamp('2018-10-08 00:00:00'), Timestamp('2017-11-22 00:00:00'), Timestamp('2015-07-10 00:00:00'), Timestamp('2017-04-19 00:00:00'), Timestamp('2015-11-05 00:00:00'), Timestamp('2013-05-25 00:00:00'), Timestamp('2016-09-21 00:00:00'), Timestamp('2016-04-06 00:00:00'), Timestamp('2015-05-28 00:00:00'), Timestamp('2019-04-14 00:00:00'), Timestamp('2018-11-30 00:00:00'), Timestamp('2015-01-16 00:00:00'), Timestamp('2016-05-07 00:00:00'), Timestamp('2017-10-31 00:00:00'), Timestamp('2016-05-17 00:00:00'), Timestamp('2018-11-03 00:00:00'), Timestamp('2012-08-05 00:00:00'), Timestamp('2019-03-19 00:00:00'), Timestamp('2013-09-24 00:00:00'), Timestamp('2014-11-01 00:00:00'), Timestamp('2015-04-13 00:00:00'), Timestamp('2018-05-18 00:00:00'), Timestamp('2012-08-02 00:00:00'), Timestamp('2017-03-27 00:00:00'), Timestamp('2015-07-20 00:00:00'), Timestamp('2014-09-27 00:00:00'), Timestamp('2013-04-17 00:00:00'), Timestamp('2019-01-12 00:00:00'), Timestamp('2014-08-07 00:00:00'), Timestamp('2017-07-26 00:00:00'), Timestamp('2012-06-06 00:00:00'), Timestamp('2013-10-07 00:00:00'), Timestamp('2016-01-27 00:00:00'), Timestamp('2015-08-10 00:00:00'), Timestamp('2018-12-29 00:00:00'), Timestamp('2014-11-13 00:00:00'), Timestamp('2016-05-30 00:00:00'), Timestamp('2014-10-14 00:00:00'), Timestamp('2014-12-03 00:00:00'), Timestamp('2012-01-26 00:00:00'), Timestamp('2012-12-05 00:00:00'), Timestamp('2018-03-16 00:00:00'), Timestamp('2016-10-30 00:00:00'), Timestamp('2016-08-05 00:00:00'), Timestamp('2017-06-05 00:00:00'), Timestamp('2013-08-05 00:00:00'), Timestamp('2013-09-19 00:00:00'), Timestamp('2015-12-10 00:00:00'), Timestamp('2015-07-04 00:00:00'), Timestamp('2017-08-29 00:00:00'), Timestamp('2017-04-20 00:00:00'), Timestamp('2013-08-30 00:00:00'), Timestamp('2017-03-05 00:00:00'), Timestamp('2017-08-24 00:00:00'), Timestamp('2018-01-01 00:00:00'), Timestamp('2013-12-05 00:00:00'), Timestamp('2015-11-09 00:00:00'), Timestamp('2016-11-13 00:00:00'), Timestamp('2017-12-04 00:00:00'), Timestamp('2012-10-29 00:00:00'), Timestamp('2012-03-29 00:00:00'), Timestamp('2014-04-29 00:00:00'), Timestamp('2015-12-26 00:00:00'), Timestamp('2014-10-04 00:00:00'), Timestamp('2014-10-30 00:00:00'), Timestamp('2018-04-10 00:00:00'), Timestamp('2018-06-12 00:00:00'), Timestamp('2013-01-11 00:00:00'), Timestamp('2017-07-12 00:00:00'), Timestamp('2012-07-30 00:00:00'), Timestamp('2018-06-21 00:00:00'), Timestamp('2015-06-16 00:00:00'), Timestamp('2012-12-17 00:00:00'), Timestamp('2014-05-20 00:00:00'), Timestamp('2015-02-13 00:00:00'), Timestamp('2015-04-11 00:00:00'), Timestamp('2015-08-22 00:00:00'), Timestamp('2016-04-02 00:00:00'), Timestamp('2015-06-03 00:00:00'), Timestamp('2011-04-28 00:00:00'), Timestamp('2017-01-30 00:00:00'), Timestamp('2018-01-25 00:00:00'), Timestamp('2018-03-17 00:00:00'), Timestamp('2013-09-07 00:00:00'), Timestamp('2018-10-02 00:00:00'), Timestamp('2014-03-17 00:00:00'), Timestamp('2013-03-27 00:00:00'), Timestamp('2018-05-30 00:00:00'), Timestamp('2017-12-01 00:00:00'), Timestamp('2016-10-02 00:00:00'), Timestamp('2018-04-15 00:00:00'), Timestamp('2012-06-10 00:00:00'), Timestamp('2013-04-21 00:00:00'), Timestamp('2018-01-29 00:00:00'), Timestamp('2014-07-14 00:00:00'), Timestamp('2017-12-28 00:00:00'), Timestamp('2012-01-24 00:00:00'), Timestamp('2017-08-25 00:00:00'), Timestamp('2012-02-05 00:00:00'), Timestamp('2012-02-06 00:00:00'), Timestamp('2017-05-28 00:00:00'), Timestamp('2014-07-12 00:00:00'), Timestamp('2011-11-01 00:00:00'), Timestamp('2018-01-27 00:00:00'), Timestamp('2016-11-14 00:00:00'), Timestamp('2018-02-19 00:00:00'), Timestamp('2012-12-09 00:00:00'), Timestamp('2012-03-01 00:00:00'), Timestamp('2019-02-23 00:00:00'), Timestamp('2014-06-26 00:00:00'), Timestamp('2017-06-10 00:00:00'), Timestamp('2016-04-07 00:00:00'), Timestamp('2012-02-09 00:00:00'), Timestamp('2016-07-22 00:00:00'), Timestamp('2013-08-31 00:00:00'), Timestamp('2017-06-29 00:00:00'), Timestamp('2013-01-08 00:00:00'), Timestamp('2018-02-27 00:00:00'), Timestamp('2013-09-05 00:00:00'), Timestamp('2015-07-30 00:00:00'), Timestamp('2012-05-24 00:00:00'), Timestamp('2014-10-25 00:00:00'), Timestamp('2018-09-23 00:00:00'), Timestamp('2015-11-18 00:00:00'), Timestamp('2014-11-21 00:00:00'), Timestamp('2016-07-06 00:00:00'), Timestamp('2014-03-19 00:00:00'), Timestamp('2015-11-10 00:00:00'), Timestamp('2017-12-16 00:00:00'), Timestamp('2013-06-09 00:00:00'), Timestamp('2015-06-24 00:00:00'), Timestamp('2015-03-09 00:00:00'), Timestamp('2016-09-06 00:00:00'), Timestamp('2018-09-27 00:00:00'), Timestamp('2015-04-08 00:00:00'), Timestamp('2012-04-06 00:00:00'), Timestamp('2012-05-16 00:00:00'), Timestamp('2014-01-27 00:00:00'), Timestamp('2017-11-06 00:00:00'), Timestamp('2018-03-07 00:00:00'), Timestamp('2012-06-02 00:00:00'), Timestamp('2018-09-19 00:00:00'), Timestamp('2013-10-19 00:00:00'), Timestamp('2012-01-22 00:00:00'), Timestamp('2018-04-24 00:00:00'), Timestamp('2017-07-25 00:00:00'), Timestamp('2012-08-01 00:00:00'), Timestamp('2017-05-01 00:00:00'), Timestamp('2015-02-24 00:00:00'), Timestamp('2013-08-03 00:00:00'), Timestamp('2014-09-12 00:00:00'), Timestamp('2014-02-23 00:00:00'), Timestamp('2013-05-10 00:00:00'), Timestamp('2017-03-06 00:00:00'), Timestamp('2012-11-22 00:00:00'), Timestamp('2015-10-10 00:00:00'), Timestamp('2017-06-02 00:00:00'), Timestamp('2014-08-06 00:00:00'), Timestamp('2015-05-18 00:00:00'), Timestamp('2019-02-12 00:00:00'), Timestamp('2017-06-12 00:00:00'), Timestamp('2019-03-09 00:00:00'), Timestamp('2015-03-04 00:00:00'), Timestamp('2014-07-29 00:00:00'), Timestamp('2015-01-31 00:00:00'), Timestamp('2011-11-08 00:00:00'), Timestamp('2015-01-23 00:00:00'), Timestamp('2015-01-17 00:00:00'), Timestamp('2014-07-21 00:00:00'), Timestamp('2011-11-28 00:00:00'), Timestamp('2015-05-13 00:00:00'), Timestamp('2012-04-08 00:00:00'), Timestamp('2012-07-31 00:00:00'), Timestamp('2012-05-31 00:00:00'), Timestamp('2013-12-09 00:00:00'), Timestamp('2013-07-02 00:00:00'), Timestamp('2016-12-24 00:00:00'), Timestamp('2016-04-05 00:00:00'), Timestamp('2013-09-28 00:00:00'), Timestamp('2015-08-07 00:00:00'), Timestamp('2018-11-20 00:00:00'), Timestamp('2017-09-18 00:00:00'), Timestamp('2014-09-21 00:00:00'), Timestamp('2016-12-25 00:00:00'), Timestamp('2015-06-21 00:00:00'), Timestamp('2014-08-12 00:00:00'), Timestamp('2017-01-22 00:00:00'), Timestamp('2016-01-12 00:00:00'), Timestamp('2015-12-22 00:00:00'), Timestamp('2015-05-06 00:00:00'), Timestamp('2013-10-26 00:00:00'), Timestamp('2013-08-22 00:00:00'), Timestamp('2018-04-03 00:00:00'), Timestamp('2016-12-29 00:00:00'), Timestamp('2011-10-16 00:00:00'), Timestamp('2016-06-14 00:00:00'), Timestamp('2013-02-17 00:00:00'), Timestamp('2013-06-27 00:00:00'), Timestamp('2014-08-05 00:00:00'), Timestamp('2017-08-22 00:00:00'), Timestamp('2015-06-08 00:00:00'), Timestamp('2017-03-19 00:00:00'), Timestamp('2016-08-04 00:00:00'), Timestamp('2016-09-18 00:00:00'), Timestamp('2017-01-06 00:00:00'), Timestamp('2013-09-20 00:00:00'), Timestamp('2017-06-03 00:00:00'), Timestamp('2015-04-06 00:00:00'), Timestamp('2012-01-12 00:00:00'), Timestamp('2011-12-31 00:00:00'), Timestamp('2015-07-16 00:00:00'), Timestamp('2013-07-08 00:00:00'), Timestamp('2014-02-17 00:00:00'), Timestamp('2017-11-04 00:00:00'), Timestamp('2012-03-06 00:00:00'), Timestamp('2017-06-07 00:00:00'), Timestamp('2015-03-20 00:00:00'), Timestamp('2014-01-23 00:00:00'), Timestamp('2015-09-01 00:00:00'), Timestamp('2018-02-11 00:00:00'), Timestamp('2015-09-02 00:00:00'), Timestamp('2019-02-27 00:00:00'), Timestamp('2012-04-16 00:00:00'), Timestamp('2018-08-12 00:00:00'), Timestamp('2014-09-20 00:00:00'), Timestamp('2013-09-25 00:00:00'), Timestamp('2017-05-21 00:00:00'), Timestamp('2012-08-07 00:00:00'), Timestamp('2016-03-11 00:00:00'), Timestamp('2012-02-29 00:00:00'), Timestamp('2013-05-01 00:00:00'), Timestamp('2018-06-29 00:00:00'), Timestamp('2016-03-18 00:00:00'), Timestamp('2012-10-21 00:00:00'), Timestamp('2013-12-11 00:00:00'), Timestamp('2011-12-10 00:00:00'), Timestamp('2017-07-09 00:00:00'), Timestamp('2012-02-17 00:00:00'), Timestamp('2015-06-12 00:00:00'), Timestamp('2017-05-15 00:00:00'), Timestamp('2013-08-27 00:00:00'), Timestamp('2018-01-13 00:00:00'), Timestamp('2018-02-18 00:00:00'), Timestamp('2019-03-25 00:00:00'), Timestamp('2012-12-10 00:00:00'), Timestamp('2015-07-07 00:00:00'), Timestamp('2015-02-20 00:00:00'), Timestamp('2017-05-16 00:00:00'), Timestamp('2016-11-20 00:00:00'), Timestamp('2014-03-25 00:00:00'), Timestamp('2013-11-29 00:00:00'), Timestamp('2017-07-28 00:00:00'), Timestamp('2016-03-03 00:00:00'), Timestamp('2018-01-12 00:00:00'), Timestamp('2017-05-29 00:00:00'), Timestamp('2018-05-28 00:00:00'), Timestamp('2015-09-23 00:00:00'), Timestamp('2016-10-07 00:00:00'), Timestamp('2016-09-02 00:00:00'), Timestamp('2012-12-14 00:00:00'), Timestamp('2015-11-13 00:00:00'), Timestamp('2018-07-03 00:00:00'), Timestamp('2014-09-29 00:00:00'), Timestamp('2017-01-17 00:00:00'), Timestamp('2013-03-24 00:00:00'), Timestamp('2014-02-01 00:00:00'), Timestamp('2014-12-01 00:00:00'), Timestamp('2013-12-23 00:00:00'), Timestamp('2016-07-26 00:00:00'), Timestamp('2014-12-13 00:00:00'), Timestamp('2018-11-10 00:00:00'), Timestamp('2016-02-18 00:00:00'), Timestamp('2018-06-03 00:00:00'), Timestamp('2015-01-20 00:00:00'), Timestamp('2015-02-14 00:00:00'), Timestamp('2015-10-21 00:00:00'), Timestamp('2013-03-06 00:00:00'), Timestamp('2018-01-06 00:00:00'), Timestamp('2015-01-11 00:00:00'), Timestamp('2016-09-26 00:00:00'), Timestamp('2013-06-25 00:00:00'), Timestamp('2014-09-18 00:00:00'), Timestamp('2015-07-15 00:00:00'), Timestamp('2016-04-23 00:00:00'), Timestamp('2013-07-03 00:00:00'), Timestamp('2012-06-15 00:00:00'), Timestamp('2017-01-16 00:00:00'), Timestamp('2018-06-06 00:00:00'), Timestamp('2013-10-22 00:00:00'), Timestamp('2011-10-29 00:00:00'), Timestamp('2017-03-20 00:00:00'), Timestamp('2017-09-08 00:00:00'), Timestamp('2016-11-24 00:00:00'), Timestamp('2012-09-18 00:00:00'), Timestamp('2014-06-12 00:00:00'), Timestamp('2018-12-04 00:00:00'), Timestamp('2012-03-02 00:00:00'), Timestamp('2014-08-01 00:00:00'), Timestamp('2017-10-07 00:00:00'), Timestamp('2012-12-18 00:00:00'), Timestamp('2013-03-26 00:00:00'), Timestamp('2015-06-25 00:00:00'), Timestamp('2019-01-11 00:00:00'), Timestamp('2018-01-05 00:00:00'), Timestamp('2015-01-25 00:00:00'), Timestamp('2012-12-23 00:00:00'), Timestamp('2012-03-10 00:00:00'), Timestamp('2013-03-13 00:00:00'), Timestamp('2014-09-08 00:00:00'), Timestamp('2015-11-14 00:00:00'), Timestamp('2018-06-26 00:00:00'), Timestamp('2017-12-02 00:00:00'), Timestamp('2016-03-29 00:00:00'), Timestamp('2014-07-27 00:00:00'), Timestamp('2011-12-01 00:00:00'), Timestamp('2013-05-24 00:00:00'), Timestamp('2018-05-03 00:00:00'), Timestamp('2012-11-10 00:00:00'), Timestamp('2016-04-22 00:00:00'), Timestamp('2012-12-25 00:00:00'), Timestamp('2013-07-26 00:00:00'), Timestamp('2017-10-24 00:00:00'), Timestamp('2018-05-07 00:00:00'), Timestamp('2018-12-14 00:00:00'), Timestamp('2015-10-23 00:00:00'), Timestamp('2014-07-24 00:00:00'), Timestamp('2018-07-09 00:00:00'), Timestamp('2014-05-07 00:00:00'), Timestamp('2012-07-14 00:00:00'), Timestamp('2015-03-21 00:00:00'), Timestamp('2018-02-10 00:00:00'), Timestamp('2012-07-05 00:00:00'), Timestamp('2014-12-07 00:00:00'), Timestamp('2012-09-13 00:00:00'), Timestamp('2012-05-07 00:00:00'), Timestamp('2017-02-21 00:00:00'), Timestamp('2016-11-22 00:00:00'), Timestamp('2016-12-20 00:00:00'), Timestamp('2014-01-05 00:00:00'), Timestamp('2016-05-22 00:00:00'), Timestamp('2014-12-17 00:00:00'), Timestamp('2015-01-04 00:00:00'), Timestamp('2017-07-23 00:00:00'), Timestamp('2017-10-01 00:00:00'), Timestamp('2019-04-02 00:00:00'), Timestamp('2015-08-11 00:00:00'), Timestamp('2013-08-01 00:00:00'), Timestamp('2019-02-14 00:00:00'), Timestamp('2018-10-16 00:00:00'), Timestamp('2018-06-27 00:00:00'), Timestamp('2014-01-07 00:00:00'), Timestamp('2018-11-04 00:00:00'), Timestamp('2016-03-21 00:00:00'), Timestamp('2016-05-10 00:00:00'), Timestamp('2018-11-25 00:00:00'), Timestamp('2016-02-01 00:00:00'), Timestamp('2014-08-10 00:00:00'), Timestamp('2012-03-25 00:00:00'), Timestamp('2014-08-18 00:00:00'), Timestamp('2017-04-10 00:00:00'), Timestamp('2013-11-09 00:00:00'), Timestamp('2017-07-04 00:00:00'), Timestamp('2018-06-24 00:00:00'), Timestamp('2012-08-03 00:00:00'), Timestamp('2014-03-04 00:00:00'), Timestamp('2019-05-19 00:00:00'), Timestamp('2018-10-27 00:00:00'), Timestamp('2016-05-31 00:00:00'), Timestamp('2012-02-23 00:00:00'), Timestamp('2016-06-06 00:00:00'), Timestamp('2019-03-20 00:00:00'), Timestamp('2014-03-05 00:00:00'), Timestamp('2017-11-13 00:00:00'), Timestamp('2018-04-20 00:00:00'), Timestamp('2015-02-06 00:00:00'), Timestamp('2016-06-15 00:00:00'), Timestamp('2017-09-14 00:00:00'), Timestamp('2019-01-19 00:00:00'), Timestamp('2017-11-20 00:00:00'), Timestamp('2016-06-18 00:00:00'), Timestamp('2018-10-06 00:00:00'), Timestamp('2018-05-10 00:00:00'), Timestamp('2015-08-31 00:00:00'), Timestamp('2019-05-20 00:00:00'), Timestamp('2018-09-03 00:00:00'), Timestamp('2015-05-12 00:00:00'), Timestamp('2015-01-07 00:00:00'), Timestamp('2015-04-19 00:00:00'), Timestamp('2016-07-02 00:00:00'), Timestamp('2019-04-27 00:00:00'), Timestamp('2015-04-14 00:00:00'), Timestamp('2014-06-07 00:00:00'), Timestamp('2016-03-25 00:00:00'), Timestamp('2018-09-02 00:00:00'), Timestamp('2017-04-18 00:00:00'), Timestamp('2012-03-18 00:00:00'), Timestamp('2017-08-20 00:00:00'), Timestamp('2012-05-22 00:00:00'), Timestamp('2015-12-12 00:00:00'), Timestamp('2015-06-05 00:00:00'), Timestamp('2017-02-19 00:00:00'), Timestamp('2014-05-02 00:00:00'), Timestamp('2015-08-23 00:00:00'), Timestamp('2017-02-28 00:00:00'), Timestamp('2016-07-19 00:00:00'), Timestamp('2015-11-11 00:00:00'), Timestamp('2013-06-07 00:00:00'), Timestamp('2017-06-16 00:00:00'), Timestamp('2017-08-21 00:00:00'), Timestamp('2017-08-16 00:00:00'), Timestamp('2013-07-19 00:00:00'), Timestamp('2015-05-23 00:00:00'), Timestamp('2013-02-26 00:00:00'), Timestamp('2012-09-07 00:00:00'), Timestamp('2013-02-08 00:00:00'), Timestamp('2018-07-21 00:00:00'), Timestamp('2017-10-19 00:00:00'), Timestamp('2014-02-08 00:00:00'), Timestamp('2014-11-18 00:00:00'), Timestamp('2015-12-20 00:00:00'), Timestamp('2013-01-19 00:00:00'), Timestamp('2013-05-11 00:00:00'), Timestamp('2016-07-29 00:00:00'), Timestamp('2018-01-09 00:00:00'), Timestamp('2013-10-23 00:00:00'), Timestamp('2017-09-27 00:00:00'), Timestamp('2013-02-25 00:00:00'), Timestamp('2013-11-25 00:00:00'), Timestamp('2015-12-31 00:00:00'), Timestamp('2013-03-22 00:00:00'), Timestamp('2012-05-30 00:00:00'), Timestamp('2013-10-16 00:00:00'), Timestamp('2015-11-30 00:00:00'), Timestamp('2016-03-28 00:00:00'), Timestamp('2016-02-15 00:00:00'), Timestamp('2012-09-08 00:00:00'), Timestamp('2018-02-22 00:00:00'), Timestamp('2017-10-10 00:00:00'), Timestamp('2013-03-07 00:00:00'), Timestamp('2016-06-19 00:00:00'), Timestamp('2013-12-22 00:00:00'), Timestamp('2017-09-10 00:00:00'), Timestamp('2017-02-24 00:00:00'), Timestamp('2018-09-22 00:00:00'), Timestamp('2014-02-24 00:00:00'), Timestamp('2014-07-06 00:00:00'), Timestamp('2018-10-03 00:00:00'), Timestamp('2013-10-09 00:00:00'), Timestamp('2016-11-07 00:00:00'), Timestamp('2017-09-15 00:00:00'), Timestamp('2017-01-10 00:00:00'), Timestamp('2016-01-19 00:00:00'), Timestamp('2013-12-31 00:00:00'), Timestamp('2015-03-10 00:00:00'), Timestamp('2015-08-14 00:00:00'), Timestamp('2017-04-12 00:00:00'), Timestamp('2017-07-20 00:00:00'), Timestamp('2017-06-22 00:00:00'), Timestamp('2018-03-27 00:00:00'), Timestamp('2017-04-02 00:00:00'), Timestamp('2019-01-25 00:00:00'), Timestamp('2015-06-17 00:00:00'), Timestamp('2015-08-09 00:00:00'), Timestamp('2015-06-02 00:00:00'), Timestamp('2017-04-30 00:00:00'), Timestamp('2012-12-07 00:00:00'), Timestamp('2017-02-03 00:00:00'), Timestamp('2017-01-20 00:00:00'), Timestamp('2017-12-12 00:00:00'), Timestamp('2017-07-24 00:00:00'), Timestamp('2018-01-22 00:00:00'), Timestamp('2017-11-07 00:00:00'), Timestamp('2019-05-14 00:00:00'), Timestamp('2015-03-07 00:00:00'), Timestamp('2018-11-08 00:00:00'), Timestamp('2015-09-05 00:00:00'), Timestamp('2014-05-24 00:00:00'), Timestamp('2015-08-03 00:00:00'), Timestamp('2013-04-24 00:00:00'), Timestamp('2017-04-27 00:00:00'), Timestamp('2014-12-25 00:00:00'), Timestamp('2016-08-03 00:00:00'), Timestamp('2017-09-09 00:00:00'), Timestamp('2012-12-13 00:00:00'), Timestamp('2014-12-06 00:00:00'), Timestamp('2016-08-21 00:00:00'), Timestamp('2018-10-07 00:00:00'), Timestamp('2015-12-30 00:00:00'), Timestamp('2015-10-11 00:00:00'), Timestamp('2012-05-19 00:00:00'), Timestamp('2014-02-03 00:00:00'), Timestamp('2014-07-13 00:00:00'), Timestamp('2014-11-12 00:00:00'), Timestamp('2018-03-08 00:00:00'), Timestamp('2013-06-12 00:00:00'), Timestamp('2018-03-13 00:00:00'), Timestamp('2012-02-28 00:00:00'), Timestamp('2013-08-29 00:00:00'), Timestamp('2012-02-08 00:00:00'), Timestamp('2015-04-26 00:00:00'), Timestamp('2019-02-28 00:00:00'), Timestamp('2017-11-01 00:00:00'), Timestamp('2019-04-24 00:00:00'), Timestamp('2012-10-15 00:00:00'), Timestamp('2012-09-01 00:00:00'), Timestamp('2014-01-30 00:00:00'), Timestamp('2018-09-18 00:00:00'), Timestamp('2012-02-16 00:00:00'), Timestamp('2018-07-19 00:00:00'), Timestamp('2012-03-05 00:00:00'), Timestamp('2017-10-20 00:00:00'), Timestamp('2012-04-15 00:00:00'), Timestamp('2017-05-23 00:00:00'), Timestamp('2013-12-08 00:00:00'), Timestamp('2015-03-16 00:00:00'), Timestamp('2012-03-07 00:00:00'), Timestamp('2016-08-18 00:00:00'), Timestamp('2018-03-06 00:00:00'), Timestamp('2013-10-08 00:00:00'), Timestamp('2017-04-25 00:00:00'), Timestamp('2012-03-15 00:00:00'), Timestamp('2014-03-30 00:00:00'), Timestamp('2011-11-18 00:00:00'), Timestamp('2013-01-01 00:00:00'), Timestamp('2013-12-27 00:00:00'), Timestamp('2019-03-30 00:00:00'), Timestamp('2018-02-04 00:00:00'), Timestamp('2012-08-26 00:00:00'), Timestamp('2012-08-16 00:00:00'), Timestamp('2016-10-11 00:00:00'), Timestamp('2016-07-23 00:00:00'), Timestamp('2013-01-23 00:00:00'), Timestamp('2013-07-27 00:00:00'), Timestamp('2017-07-10 00:00:00'), Timestamp('2018-12-11 00:00:00'), Timestamp('2014-04-21 00:00:00'), Timestamp('2013-04-04 00:00:00'), Timestamp('2017-05-17 00:00:00'), Timestamp('2016-09-22 00:00:00'), Timestamp('2011-11-22 00:00:00'), Timestamp('2017-11-15 00:00:00'), Timestamp('2013-03-08 00:00:00'), Timestamp('2018-07-29 00:00:00'), Timestamp('2015-06-13 00:00:00'), Timestamp('2016-10-31 00:00:00'), Timestamp('2015-10-16 00:00:00'), Timestamp('2017-08-01 00:00:00'), Timestamp('2012-07-11 00:00:00'), Timestamp('2013-05-08 00:00:00'), Timestamp('2014-01-20 00:00:00'), Timestamp('2019-03-12 00:00:00'), Timestamp('2012-10-16 00:00:00'), Timestamp('2018-09-26 00:00:00'), Timestamp('2012-04-02 00:00:00'), Timestamp('2012-07-04 00:00:00'), Timestamp('2019-02-10 00:00:00'), Timestamp('2013-03-09 00:00:00'), Timestamp('2018-07-14 00:00:00'), Timestamp('2014-06-30 00:00:00'), Timestamp('2017-05-07 00:00:00'), Timestamp('2018-01-28 00:00:00'), Timestamp('2016-10-18 00:00:00'), Timestamp('2014-03-08 00:00:00'), Timestamp('2018-08-23 00:00:00'), Timestamp('2017-12-19 00:00:00'), Timestamp('2012-08-22 00:00:00'), Timestamp('2016-04-01 00:00:00'), Timestamp('2016-08-28 00:00:00'), Timestamp('2014-08-16 00:00:00'), Timestamp('2012-02-10 00:00:00'), Timestamp('2016-04-03 00:00:00'), Timestamp('2013-03-12 00:00:00'), Timestamp('2017-07-30 00:00:00'), Timestamp('2018-11-18 00:00:00'), Timestamp('2016-09-16 00:00:00'), Timestamp('2013-08-12 00:00:00'), Timestamp('2015-02-22 00:00:00'), Timestamp('2012-03-28 00:00:00'), Timestamp('2011-12-06 00:00:00'), Timestamp('2016-09-20 00:00:00'), Timestamp('2013-08-10 00:00:00'), Timestamp('2012-06-05 00:00:00'), Timestamp('2014-10-06 00:00:00'), Timestamp('2015-03-22 00:00:00'), Timestamp('2013-07-05 00:00:00'), Timestamp('2015-08-08 00:00:00'), Timestamp('2011-11-05 00:00:00'), Timestamp('2016-03-01 00:00:00'), Timestamp('2015-07-01 00:00:00'), Timestamp('2012-02-24 00:00:00'), Timestamp('2017-09-17 00:00:00'), Timestamp('2012-05-01 00:00:00'), Timestamp('2014-09-26 00:00:00'), Timestamp('2018-04-06 00:00:00'), Timestamp('2019-01-08 00:00:00'), Timestamp('2014-11-30 00:00:00'), Timestamp('2015-09-30 00:00:00'), Timestamp('2013-11-27 00:00:00'), Timestamp('2014-10-18 00:00:00'), Timestamp('2013-08-26 00:00:00'), Timestamp('2018-10-12 00:00:00'), Timestamp('2015-03-28 00:00:00'), Timestamp('2017-01-26 00:00:00'), Timestamp('2016-12-02 00:00:00'), Timestamp('2016-10-14 00:00:00'), Timestamp('2016-10-25 00:00:00'), Timestamp('2018-02-21 00:00:00'), Timestamp('2015-06-07 00:00:00'), Timestamp('2014-09-10 00:00:00'), Timestamp('2017-02-26 00:00:00'), Timestamp('2015-08-16 00:00:00'), Timestamp('2018-05-06 00:00:00'), Timestamp('2013-02-12 00:00:00'), Timestamp('2017-07-19 00:00:00'), Timestamp('2014-06-05 00:00:00'), Timestamp('2019-01-22 00:00:00'), Timestamp('2018-04-08 00:00:00'), Timestamp('2015-01-10 00:00:00'), Timestamp('2011-11-25 00:00:00'), Timestamp('2018-02-06 00:00:00'), Timestamp('2012-10-30 00:00:00'), Timestamp('2012-12-04 00:00:00'), Timestamp('2014-10-01 00:00:00'), Timestamp('2018-05-20 00:00:00'), Timestamp('2015-05-04 00:00:00'), Timestamp('2017-05-18 00:00:00'), Timestamp('2018-02-09 00:00:00'), Timestamp('2013-05-15 00:00:00'), Timestamp('2016-03-23 00:00:00'), Timestamp('2012-09-11 00:00:00'), Timestamp('2012-11-29 00:00:00'), Timestamp('2018-01-20 00:00:00'), Timestamp('2014-12-28 00:00:00'), Timestamp('2015-04-15 00:00:00'), Timestamp('2014-03-31 00:00:00'), Timestamp('2018-11-29 00:00:00'), Timestamp('2016-05-09 00:00:00'), Timestamp('2019-04-23 00:00:00'), Timestamp('2012-03-23 00:00:00'), Timestamp('2015-06-28 00:00:00'), Timestamp('2013-11-05 00:00:00'), Timestamp('2016-09-19 00:00:00'), Timestamp('2017-01-04 00:00:00'), Timestamp('2018-08-06 00:00:00'), Timestamp('2016-07-07 00:00:00'), Timestamp('2017-06-27 00:00:00'), Timestamp('2015-06-27 00:00:00'), Timestamp('2018-01-17 00:00:00'), Timestamp('2013-11-11 00:00:00'), Timestamp('2012-10-14 00:00:00'), Timestamp('2014-05-14 00:00:00'), Timestamp('2015-07-24 00:00:00'), Timestamp('2018-01-19 00:00:00'), Timestamp('2016-04-20 00:00:00'), Timestamp('2014-04-11 00:00:00'), Timestamp('2018-03-25 00:00:00'), Timestamp('2016-06-04 00:00:00'), Timestamp('2015-07-21 00:00:00'), Timestamp('2018-05-12 00:00:00'), Timestamp('2017-08-19 00:00:00'), Timestamp('2013-04-12 00:00:00'), Timestamp('2016-11-23 00:00:00'), Timestamp('2014-06-24 00:00:00'), Timestamp('2015-07-26 00:00:00'), Timestamp('2018-10-05 00:00:00'), Timestamp('2019-04-08 00:00:00'), Timestamp('2015-04-24 00:00:00'), Timestamp('2013-02-28 00:00:00'), Timestamp('2012-01-10 00:00:00'), Timestamp('2016-11-04 00:00:00'), Timestamp('2015-12-03 00:00:00'), Timestamp('2013-03-11 00:00:00'), Timestamp('2013-10-03 00:00:00'), Timestamp('2016-11-19 00:00:00'), Timestamp('2013-12-30 00:00:00'), Timestamp('2012-03-14 00:00:00'), Timestamp('2019-02-04 00:00:00'), Timestamp('2015-11-03 00:00:00'), Timestamp('2014-05-29 00:00:00'), Timestamp('2017-03-08 00:00:00'), Timestamp('2018-04-17 00:00:00'), Timestamp('2016-10-04 00:00:00'), Timestamp('2018-10-14 00:00:00'), Timestamp('2015-02-10 00:00:00'), Timestamp('2014-09-17 00:00:00'), Timestamp('2016-07-04 00:00:00'), Timestamp('2016-05-02 00:00:00'), Timestamp('2013-11-30 00:00:00'), Timestamp('2017-02-17 00:00:00'), Timestamp('2015-06-04 00:00:00'), Timestamp('2016-10-15 00:00:00'), Timestamp('2012-03-27 00:00:00'), Timestamp('2016-02-24 00:00:00'), Timestamp('2016-10-20 00:00:00'), Timestamp('2016-10-10 00:00:00'), Timestamp('2017-09-05 00:00:00'), Timestamp('2018-03-22 00:00:00'), Timestamp('2016-06-10 00:00:00'), Timestamp('2013-10-17 00:00:00'), Timestamp('2012-05-04 00:00:00'), Timestamp('2017-04-05 00:00:00'), Timestamp('2018-06-15 00:00:00'), Timestamp('2015-10-20 00:00:00'), Timestamp('2012-01-25 00:00:00'), Timestamp('2015-08-02 00:00:00'), Timestamp('2017-04-21 00:00:00'), Timestamp('2016-03-24 00:00:00'), Timestamp('2014-06-01 00:00:00'), Timestamp('2017-08-09 00:00:00'), Timestamp('2017-03-10 00:00:00'), Timestamp('2012-01-09 00:00:00'), Timestamp('2016-04-27 00:00:00'), Timestamp('2012-06-11 00:00:00'), Timestamp('2014-12-11 00:00:00'), Timestamp('2016-02-11 00:00:00'), Timestamp('2013-03-21 00:00:00'), Timestamp('2016-07-30 00:00:00'), Timestamp('2016-09-13 00:00:00'), Timestamp('2017-06-20 00:00:00'), Timestamp('2012-01-27 00:00:00'), Timestamp('2016-12-09 00:00:00'), Timestamp('2016-05-04 00:00:00'), Timestamp('2016-03-30 00:00:00'), Timestamp('2016-02-16 00:00:00'), Timestamp('2018-02-17 00:00:00'), Timestamp('2012-09-21 00:00:00'), Timestamp('2016-06-03 00:00:00'), Timestamp('2013-12-25 00:00:00'), Timestamp('2015-03-24 00:00:00'), Timestamp('2018-10-26 00:00:00'), Timestamp('2014-03-27 00:00:00'), Timestamp('2017-07-01 00:00:00'), Timestamp('2019-01-02 00:00:00'), Timestamp('2018-12-20 00:00:00'), Timestamp('2017-02-15 00:00:00'), Timestamp('2015-01-18 00:00:00'), Timestamp('2016-11-18 00:00:00'), Timestamp('2016-10-19 00:00:00'), Timestamp('2016-03-02 00:00:00'), Timestamp('2017-01-21 00:00:00'), Timestamp('2016-04-21 00:00:00'), Timestamp('2012-04-24 00:00:00'), Timestamp('2017-12-11 00:00:00'), Timestamp('2017-05-04 00:00:00'), Timestamp('2013-07-07 00:00:00'), Timestamp('2012-08-17 00:00:00'), Timestamp('2016-11-01 00:00:00'), Timestamp('2013-01-07 00:00:00'), Timestamp('2014-09-22 00:00:00'), Timestamp('2012-12-02 00:00:00'), Timestamp('2015-02-18 00:00:00'), Timestamp('2013-10-24 00:00:00'), Timestamp('2015-09-12 00:00:00'), Timestamp('2017-03-26 00:00:00'), Timestamp('2013-06-15 00:00:00'), Timestamp('2013-06-11 00:00:00'), Timestamp('2016-02-28 00:00:00'), Timestamp('2016-02-08 00:00:00'), Timestamp('2016-03-19 00:00:00'), Timestamp('2016-05-20 00:00:00'), Timestamp('2014-04-09 00:00:00'), Timestamp('2014-07-10 00:00:00'), Timestamp('2017-11-10 00:00:00'), Timestamp('2018-06-04 00:00:00'), Timestamp('2017-04-11 00:00:00'), Timestamp('2018-03-29 00:00:00'), Timestamp('2014-12-23 00:00:00'), Timestamp('2016-08-15 00:00:00'), Timestamp('2012-08-08 00:00:00'), Timestamp('2018-11-06 00:00:00'), Timestamp('2018-02-05 00:00:00'), Timestamp('2018-01-04 00:00:00'), Timestamp('2018-12-16 00:00:00'), Timestamp('2014-02-18 00:00:00'), Timestamp('2012-09-23 00:00:00'), Timestamp('2017-03-04 00:00:00'), Timestamp('2012-11-11 00:00:00'), Timestamp('2014-06-18 00:00:00'), Timestamp('2016-12-17 00:00:00'), Timestamp('2015-06-06 00:00:00'), Timestamp('2017-03-11 00:00:00'), Timestamp('2013-06-30 00:00:00'), Timestamp('2016-04-26 00:00:00'), Timestamp('2014-11-10 00:00:00'), Timestamp('2016-04-29 00:00:00'), Timestamp('2016-02-26 00:00:00'), Timestamp('2015-08-21 00:00:00'), Timestamp('2016-05-05 00:00:00'), Timestamp('2018-01-30 00:00:00'), Timestamp('2017-02-02 00:00:00'), Timestamp('2019-03-18 00:00:00'), Timestamp('2014-07-30 00:00:00'), Timestamp('2017-07-05 00:00:00'), Timestamp('2015-05-15 00:00:00'), Timestamp('2016-04-17 00:00:00'), Timestamp('2014-11-15 00:00:00'), Timestamp('2013-09-27 00:00:00'), Timestamp('2016-03-26 00:00:00'), Timestamp('2015-05-03 00:00:00'), Timestamp('2019-01-17 00:00:00'), Timestamp('2013-11-12 00:00:00'), Timestamp('2018-08-19 00:00:00'), Timestamp('2017-03-29 00:00:00'), Timestamp('2012-01-18 00:00:00'), Timestamp('2015-10-02 00:00:00'), Timestamp('2018-10-29 00:00:00'), Timestamp('2014-03-10 00:00:00'), Timestamp('2011-06-03 00:00:00'), Timestamp('2014-08-24 00:00:00'), Timestamp('2013-03-28 00:00:00'), Timestamp('2014-06-27 00:00:00'), Timestamp('2016-04-19 00:00:00'), Timestamp('2016-12-08 00:00:00'), Timestamp('2017-06-15 00:00:00'), Timestamp('2016-11-25 00:00:00'), Timestamp('2011-11-17 00:00:00'), Timestamp('2015-10-31 00:00:00'), Timestamp('2012-09-03 00:00:00'), Timestamp('2014-01-04 00:00:00'), Timestamp('2013-04-18 00:00:00'), Timestamp('2015-05-27 00:00:00'), Timestamp('2016-06-29 00:00:00'), Timestamp('2018-04-02 00:00:00'), Timestamp('2012-06-21 00:00:00'), Timestamp('2016-10-05 00:00:00'), Timestamp('2017-11-23 00:00:00'), Timestamp('2012-08-19 00:00:00'), Timestamp('2014-12-20 00:00:00'), Timestamp('2014-01-16 00:00:00'), Timestamp('2017-12-05 00:00:00'), Timestamp('2018-05-04 00:00:00'), Timestamp('2017-04-15 00:00:00'), Timestamp('2018-09-06 00:00:00'), Timestamp('2019-01-16 00:00:00'), Timestamp('2015-08-15 00:00:00'), Timestamp('2018-07-26 00:00:00'), Timestamp('2012-11-07 00:00:00'), Timestamp('2012-11-13 00:00:00'), Timestamp('2019-02-02 00:00:00'), Timestamp('2012-12-26 00:00:00'), Timestamp('2018-03-03 00:00:00'), Timestamp('2013-10-12 00:00:00'), Timestamp('2014-11-09 00:00:00'), Timestamp('2016-08-01 00:00:00'), Timestamp('2017-04-22 00:00:00'), Timestamp('2012-04-30 00:00:00'), Timestamp('2017-05-02 00:00:00'), Timestamp('2016-05-27 00:00:00'), Timestamp('2014-04-25 00:00:00'), Timestamp('2019-03-14 00:00:00'), Timestamp('2013-01-15 00:00:00'), Timestamp('2016-03-05 00:00:00'), Timestamp('2013-10-01 00:00:00'), Timestamp('2011-12-22 00:00:00'), Timestamp('2014-06-29 00:00:00'), Timestamp('2016-04-10 00:00:00'), Timestamp('2015-04-03 00:00:00'), Timestamp('2015-01-26 00:00:00'), Timestamp('2017-06-25 00:00:00'), Timestamp('2012-08-29 00:00:00'), Timestamp('2018-12-01 00:00:00'), Timestamp('2015-11-21 00:00:00'), Timestamp('2016-12-01 00:00:00'), Timestamp('2017-10-30 00:00:00'), Timestamp('2015-08-01 00:00:00'), Timestamp('2013-04-15 00:00:00'), Timestamp('2013-09-29 00:00:00'), Timestamp('2014-01-03 00:00:00'), Timestamp('2015-07-12 00:00:00'), Timestamp('2015-03-11 00:00:00'), Timestamp('2018-08-07 00:00:00'), Timestamp('2014-05-21 00:00:00'), Timestamp('2013-07-06 00:00:00'), Timestamp('2014-12-05 00:00:00'), Timestamp('2019-03-15 00:00:00'), Timestamp('2012-03-03 00:00:00'), Timestamp('2012-07-16 00:00:00'), Timestamp('2019-02-19 00:00:00'), Timestamp('2013-03-17 00:00:00'), Timestamp('2014-06-10 00:00:00'), Timestamp('2018-05-25 00:00:00'), Timestamp('2014-11-05 00:00:00'), Timestamp('2015-09-21 00:00:00'), Timestamp('2014-08-20 00:00:00'), Timestamp('2015-01-27 00:00:00'), Timestamp('2012-05-25 00:00:00'), Timestamp('2013-05-27 00:00:00'), Timestamp('2013-06-17 00:00:00'), Timestamp('2014-04-26 00:00:00'), Timestamp('2014-05-28 00:00:00'), Timestamp('2017-10-23 00:00:00'), Timestamp('2013-11-03 00:00:00'), Timestamp('2016-01-01 00:00:00'), Timestamp('2016-03-04 00:00:00'), Timestamp('2018-08-05 00:00:00'), Timestamp('2018-03-02 00:00:00'), Timestamp('2014-06-11 00:00:00'), Timestamp('2017-11-03 00:00:00'), Timestamp('2015-12-07 00:00:00'), Timestamp('2017-04-07 00:00:00'), Timestamp('2016-10-09 00:00:00'), Timestamp('2017-08-13 00:00:00'), Timestamp('2013-05-19 00:00:00'), Timestamp('2016-01-15 00:00:00'), Timestamp('2013-01-14 00:00:00'), Timestamp('2012-08-13 00:00:00'), Timestamp('2017-04-16 00:00:00'), Timestamp('2019-04-25 00:00:00'), Timestamp('2015-03-23 00:00:00'), Timestamp('2012-06-24 00:00:00'), Timestamp('2014-01-26 00:00:00'), Timestamp('2013-09-06 00:00:00'), Timestamp('2015-02-23 00:00:00'), Timestamp('2018-11-22 00:00:00'), Timestamp('2015-07-19 00:00:00'), Timestamp('2018-09-12 00:00:00'), Timestamp('2015-12-06 00:00:00'), Timestamp('2015-01-09 00:00:00'), Timestamp('2014-08-28 00:00:00'), Timestamp('2018-12-28 00:00:00'), Timestamp('2019-03-27 00:00:00'), Timestamp('2018-04-13 00:00:00'), Timestamp('2016-12-31 00:00:00'), Timestamp('2013-07-25 00:00:00'), Timestamp('2017-09-13 00:00:00'), Timestamp('2016-02-20 00:00:00'), Timestamp('2015-04-12 00:00:00'), Timestamp('2017-01-02 00:00:00'), Timestamp('2014-06-06 00:00:00'), Timestamp('2018-05-08 00:00:00'), Timestamp('2018-03-05 00:00:00'), Timestamp('2018-07-12 00:00:00'), Timestamp('2014-09-06 00:00:00'), Timestamp('2018-07-31 00:00:00'), Timestamp('2015-11-02 00:00:00'), Timestamp('2013-04-05 00:00:00'), Timestamp('2018-10-19 00:00:00'), Timestamp('2017-06-09 00:00:00'), Timestamp('2018-04-11 00:00:00'), Timestamp('2018-08-29 00:00:00'), Timestamp('2013-08-14 00:00:00'), Timestamp('2017-12-09 00:00:00'), Timestamp('2017-03-23 00:00:00'), Timestamp('2018-08-21 00:00:00'), Timestamp('2017-03-18 00:00:00'), Timestamp('2019-05-02 00:00:00'), Timestamp('2014-06-22 00:00:00'), Timestamp('2014-06-13 00:00:00'), Timestamp('2016-01-21 00:00:00'), Timestamp('2014-07-17 00:00:00'), Timestamp('2016-07-12 00:00:00'), Timestamp('2012-01-29 00:00:00'), Timestamp('2018-07-08 00:00:00'), Timestamp('2013-08-09 00:00:00'), Timestamp('2012-04-07 00:00:00'), Timestamp('2017-04-28 00:00:00'), Timestamp('2017-11-16 00:00:00'), Timestamp('2016-10-17 00:00:00'), Timestamp('2016-08-10 00:00:00'), Timestamp('2015-02-17 00:00:00'), Timestamp('2014-09-19 00:00:00'), Timestamp('2015-11-16 00:00:00'), Timestamp('2016-07-16 00:00:00'), Timestamp('2016-10-27 00:00:00'), Timestamp('2015-10-07 00:00:00'), Timestamp('2015-11-28 00:00:00'), Timestamp('2012-02-21 00:00:00'), Timestamp('2019-03-08 00:00:00'), Timestamp('2014-09-15 00:00:00'), Timestamp('2018-10-31 00:00:00'), Timestamp('2015-03-06 00:00:00'), Timestamp('2014-06-15 00:00:00'), Timestamp('2015-06-20 00:00:00'), Timestamp('2014-01-11 00:00:00'), Timestamp('2017-12-23 00:00:00'), Timestamp('2016-11-02 00:00:00'), Timestamp('2014-06-17 00:00:00'), Timestamp('2018-07-28 00:00:00'), Timestamp('2012-11-20 00:00:00'), Timestamp('2012-09-10 00:00:00'), Timestamp('2015-06-11 00:00:00'), Timestamp('2016-09-04 00:00:00'), Timestamp('2018-11-07 00:00:00'), Timestamp('2018-06-08 00:00:00'), Timestamp('2012-01-21 00:00:00'), Timestamp('2017-10-15 00:00:00'), Timestamp('2019-04-22 00:00:00'), Timestamp('2012-04-28 00:00:00'), Timestamp('2012-01-07 00:00:00'), Timestamp('2013-11-13 00:00:00'), Timestamp('2017-10-04 00:00:00'), Timestamp('2015-10-19 00:00:00'), Timestamp('2012-03-17 00:00:00'), Timestamp('2015-09-16 00:00:00'), Timestamp('2018-02-02 00:00:00'), Timestamp('2015-10-09 00:00:00'), Timestamp('2013-10-06 00:00:00'), Timestamp('2016-10-29 00:00:00'), Timestamp('2014-05-31 00:00:00'), Timestamp('2019-05-30 00:00:00'), Timestamp('2013-07-23 00:00:00'), Timestamp('2012-10-26 00:00:00'), Timestamp('2012-04-12 00:00:00'), Timestamp('2012-01-11 00:00:00'), Timestamp('2017-12-10 00:00:00'), Timestamp('2018-04-14 00:00:00'), Timestamp('2017-04-03 00:00:00'), Timestamp('2019-01-31 00:00:00'), Timestamp('2015-07-18 00:00:00'), Timestamp('2014-12-30 00:00:00'), Timestamp('2014-12-16 00:00:00'), Timestamp('2018-02-28 00:00:00'), Timestamp('2016-01-18 00:00:00'), Timestamp('2018-04-26 00:00:00'), Timestamp('2014-04-24 00:00:00'), Timestamp('2016-07-01 00:00:00'), Timestamp('2015-01-21 00:00:00'), Timestamp('2014-08-31 00:00:00'), Timestamp('2015-03-26 00:00:00'), Timestamp('2015-02-05 00:00:00'), Timestamp('2014-07-09 00:00:00'), Timestamp('2013-08-06 00:00:00'), Timestamp('2014-01-02 00:00:00'), Timestamp('2017-08-11 00:00:00'), Timestamp('2015-01-08 00:00:00'), Timestamp('2015-10-03 00:00:00'), Timestamp('2011-11-14 00:00:00'), Timestamp('2015-02-15 00:00:00'), Timestamp('2012-05-28 00:00:00'), Timestamp('2015-04-09 00:00:00'), Timestamp('2013-11-08 00:00:00'), Timestamp('2013-08-02 00:00:00'), Timestamp('2013-04-08 00:00:00'), Timestamp('2014-02-11 00:00:00'), Timestamp('2018-01-21 00:00:00'), Timestamp('2015-04-18 00:00:00'), Timestamp('2017-11-21 00:00:00'), Timestamp('2019-03-06 00:00:00'), Timestamp('2013-01-28 00:00:00'), Timestamp('2012-08-28 00:00:00'), Timestamp('2018-12-06 00:00:00'), Timestamp('2016-06-26 00:00:00'), Timestamp('2018-01-24 00:00:00'), Timestamp('2012-10-20 00:00:00'), Timestamp('2019-01-05 00:00:00'), Timestamp('2013-11-14 00:00:00'), Timestamp('2014-12-09 00:00:00'), Timestamp('2017-07-16 00:00:00'), Timestamp('2016-12-16 00:00:00'), Timestamp('2018-02-08 00:00:00'), Timestamp('2017-05-08 00:00:00'), Timestamp('2015-07-02 00:00:00'), Timestamp('2018-12-09 00:00:00'), Timestamp('2018-07-18 00:00:00'), Timestamp('2015-11-19 00:00:00'), Timestamp('2016-04-13 00:00:00'), Timestamp('2019-03-31 00:00:00'), Timestamp('2014-12-12 00:00:00'), Timestamp('2014-10-10 00:00:00'), Timestamp('2015-08-27 00:00:00'), Timestamp('2014-08-23 00:00:00'), Timestamp('2014-10-23 00:00:00'), Timestamp('2014-02-19 00:00:00'), Timestamp('2014-09-23 00:00:00'), Timestamp('2012-04-05 00:00:00'), Timestamp('2019-03-23 00:00:00'), Timestamp('2016-04-08 00:00:00'), Timestamp('2018-03-20 00:00:00'), Timestamp('2012-07-26 00:00:00'), Timestamp('2013-05-03 00:00:00'), Timestamp('2013-11-06 00:00:00'), Timestamp('2013-02-10 00:00:00'), Timestamp('2012-06-22 00:00:00'), Timestamp('2018-01-23 00:00:00'), Timestamp('2015-07-25 00:00:00'), Timestamp('2012-05-02 00:00:00'), Timestamp('2015-11-25 00:00:00'), Timestamp('2018-02-03 00:00:00'), Timestamp('2018-08-08 00:00:00'), Timestamp('2017-08-26 00:00:00'), Timestamp('2014-03-13 00:00:00'), Timestamp('2017-12-20 00:00:00'), Timestamp('2013-07-14 00:00:00'), Timestamp('2015-10-04 00:00:00'), Timestamp('2012-09-20 00:00:00'), Timestamp('2014-01-08 00:00:00'), Timestamp('2014-04-18 00:00:00'), Timestamp('2015-04-25 00:00:00'), Timestamp('2015-05-01 00:00:00'), Timestamp('2018-04-25 00:00:00'), Timestamp('2014-03-11 00:00:00'), Timestamp('2017-02-12 00:00:00'), Timestamp('2011-12-21 00:00:00'), Timestamp('2016-08-09 00:00:00'), Timestamp('2017-06-28 00:00:00'), Timestamp('2018-03-21 00:00:00'), Timestamp('2012-08-10 00:00:00'), Timestamp('2016-05-06 00:00:00'), Timestamp('2018-01-18 00:00:00'), Timestamp('2016-05-16 00:00:00'), Timestamp('2017-09-01 00:00:00'), Timestamp('2014-02-14 00:00:00'), Timestamp('2017-09-22 00:00:00'), Timestamp('2014-02-21 00:00:00'), Timestamp('2015-12-02 00:00:00'), Timestamp('2014-06-23 00:00:00'), Timestamp('2013-05-05 00:00:00'), Timestamp('2014-04-17 00:00:00'), Timestamp('2018-05-02 00:00:00'), Timestamp('2018-04-22 00:00:00'), Timestamp('2015-10-22 00:00:00'), Timestamp('2013-03-19 00:00:00'), Timestamp('2015-11-29 00:00:00'), Timestamp('2017-09-07 00:00:00'), Timestamp('2018-04-18 00:00:00'), Timestamp('2015-01-29 00:00:00'), Timestamp('2018-08-13 00:00:00'), Timestamp('2012-08-14 00:00:00'), Timestamp('2016-08-16 00:00:00'), Timestamp('2017-07-03 00:00:00'), Timestamp('2018-10-20 00:00:00'), Timestamp('2016-03-09 00:00:00'), Timestamp('2015-03-01 00:00:00'), Timestamp('2017-04-24 00:00:00'), Timestamp('2015-04-21 00:00:00'), Timestamp('2012-07-13 00:00:00'), Timestamp('2013-08-07 00:00:00'), Timestamp('2017-08-27 00:00:00'), Timestamp('2014-12-02 00:00:00'), Timestamp('2015-06-10 00:00:00'), Timestamp('2018-09-04 00:00:00'), Timestamp('2018-06-09 00:00:00'), Timestamp('2014-02-13 00:00:00'), Timestamp('2012-12-16 00:00:00'), Timestamp('2019-01-06 00:00:00'), Timestamp('2018-04-16 00:00:00'), Timestamp('2014-12-04 00:00:00'), Timestamp('2017-08-08 00:00:00'), Timestamp('2014-07-16 00:00:00'), Timestamp('2015-03-18 00:00:00'), Timestamp('2016-12-07 00:00:00'), Timestamp('2016-01-14 00:00:00'), Timestamp('2016-08-29 00:00:00'), Timestamp('2013-02-24 00:00:00'), Timestamp('2012-04-27 00:00:00'), Timestamp('2011-12-30 00:00:00'), Timestamp('2015-12-11 00:00:00'), Timestamp('2018-06-22 00:00:00'), Timestamp('2013-01-22 00:00:00'), Timestamp('2015-09-09 00:00:00'), Timestamp('2017-05-22 00:00:00'), Timestamp('2015-11-08 00:00:00'), Timestamp('2012-03-21 00:00:00'), Timestamp('2012-09-30 00:00:00'), Timestamp('2016-10-28 00:00:00'), Timestamp('2016-02-13 00:00:00'), Timestamp('2014-11-08 00:00:00'), Timestamp('2017-08-23 00:00:00'), Timestamp('2012-10-27 00:00:00'), Timestamp('2013-11-20 00:00:00'), Timestamp('2014-05-30 00:00:00'), Timestamp('2018-05-16 00:00:00'), Timestamp('2015-10-17 00:00:00'), Timestamp('2012-06-16 00:00:00'), Timestamp('2012-05-11 00:00:00'), Timestamp('2013-02-06 00:00:00'), Timestamp('2014-08-25 00:00:00'), Timestamp('2019-01-04 00:00:00'), Timestamp('2017-12-08 00:00:00'), Timestamp('2018-06-30 00:00:00'), Timestamp('2012-08-12 00:00:00'), Timestamp('2015-09-18 00:00:00'), Timestamp('2017-07-27 00:00:00'), Timestamp('2016-03-16 00:00:00'), Timestamp('2018-03-26 00:00:00'), Timestamp('2018-11-02 00:00:00'), Timestamp('2017-08-07 00:00:00'), Timestamp('2017-01-31 00:00:00'), Timestamp('2018-03-14 00:00:00'), Timestamp('2018-03-01 00:00:00'), Timestamp('2018-04-27 00:00:00'), Timestamp('2013-06-20 00:00:00'), Timestamp('2019-01-15 00:00:00'), Timestamp('2017-09-28 00:00:00'), Timestamp('2018-08-03 00:00:00'), Timestamp('2017-11-19 00:00:00'), Timestamp('2013-04-25 00:00:00'), Timestamp('2016-06-25 00:00:00'), Timestamp('2011-11-03 00:00:00'), Timestamp('2015-03-02 00:00:00'), Timestamp('2015-11-24 00:00:00'), Timestamp('2017-12-03 00:00:00'), Timestamp('2012-11-01 00:00:00'), Timestamp('2012-11-18 00:00:00'), Timestamp('2016-06-09 00:00:00'), Timestamp('2014-03-20 00:00:00'), Timestamp('2017-04-26 00:00:00'), Timestamp('2018-08-17 00:00:00'), Timestamp('2012-04-21 00:00:00'), Timestamp('2014-09-07 00:00:00'), Timestamp('2017-06-14 00:00:00'), Timestamp('2018-03-12 00:00:00'), Timestamp('2014-10-16 00:00:00'), Timestamp('2013-09-12 00:00:00'), Timestamp('2018-11-16 00:00:00'), Timestamp('2017-02-22 00:00:00'), Timestamp('2014-12-15 00:00:00'), Timestamp('2014-05-15 00:00:00'), Timestamp('2018-04-21 00:00:00'), Timestamp('2015-02-19 00:00:00'), Timestamp('2017-11-05 00:00:00'), Timestamp('2017-03-16 00:00:00'), Timestamp('2018-05-21 00:00:00'), Timestamp('2014-12-24 00:00:00'), Timestamp('2017-10-06 00:00:00'), Timestamp('2014-03-15 00:00:00'), Timestamp('2016-01-28 00:00:00'), Timestamp('2017-05-25 00:00:00'), Timestamp('2018-08-01 00:00:00'), Timestamp('2012-10-06 00:00:00'), Timestamp('2013-09-13 00:00:00'), Timestamp('2012-06-25 00:00:00'), Timestamp('2018-11-27 00:00:00'), Timestamp('2014-11-20 00:00:00'), Timestamp('2018-11-19 00:00:00'), Timestamp('2013-02-03 00:00:00'), Timestamp('2017-07-13 00:00:00'), Timestamp('2018-05-15 00:00:00'), Timestamp('2016-10-23 00:00:00'), Timestamp('2018-04-05 00:00:00'), Timestamp('2012-03-08 00:00:00'), Timestamp('2013-04-20 00:00:00'), Timestamp('2017-10-13 00:00:00'), Timestamp('2017-10-17 00:00:00'), Timestamp('2019-02-11 00:00:00'), Timestamp('2013-09-30 00:00:00'), Timestamp('2015-05-07 00:00:00'), Timestamp('2012-02-15 00:00:00'), Timestamp('2018-11-21 00:00:00'), Timestamp('2014-12-31 00:00:00'), Timestamp('2015-04-10 00:00:00'), Timestamp('2016-09-25 00:00:00'), Timestamp('2016-09-29 00:00:00'), Timestamp('2017-09-16 00:00:00'), Timestamp('2012-01-04 00:00:00'), Timestamp('2014-07-18 00:00:00'), Timestamp('2018-11-26 00:00:00'), Timestamp('2011-11-16 00:00:00'), Timestamp('2019-01-21 00:00:00'), Timestamp('2011-12-29 00:00:00'), Timestamp('2012-04-13 00:00:00'), Timestamp('2012-11-30 00:00:00'), Timestamp('2015-04-30 00:00:00'), Timestamp('2012-12-01 00:00:00'), Timestamp('2013-10-27 00:00:00'), Timestamp('2012-10-08 00:00:00'), Timestamp('2014-08-15 00:00:00'), Timestamp('2017-07-31 00:00:00'), Timestamp('2018-02-26 00:00:00'), Timestamp('2012-03-04 00:00:00'), Timestamp('2017-04-06 00:00:00'), Timestamp('2015-07-09 00:00:00'), Timestamp('2014-07-02 00:00:00'), Timestamp('2016-08-24 00:00:00'), Timestamp('2012-05-27 00:00:00'), Timestamp('2018-12-26 00:00:00'), Timestamp('2015-08-24 00:00:00'), Timestamp('2013-01-12 00:00:00'), Timestamp('2012-09-17 00:00:00'), Timestamp('2013-11-15 00:00:00'), Timestamp('2015-03-30 00:00:00'), Timestamp('2017-06-06 00:00:00'), Timestamp('2017-09-19 00:00:00'), Timestamp('2017-04-04 00:00:00'), Timestamp('2016-07-11 00:00:00'), Timestamp('2016-08-11 00:00:00'), Timestamp('2016-10-16 00:00:00'), Timestamp('2013-01-31 00:00:00'), Timestamp('2017-12-30 00:00:00'), Timestamp('2014-04-22 00:00:00'), Timestamp('2014-07-15 00:00:00'), Timestamp('2017-05-30 00:00:00'), Timestamp('2013-08-28 00:00:00'), Timestamp('2018-05-01 00:00:00'), Timestamp('2013-03-14 00:00:00'), Timestamp('2015-08-05 00:00:00'), Timestamp('2015-09-04 00:00:00'), Timestamp('2015-02-28 00:00:00'), Timestamp('2017-01-25 00:00:00'), Timestamp('2018-05-13 00:00:00'), Timestamp('2016-02-09 00:00:00'), Timestamp('2019-02-26 00:00:00'), Timestamp('2013-10-18 00:00:00'), Timestamp('2018-03-10 00:00:00'), Timestamp('2012-05-09 00:00:00'), Timestamp('2013-02-18 00:00:00'), Timestamp('2017-02-20 00:00:00'), Timestamp('2013-06-06 00:00:00'), Timestamp('2017-11-26 00:00:00'), Timestamp('2011-12-28 00:00:00'), Timestamp('2017-04-29 00:00:00'), Timestamp('2017-02-14 00:00:00'), Timestamp('2015-05-05 00:00:00'), Timestamp('2012-10-24 00:00:00'), Timestamp('2014-05-04 00:00:00'), Timestamp('2012-07-23 00:00:00'), Timestamp('2015-09-13 00:00:00'), Timestamp('2018-07-15 00:00:00'), Timestamp('2012-09-05 00:00:00'), Timestamp('2017-04-17 00:00:00'), Timestamp('2015-05-09 00:00:00'), Timestamp('2014-07-11 00:00:00'), Timestamp('2013-07-15 00:00:00'), Timestamp('2015-02-03 00:00:00'), Timestamp('2016-11-10 00:00:00'), Timestamp('2012-10-05 00:00:00'), Timestamp('2016-04-09 00:00:00'), Timestamp('2012-05-20 00:00:00'), Timestamp('2017-11-29 00:00:00'), Timestamp('2012-01-20 00:00:00'), Timestamp('2017-03-24 00:00:00'), Timestamp('2017-07-17 00:00:00'), Timestamp('2013-10-25 00:00:00'), Timestamp('2017-05-14 00:00:00'), Timestamp('2017-05-10 00:00:00'), Timestamp('2013-01-02 00:00:00'), Timestamp('2014-11-16 00:00:00'), Timestamp('2016-01-25 00:00:00'), Timestamp('2017-10-14 00:00:00'), Timestamp('2015-03-27 00:00:00'), Timestamp('2013-06-02 00:00:00'), Timestamp('2018-09-10 00:00:00'), Timestamp('2014-11-06 00:00:00'), Timestamp('2012-02-01 00:00:00'), Timestamp('2016-09-30 00:00:00'), Timestamp('2012-06-23 00:00:00'), Timestamp('2015-07-08 00:00:00'), Timestamp('2018-04-29 00:00:00'), Timestamp('2015-08-25 00:00:00'), Timestamp('2013-05-17 00:00:00'), Timestamp('2011-11-23 00:00:00'), Timestamp('2013-09-02 00:00:00'), Timestamp('2014-05-11 00:00:00'), Timestamp('2014-07-23 00:00:00'), Timestamp('2016-05-18 00:00:00'), Timestamp('2014-12-14 00:00:00'), Timestamp('2012-11-08 00:00:00'), Timestamp('2018-08-02 00:00:00'), Timestamp('2015-08-28 00:00:00'), Timestamp('2016-07-10 00:00:00'), Timestamp('2013-10-10 00:00:00'), Timestamp('2013-04-03 00:00:00'), Timestamp('2015-12-01 00:00:00'), Timestamp('2013-12-14 00:00:00'), Timestamp('2015-05-14 00:00:00'), Timestamp('2019-02-24 00:00:00'), Timestamp('2015-08-20 00:00:00'), Timestamp('2016-03-13 00:00:00'), Timestamp('2018-11-09 00:00:00'), Timestamp('2013-07-04 00:00:00'), Timestamp('2014-07-08 00:00:00'), Timestamp('2016-11-30 00:00:00'), Timestamp('2017-01-08 00:00:00'), Timestamp('2015-07-13 00:00:00'), Timestamp('2014-06-04 00:00:00'), Timestamp('2016-09-23 00:00:00'), Timestamp('2014-07-07 00:00:00'), Timestamp('2013-02-27 00:00:00'), Timestamp('2018-10-23 00:00:00'), Timestamp('2013-06-22 00:00:00'), Timestamp('2018-10-25 00:00:00'), Timestamp('2015-09-10 00:00:00'), Timestamp('2018-04-19 00:00:00'), Timestamp('2014-02-16 00:00:00'), Timestamp('2013-11-10 00:00:00'), Timestamp('2016-01-13 00:00:00'), Timestamp('2016-06-01 00:00:00'), Timestamp('2019-01-20 00:00:00'), Timestamp('2014-07-22 00:00:00'), Timestamp('2012-06-12 00:00:00'), Timestamp('2018-03-23 00:00:00'), Timestamp('2018-06-05 00:00:00'), Timestamp('2016-10-13 00:00:00'), Timestamp('2016-10-12 00:00:00'), Timestamp('2019-02-01 00:00:00'), Timestamp('2015-02-01 00:00:00'), Timestamp('2019-04-12 00:00:00'), Timestamp('2018-06-11 00:00:00'), Timestamp('2015-07-23 00:00:00'), Timestamp('2017-04-08 00:00:00'), Timestamp('2013-04-11 00:00:00'), Timestamp('2014-10-03 00:00:00'), Timestamp('2012-06-19 00:00:00'), Timestamp('2016-07-05 00:00:00'), Timestamp('2014-06-20 00:00:00'), Timestamp('2012-10-25 00:00:00'), Timestamp('2018-04-09 00:00:00'), Timestamp('2015-08-06 00:00:00'), Timestamp('2014-01-14 00:00:00'), Timestamp('2013-12-04 00:00:00'), Timestamp('2017-06-23 00:00:00'), Timestamp('2013-03-05 00:00:00'), Timestamp('2013-12-13 00:00:00'), Timestamp('2014-01-24 00:00:00'), Timestamp('2019-04-21 00:00:00'), Timestamp('2012-07-21 00:00:00'), Timestamp('2013-12-03 00:00:00'), Timestamp('2017-02-25 00:00:00'), Timestamp('2012-08-04 00:00:00'), Timestamp('2013-04-29 00:00:00'), Timestamp('2015-06-18 00:00:00'), Timestamp('2019-04-15 00:00:00'), Timestamp('2016-11-06 00:00:00'), Timestamp('2014-08-08 00:00:00'), Timestamp('2018-02-13 00:00:00'), Timestamp('2017-03-09 00:00:00'), Timestamp('2016-04-15 00:00:00'), Timestamp('2014-10-07 00:00:00'), Timestamp('2012-09-09 00:00:00'), Timestamp('2012-05-05 00:00:00'), Timestamp('2017-01-09 00:00:00'), Timestamp('2015-10-28 00:00:00'), Timestamp('2014-04-10 00:00:00'), Timestamp('2014-10-26 00:00:00'), Timestamp('2014-06-14 00:00:00'), Timestamp('2013-12-01 00:00:00'), Timestamp('2014-04-30 00:00:00'), Timestamp('2017-12-06 00:00:00'), Timestamp('2017-10-22 00:00:00'), Timestamp('2018-06-20 00:00:00'), Timestamp('2017-03-30 00:00:00'), Timestamp('2018-08-26 00:00:00'), Timestamp('2011-12-03 00:00:00'), Timestamp('2013-09-21 00:00:00'), Timestamp('2015-12-25 00:00:00'), Timestamp('2018-07-24 00:00:00'), Timestamp('2014-01-12 00:00:00'), Timestamp('2013-11-07 00:00:00'), Timestamp('2016-12-11 00:00:00'), Timestamp('2012-04-11 00:00:00'), Timestamp('2014-06-09 00:00:00'), Timestamp('2012-11-26 00:00:00'), Timestamp('2011-12-24 00:00:00'), Timestamp('2014-09-16 00:00:00'), Timestamp('2015-09-06 00:00:00'), Timestamp('2016-01-16 00:00:00'), Timestamp('2015-06-15 00:00:00'), Timestamp('2014-10-21 00:00:00'), Timestamp('2015-11-23 00:00:00'), Timestamp('2018-06-23 00:00:00'), Timestamp('2016-08-22 00:00:00'), Timestamp('2016-01-30 00:00:00'), Timestamp('2015-10-01 00:00:00'), Timestamp('2014-08-22 00:00:00'), Timestamp('2015-12-04 00:00:00'), Timestamp('2012-01-16 00:00:00'), Timestamp('2016-12-22 00:00:00'), Timestamp('2016-11-11 00:00:00'), Timestamp('2017-05-03 00:00:00'), Timestamp('2014-04-03 00:00:00'), Timestamp('2017-07-06 00:00:00'), Timestamp('2012-04-20 00:00:00'), Timestamp('2016-11-17 00:00:00'), Timestamp('2016-02-10 00:00:00'), Timestamp('2013-11-04 00:00:00'), Timestamp('2014-11-29 00:00:00'), Timestamp('2018-05-17 00:00:00'), Timestamp('2014-07-31 00:00:00'), Timestamp('2013-06-19 00:00:00'), Timestamp('2015-07-05 00:00:00'), Timestamp('2012-03-13 00:00:00'), Timestamp('2012-04-10 00:00:00'), Timestamp('2013-05-29 00:00:00'), Timestamp('2013-12-20 00:00:00'), Timestamp('2013-03-18 00:00:00'), Timestamp('2018-03-04 00:00:00'), Timestamp('2011-12-08 00:00:00'), Timestamp('2015-05-08 00:00:00'), Timestamp('2014-10-19 00:00:00'), Timestamp('2016-06-22 00:00:00'), Timestamp('2015-02-09 00:00:00'), Timestamp('2018-06-28 00:00:00'), Timestamp('2018-09-30 00:00:00'), Timestamp('2013-02-23 00:00:00'), Timestamp('2014-03-03 00:00:00'), Timestamp('2018-10-15 00:00:00'), Timestamp('2012-07-24 00:00:00'), Timestamp('2015-04-02 00:00:00'), Timestamp('2013-05-12 00:00:00'), Timestamp('2014-04-20 00:00:00'), Timestamp('2016-01-09 00:00:00'), Timestamp('2013-10-29 00:00:00'), Timestamp('2011-11-27 00:00:00'), Timestamp('2016-12-06 00:00:00'), Timestamp('2017-03-21 00:00:00'), Timestamp('2012-04-03 00:00:00'), Timestamp('2013-06-01 00:00:00'), Timestamp('2014-02-06 00:00:00'), Timestamp('2014-05-12 00:00:00'), Timestamp('2016-04-16 00:00:00'), Timestamp('2013-07-17 00:00:00'), Timestamp('2013-09-09 00:00:00'), Timestamp('2016-01-06 00:00:00'), Timestamp('2016-03-22 00:00:00'), Timestamp('2015-01-22 00:00:00'), Timestamp('2013-08-20 00:00:00'), Timestamp('2018-09-24 00:00:00'), Timestamp('2017-05-11 00:00:00'), Timestamp('2014-05-09 00:00:00'), Timestamp('2014-10-11 00:00:00'), Timestamp('2012-07-22 00:00:00'), Timestamp('2015-04-07 00:00:00'), Timestamp('2014-10-12 00:00:00'), Timestamp('2013-10-05 00:00:00'), Timestamp('2017-01-03 00:00:00'), Timestamp('2014-09-13 00:00:00'), Timestamp('2018-06-02 00:00:00'), Timestamp('2013-10-28 00:00:00'), Timestamp('2013-08-16 00:00:00'), Timestamp('2017-05-09 00:00:00'), Timestamp('2017-12-15 00:00:00'), Timestamp('2013-02-16 00:00:00'), Timestamp('2015-01-14 00:00:00'), Timestamp('2016-02-14 00:00:00'), Timestamp('2016-01-20 00:00:00'), Timestamp('2017-03-28 00:00:00'), Timestamp('2012-10-19 00:00:00'), Timestamp('2018-08-30 00:00:00'), Timestamp('2019-01-18 00:00:00'), Timestamp('2018-07-07 00:00:00'), Timestamp('2017-10-25 00:00:00'), Timestamp('2015-03-15 00:00:00'), Timestamp('2016-05-23 00:00:00'), Timestamp('2013-11-19 00:00:00'), Timestamp('2017-08-30 00:00:00'), Timestamp('2011-12-25 00:00:00'), Timestamp('2015-09-11 00:00:00'), Timestamp('2015-12-28 00:00:00'), Timestamp('2015-08-12 00:00:00'), Timestamp('2014-04-06 00:00:00'), Timestamp('2014-01-21 00:00:00'), Timestamp('2012-07-07 00:00:00'), Timestamp('2017-11-17 00:00:00'), Timestamp('2015-08-17 00:00:00'), Timestamp('2016-08-30 00:00:00'), Timestamp('2015-01-28 00:00:00'), Timestamp('2012-06-04 00:00:00'), Timestamp('2011-11-21 00:00:00'), Timestamp('2012-11-16 00:00:00'), Timestamp('2017-12-26 00:00:00'), Timestamp('2019-02-07 00:00:00'), Timestamp('2014-02-15 00:00:00'), Timestamp('2018-11-01 00:00:00'), Timestamp('2016-11-12 00:00:00'), Timestamp('2018-03-30 00:00:00'), Timestamp('2018-05-29 00:00:00'), Timestamp('2014-09-02 00:00:00'), Timestamp('2016-01-08 00:00:00'), Timestamp('2015-05-19 00:00:00'), Timestamp('2016-08-27 00:00:00'), Timestamp('2012-09-14 00:00:00'), Timestamp('2015-05-29 00:00:00'), Timestamp('2018-06-25 00:00:00'), Timestamp('2015-09-03 00:00:00'), Timestamp('2017-08-05 00:00:00'), Timestamp('2016-11-15 00:00:00'), Timestamp('2013-12-17 00:00:00'), Timestamp('2016-09-27 00:00:00'), Timestamp('2014-03-06 00:00:00'), Timestamp('2016-07-13 00:00:00'), Timestamp('2017-12-27 00:00:00'), Timestamp('2019-01-14 00:00:00'), Timestamp('2018-06-18 00:00:00'), Timestamp('2012-06-26 00:00:00'), Timestamp('2019-04-01 00:00:00'), Timestamp('2014-01-31 00:00:00'), Timestamp('2018-01-02 00:00:00'), Timestamp('2012-05-08 00:00:00'), Timestamp('2017-05-06 00:00:00'), Timestamp('2014-07-03 00:00:00'), Timestamp('2018-03-15 00:00:00'), Timestamp('2018-03-24 00:00:00'), Timestamp('2012-05-29 00:00:00'), Timestamp('2018-08-24 00:00:00'), Timestamp('2015-05-17 00:00:00'), Timestamp('2016-03-07 00:00:00'), Timestamp('2012-07-06 00:00:00'), Timestamp('2014-09-24 00:00:00'), Timestamp('2016-12-15 00:00:00'), Timestamp('2019-01-26 00:00:00'), Timestamp('2011-11-20 00:00:00'), Timestamp('2015-07-31 00:00:00'), Timestamp('2016-02-03 00:00:00'), Timestamp('2017-01-11 00:00:00'), Timestamp('2013-11-01 00:00:00'), Timestamp('2015-07-17 00:00:00'), Timestamp('2014-04-28 00:00:00'), Timestamp('2016-04-25 00:00:00'), Timestamp('2019-02-03 00:00:00'), Timestamp('2014-09-30 00:00:00'), Timestamp('2012-11-19 00:00:00'), Timestamp('2016-08-17 00:00:00'), Timestamp('2012-04-26 00:00:00'), Timestamp('2016-12-19 00:00:00'), Timestamp('2018-05-24 00:00:00'), Timestamp('2016-01-04 00:00:00'), Timestamp('2015-10-26 00:00:00'), Timestamp('2016-06-16 00:00:00'), Timestamp('2016-08-23 00:00:00'), Timestamp('2013-02-02 00:00:00'), Timestamp('2014-03-01 00:00:00'), Timestamp('2014-11-19 00:00:00'), Timestamp('2013-11-18 00:00:00'), Timestamp('2014-05-27 00:00:00'), Timestamp('2015-04-17 00:00:00'), Timestamp('2015-02-27 00:00:00'), Timestamp('2014-11-22 00:00:00'), Timestamp('2014-03-28 00:00:00'), Timestamp('2018-09-15 00:00:00'), Timestamp('2019-01-13 00:00:00'), Timestamp('2014-10-05 00:00:00'), Timestamp('2017-01-07 00:00:00'), Timestamp('2017-07-21 00:00:00'), Timestamp('2017-12-25 00:00:00'), Timestamp('2014-03-12 00:00:00'), Timestamp('2015-06-09 00:00:00'), Timestamp('2013-09-22 00:00:00'), Timestamp('2015-05-30 00:00:00'), Timestamp('2012-11-05 00:00:00'), Timestamp('2018-02-25 00:00:00'), Timestamp('2012-08-09 00:00:00'), Timestamp('2017-11-14 00:00:00'), Timestamp('2015-04-04 00:00:00'), Timestamp('2015-11-22 00:00:00'), Timestamp('2018-04-23 00:00:00'), Timestamp('2012-01-14 00:00:00'), Timestamp('2013-08-23 00:00:00'), Timestamp('2014-02-28 00:00:00'), Timestamp('2019-02-20 00:00:00'), Timestamp('2016-03-10 00:00:00'), Timestamp('2013-09-26 00:00:00'), Timestamp('2018-10-01 00:00:00'), Timestamp('2011-12-23 00:00:00'), Timestamp('2012-02-18 00:00:00'), Timestamp('2014-04-15 00:00:00'), Timestamp('2015-09-19 00:00:00'), Timestamp('2016-12-26 00:00:00'), Timestamp('2015-05-20 00:00:00'), Timestamp('2016-05-08 00:00:00'), Timestamp('2018-10-17 00:00:00'), Timestamp('2016-10-26 00:00:00'), Timestamp('2018-08-27 00:00:00'), Timestamp('2013-11-24 00:00:00'), Timestamp('2018-06-17 00:00:00'), Timestamp('2014-11-27 00:00:00'), Timestamp('2012-03-31 00:00:00'), Timestamp('2012-01-17 00:00:00'), Timestamp('2012-04-22 00:00:00'), Timestamp('2019-02-08 00:00:00'), Timestamp('2017-11-11 00:00:00'), Timestamp('2017-08-03 00:00:00'), Timestamp('2017-08-12 00:00:00'), Timestamp('2015-09-27 00:00:00'), Timestamp('2014-10-24 00:00:00'), Timestamp('2012-07-09 00:00:00'), Timestamp('2018-02-23 00:00:00'), Timestamp('2018-10-21 00:00:00'), Timestamp('2017-10-09 00:00:00'), Timestamp('2013-10-14 00:00:00'), Timestamp('2018-09-28 00:00:00'), Timestamp('2017-01-24 00:00:00'), Timestamp('2013-12-07 00:00:00'), Timestamp('2018-08-20 00:00:00'), Timestamp('2017-12-07 00:00:00'), Timestamp('2014-08-19 00:00:00'), Timestamp('2017-09-21 00:00:00'), Timestamp('2017-03-13 00:00:00'), Timestamp('2015-11-01 00:00:00'), Timestamp('2013-11-23 00:00:00'), Timestamp('2015-04-27 00:00:00'), Timestamp('2013-05-21 00:00:00'), Timestamp('2017-03-02 00:00:00'), Timestamp('2019-02-09 00:00:00'), Timestamp('2018-08-31 00:00:00'), Timestamp('2015-10-14 00:00:00'), Timestamp('2013-01-09 00:00:00'), Timestamp('2018-08-09 00:00:00'), Timestamp('2015-05-22 00:00:00'), Timestamp('2016-07-14 00:00:00'), Timestamp('2014-08-09 00:00:00'), Timestamp('2013-01-21 00:00:00'), Timestamp('2014-02-12 00:00:00'), Timestamp('2014-03-22 00:00:00'), Timestamp('2018-08-28 00:00:00'), Timestamp('2018-08-11 00:00:00'), Timestamp('2015-06-29 00:00:00'), Timestamp('2016-01-05 00:00:00'), Timestamp('2015-06-23 00:00:00'), Timestamp('2015-03-13 00:00:00'), Timestamp('2012-05-26 00:00:00'), Timestamp('2019-04-04 00:00:00'), Timestamp('2018-01-03 00:00:00'), Timestamp('2013-07-20 00:00:00'), Timestamp('2016-09-11 00:00:00'), Timestamp('2016-02-27 00:00:00'), Timestamp('2017-05-24 00:00:00'), Timestamp('2012-03-24 00:00:00'), Timestamp('2015-07-11 00:00:00'), Timestamp('2015-11-26 00:00:00'), Timestamp('2017-09-04 00:00:00'), Timestamp('2019-03-13 00:00:00'), Timestamp('2012-12-31 00:00:00'), Timestamp('2017-11-30 00:00:00'), Timestamp('2013-10-13 00:00:00'), Timestamp('2013-09-08 00:00:00'), Timestamp('2018-03-11 00:00:00'), Timestamp('2012-11-23 00:00:00'), Timestamp('2016-03-20 00:00:00'), Timestamp('2016-05-28 00:00:00'), Timestamp('2012-07-17 00:00:00'), Timestamp('2014-03-24 00:00:00'), Timestamp('2018-04-12 00:00:00'), Timestamp('2019-05-23 00:00:00'), Timestamp('2014-09-01 00:00:00'), Timestamp('2014-12-10 00:00:00'), Timestamp('2013-08-24 00:00:00'), Timestamp('2015-10-08 00:00:00'), Timestamp('2015-07-28 00:00:00'), Timestamp('2018-06-16 00:00:00'), Timestamp('2012-11-02 00:00:00'), Timestamp('2013-10-11 00:00:00'), Timestamp('2014-03-21 00:00:00'), Timestamp('2015-12-13 00:00:00'), Timestamp('2012-11-17 00:00:00'), Timestamp('2011-10-30 00:00:00'), Timestamp('2019-02-05 00:00:00'), Timestamp('2016-08-25 00:00:00'), Timestamp('2014-07-20 00:00:00'), Timestamp('2014-05-17 00:00:00'), Timestamp('2013-07-01 00:00:00'), Timestamp('2016-03-17 00:00:00'), Timestamp('2015-11-04 00:00:00'), Timestamp('2017-08-14 00:00:00'), Timestamp('2015-01-02 00:00:00'), Timestamp('2016-03-12 00:00:00'), Timestamp('2015-06-30 00:00:00'), Timestamp('2015-12-19 00:00:00'), Timestamp('2015-02-12 00:00:00'), Timestamp('2018-01-16 00:00:00'), Timestamp('2018-08-10 00:00:00'), Timestamp('2017-09-12 00:00:00'), Timestamp('2017-06-21 00:00:00'), Timestamp('2016-05-25 00:00:00'), Timestamp('2016-12-23 00:00:00'), Timestamp('2015-12-08 00:00:00'), Timestamp('2019-03-24 00:00:00'), Timestamp('2013-09-16 00:00:00'), Timestamp('2015-02-07 00:00:00'), Timestamp('2018-10-24 00:00:00'), Timestamp('2012-09-06 00:00:00'), Timestamp('2017-02-07 00:00:00'), Timestamp('2017-10-16 00:00:00'), Timestamp('2012-03-12 00:00:00'), Timestamp('2014-09-25 00:00:00'), Timestamp('2012-06-27 00:00:00'), Timestamp('2012-07-29 00:00:00'), Timestamp('2012-03-09 00:00:00'), Timestamp('2016-06-20 00:00:00'), Timestamp('2017-02-09 00:00:00'), Timestamp('2015-09-20 00:00:00'), Timestamp('2017-12-13 00:00:00'), Timestamp('2014-11-03 00:00:00'), Timestamp('2014-08-21 00:00:00'), Timestamp('2014-01-28 00:00:00'), Timestamp('2013-09-01 00:00:00'), Timestamp('2018-11-13 00:00:00'), Timestamp('2017-11-18 00:00:00'), Timestamp('2015-10-18 00:00:00'), Timestamp('2018-05-11 00:00:00'), Timestamp('2016-09-10 00:00:00'), Timestamp('2016-01-26 00:00:00'), Timestamp('2015-06-26 00:00:00'), Timestamp('2019-03-01 00:00:00'), Timestamp('2014-11-26 00:00:00'), Timestamp('2014-06-28 00:00:00'), Timestamp('2018-04-07 00:00:00'), Timestamp('2016-09-17 00:00:00'), Timestamp('2017-08-10 00:00:00'), Timestamp('2018-12-03 00:00:00'), Timestamp('2013-03-03 00:00:00'), Timestamp('2013-07-22 00:00:00'), Timestamp('2015-10-29 00:00:00'), Timestamp('2015-08-26 00:00:00'), Timestamp('2015-12-09 00:00:00'), Timestamp('2017-10-18 00:00:00'), Timestamp('2018-09-05 00:00:00'), Timestamp('2019-01-23 00:00:00'), Timestamp('2017-06-08 00:00:00'), Timestamp('2012-01-02 00:00:00'), Timestamp('2016-10-24 00:00:00'), Timestamp('2012-07-20 00:00:00'), Timestamp('2015-10-12 00:00:00'), Timestamp('2016-10-08 00:00:00'), Timestamp('2015-09-25 00:00:00'), Timestamp('2018-07-23 00:00:00'), Timestamp('2011-12-27 00:00:00'), Timestamp('2015-02-04 00:00:00'), Timestamp('2016-02-23 00:00:00')}\n",
      "********* Sector *******\n",
      "\n",
      "{'Sector 18', 'Sector 4', 'Sector 20', 'Sector 16', 'Sector 14', 'Sector 25', 'Sector 19', 'Sector 23', 'Sector 8', 'Sector 7', 'Sector 10', 'Sector 12', 'Sector 22', 'Sector 15', 'Sector 2', 'Sector 5', 'Sector 6', 'Sector 17', 'Sector 13', 'Sector 24', 'Sector 1', 'Sector 3', 'Sector 11', 'Sector 21', 'Sector 9'}\n",
      "********* Location *******\n",
      "\n",
      "{'L1', 'L12', 'L10', 'Others', 'L3', 'L5', 'L11', 'L9', 'L4', 'L6', 'L8', 'L7', 'L2'}\n",
      "********* VP Name *******\n",
      "\n",
      "{'Varsha Arora', 'Rahul Kocher', 'Molly\\xa0Eakes', 'Brendon\\xa0Wycoff', 'Long\\xa0Bergstrom', 'som dutt', 'Mayank Mewar', 'Russell\\xa0Dahlen', 'Vidur Hukle', 'Mervin\\xa0Harwood', 'Ankita Aggarwal', 'Vikram Rawat', 'Waylon\\xa0Mulder', 'Sarthak Batra', 'Man\\xa0Suddeth', 'Gayle\\xa0Molter', 'Clinton\\xa0Mani', 'Gaurav Sameria', 'Saurabh Singh', 'P. Somya', 'Jewell\\xa0Tunstall', 'md. afsar', 'Marcella\\xa0Mo', 'Ekta Zutshi', 'Alam Syed', 'Sargar Deep Rao', 'Rahul Bajpai', 'Son\\xa0Mcconnaughy', 'Dennis\\xa0Faux', 'Jitendra Choudhary', 'Visvajeet Das', 'neeraj kumar', 'Gopa Trilochana', 'Lilli\\xa0Storrs', 'Earline\\xa0Langton', 'Mangesh K. Singh', 'Rudraksh Sharma', 'Prashant Rawat', 'Manpreet Singh', 'Rosanna\\xa0Maynez', 'Kamelesh Srinivasan', 'Hardeep Suksma', 'Kirk\\xa0Hofmeister'}\n",
      "********* Manager Name *******\n",
      "\n",
      "{'Manisha Gulati', 'Sanjeev Diwakar', 'Molly\\xa0Eakes', 'riyasat ali', 'Bhavya Saini', 'Aastha Gandhi', 'Sergio\\xa0Cusack', 'Karna Bhuvennant', 'Rishab Bhatt', 'Anchal Pandey', 'Mahesh Gulati', 'Rishab Jain', 'vansu dev', 'Akshay Sharma', 'Aditya Tondon', 'Rajat Bansal', 'Johnna\\xa0Lemay', 'Himanshu Daga', 'Rajneesh Tanwar', 'Akshit Khanna', 'nahar singh', 'mohd ataullah', 'Ranjnesh Tanwar', 'Jarred\\xa0Parrino', 'Vikrant Soneja', 'Sherell\\xa0Peace', 'Taran Singh', 'Preetan Gujar', 'aamir hussain', 'Sumita Verma', 'Matt\\xa0Redel', 'Gaurav Sameria', 'Annett\\xa0Mcmillen', 'Tanu Panwar', 'Millicent\\xa0Firth', 'Akshansh Chaudhary', 'Marcella\\xa0Mo', 'Somnath Mukherji', 'Sai S Sabitha', 'Roop Sachdeva', 'Md. Daud', 'Upendra Bhatt', 'Darla\\xa0Dickinson', 'Kizzie\\xa0Troxel', 'Abhiskhek  D', 'Palmer\\xa0Holmberg', 'Preeti Mehra', 'R. T. Ramakrishnan', 'Atul Kumar', 'Jitendra Choudhary', 'shyam kumar', 'Rateesh Singh', 'Roopal Singh', 'bablu regar', 'Rudraksh Sharma', 'Akshansh Goel', 'Prashant Rawat', 'sharat chandran', 'Harshita Singh', 'Vikram Rawat', 'Kamelesh Srinivasan', 'Edmund\\xa0Brigham', 'Varsha Arora', 'Cameron\\xa0Deleeuw', 'lalit kathuriya', 'Sanjeev Talreja', 'Eva\\xa0Harte', 'Amit Jain', 'Manish Saundriyal', 'birender mandal', 'Prakash Srinivas', 'Russ\\xa0Vaz', 'Preston\\xa0Dumire', 'Russell\\xa0Dahlen', 'shiv kumar', 'Sultan Khan', 'Chanchal sharma', 'Carroll\\xa0Truehart', 'mohd shakib', 'Theron\\xa0Rex', 'Eula\\xa0Hallowell', 'Lino\\xa0Batterton', 'Heeman Daga', 'Sanchita Gulati', 'Abram\\xa0Fines', 'Neha Sharma', 'Marcelo\\xa0Riles', 'Clinton\\xa0Mani', 'Harsh Verma', 'Evalyn\\xa0Rayner', 'Tarun Garg', 'Sanchita Pant', 'vinit katariya', 'Abhinav Warrier', 'Ahswini Saini', 'Ayusha Gupta', 'Ekta Zutshi', 'Anmol Mehre', 'Nanette\\xa0Hennessee', 'Donovan\\xa0Rockwood', 'Anand Vikram', 'Uzaar Ali', 'rahul kumar', 'Chloe\\xa0Beiler', 'Rosana\\xa0Yokum', 'bhagwati prasad', 'Jayant Kalra', 'Gopa Trilochana', 'khadak singh', 'Kendra Tripathi', 'Evangeline\\xa0Kepley', 'Earline\\xa0Langton', 'Rodney\\xa0Wilkison', 'Ravi Chaudhary', 'ramdin verma', 'Naveen Dogra', 'ram kumar', 'Vaibhav Somaskandan', 'Tanuj Bindra', 'Danny\\xa0Bolton', 'Alam Syed', 'Royal\\xa0Garofalo', 'Jackie\\xa0Wolfson', 'Muoi\\xa0Queener', 'rijul aggarwal', 'Rahul Kocher', 'Cori\\xa0Gillispie', 'Jayadev Mitali', 'Sohil Kumar', 'kamal jit singh', 'Anoop Jatley', 'Annamaria\\xa0Phung', 'Anish Jonson', 'Emil\\xa0Knudsen', 'Sumit Arora', 'som dutt', 'Deepak Chandra Prakash', 'Vaibhav singh', 'Fredricka\\xa0Bald', 'Varun Bhel', 'Himanshu Upadhiya', 'Luv Malhotra', 'Cleotilde\\xa0Biron', 'Akshay Gosh', 'ram dutt gupta', 'Desmond\\xa0Krout', 'Ankita Aggarwal', 'Tafeeq Khan', 'Mervin\\xa0Harwood', 'Gunjan Singh', 'Vikrant Saini', 'Aditya Kumar', 'Nitish Bhardwaj', 'maansingh aswal', 'Taran Deep', 'Natalia\\xa0Dumlao', 'Vinay Kumar', 'Elenor\\xa0Halderman', 'jamil khan', 'Raj Pinani', 'Florencio\\xa0Quiros', 'D. Ankit ', 'gurmit singh', 'Prateek Dhotre', 'Jewell\\xa0Tunstall', 'Kim\\xa0Tavernier', 'Tom\\xa0Blanca', 'Darin\\xa0Vath', 'Laurine\\xa0Quintanar', 'pooran chand', 'Joe\\xa0Castorena', 'Kamal Chandra', 'Andrew\\xa0Michalowski', 'farmaan khan', 'sheak shakir', 'Virak Kandpal', 'Son\\xa0Mcconnaughy', 'Dennis\\xa0Faux', 'Jose\\xa0Gamber', 'Arron\\xa0Hack', 'Doreen\\xa0Amerman', 'keshar ansari', 'neeraj kumar', 'Randy\\xa0Fontana', 'rohit', 'mohd khairul', 'Manpreet Singh', 'sunder paal', 'Long\\xa0Bergstrom', 'Herschel\\xa0Flock', 'shiv shakti singh', 'Manish Johar', 'Kamal Deep', 'Ralph\\xa0Bohon', 'Hardeep Suksma', 'Martin\\xa0Cheyne', 'Ike\\xa0Deppen', 'Roopal Chaudhary', 'Mayank Praveen', 'pankaj kumar', 'Beutune Varma', 'Ali Rafiq', 'Leticia\\xa0Denton', 'kailash kumar', 'Karan Dubey', 'Geoffrey\\xa0Recker', 'Kittie\\xa0Selvey', 'Leeladhar Pandey', 'Saneel Tyagi', 'Waseem Khan', 'Navita Chauhan', 'Shobhit Gupta', 'Vishvajeet Kumar', 'Akshant Garg', 'Sierra\\xa0Yamamoto', 'Rahul Singh', 'Vincenzo\\xa0Mushrush', 'shafibul', 'Ankit Bhutani', 'Vidur Hukle', 'Shalendra D.', 'Kamaldeep Singh', 'Jean\\xa0Sappington', 'Anand S. Pandey', 'Chad\\xa0Jamal', 'mayank chaudhary @ rahul', 'Gayle\\xa0Molter', 'Sooraj Vohra', 'Davis\\xa0Gagner', 'Md Irshad', 'Kanika Sharma', 'David Toms', 'Akhil Biyas', 'Jasmin kaur', 'Brenton\\xa0Launius', 'Saurabh Singh', 'Prashant singh', 'Prakash Dhawale', 'Abhiskek Kumar', 'Kaniksh Dhyani', 'Zachary\\xa0Oconner', 'Mannan Upadhiya', 'Varun  Behl', 'Atul Chaudhary', 'Harpreet Bedi', 'Sargar Deep Rao', 'Zulema\\xa0Perrine', 'Manisha Saundriyal', 'Siddhant Gaur', 'Arti Bindra', 'Ganesh Malwar', 'Ahdarsha Jha', 'Rahul Bajpai', 'Lokesh Pinani', 'Sangeet Daga', 'Antonio\\xa0Yelvington', 'Heath\\xa0Mullarkey', 'Akul Jindal', 'Sarwan Singh', 'Umesh Kholi', 'Aman Gupta', 'Ranjan Prakash', 'Lakendra\\xa0Hartgrove', 'Sang\\xa0Ingle', 'Rayford\\xa0Durgan', 'Akasnah Arora', 'Mangesh K. Singh', 'Eesha Yadav', 'Thurman\\xa0Niemi', 'Subhangi Sood', 'Aman Singh', 'Genny\\xa0Mcgivney', 'rahul sharma', 'Abhishek Singhal', 'Devendra Vishvakarma', 'Rosanna\\xa0Maynez', 'Anju Nanda', 'Sharavan Singh'}\n",
      "********* Deal Cost *******\n",
      "\n",
      "{0.0, 278529.41, 57352.94, 114705.88, 172058.82, 229411.77, 507941.18, 786470.59, 286764.71, 565294.12, 344117.65, 122941.18, 401470.59, 1794117.65, 458823.53, 1294411.77, 573529.41, 131176.47, 409705.88, 188529.41, 245882.35, 802941.18, 1081470.59, 24705.88, 12157058.82, 1138823.53, 360588.24, 417941.18, 196764.71, 475294.12, 2367647.06, 1032352.94, 254117.65, 32941.18, 3817647.06, 590000.0, 1147058.82, 90294.12, 647352.94, 426176.47, 12058823.53, 10723529.41, 262352.94, 41176.47, 319705.88, 1433823.53, 98529.41, 1491176.47, 155882.35, 1270000.0, 213235.29, 2941176.47, 270588.24, 1106176.47, 1663235.29, 1720588.24, 385294.12, 164117.65, 442647.06, 500000.0, 294.12, 5955882.35, 336176.47, 614705.88, 1950000.0, 4735294.12, 172352.94, 2064705.88, 729411.77, 508235.29, 287058.82, 344411.77, 622941.18, 2294117.65, 2351470.59, 737647.06, 516470.59, 1073529.41, 74117.65, 745882.35, 1860000.0, 582058.82, 4088235.29, 860588.24, 82352.94, 139705.88, 197058.82, 1032647.06, 532941.18, 1647058.82, 311764.71, 90588.24, 369117.65, 926176.47, 426470.59, 205294.12, 5882352.94, 541176.47, 320000.0, 156176.47, 3441176.47, 213529.41, 2105882.35, 770588.24, 885294.12, 664117.65, 721470.59, 1000000.0, 8569411.77, 588.24, 557647.06, 57941.18, 336470.59, 2507352.94, 172647.06, 729705.88, 230000.0, 1344117.65, 8823.53, 287352.94, 66176.47, 2794117.65, 123529.41, 180882.35, 1573529.41, 238235.29, 295588.24, 352941.18, 189117.65, 467647.06, 525000.0, 1082058.82, 25294.12, 303823.53, 1417941.18, 639705.88, 1475294.12, 140000.0, 418529.41, 697058.82, 1811176.47, 8823529.41, 475882.35, 811764.71, 590588.24, 90882.35, 369411.77, 926470.59, 148235.29, 205588.24, 1041176.47, 541470.59, 1377058.82, 99117.65, 1213235.29, 156470.59, 1270588.24, 770882.35, 2163529.41, 50000.0, 5448529.41, 328529.41, 107352.94, 1500000.0, 164705.88, 222058.82, 500588.24, 882.35, 279411.77, 5735294.12, 1172352.94, 394117.65, 172941.18, 730000.0, 2900882.35, 5071764.71, 1844117.65, 230294.12, 508823.53, 287647.06, 566176.47, 3294117.65, 345000.0, 623529.41, 1795000.0, 2073529.41, 738235.29, 852941.18, 11764705.88, 1524705.88, 1139705.88, 82941.18, 1197058.82, 3982352.94, 2647058.82, 33823.53, 312352.94, 1426470.59, 91176.47, 148529.41, 427058.82, 205882.35, 2655294.12, 42058.82, 320588.24, 377941.18, 156764.71, 435294.12, 214117.65, 492647.06, 1328235.29, 550000.0, 8676470.59, 3335294.12, 2000000.0, 664705.88, 943235.29, 1221764.71, 165000.0, 779411.77, 558235.29, 115882.35, 672941.18, 2344117.65, 1008823.53, 230588.24, 623823.53, 124117.65, 402647.06, 681176.47, 2573529.41, 14705882.35, 181470.59, 1352941.18, 17647.06, 75000.0, 353529.41, 132352.94, 8480000.0, 189705.88, 468235.29, 5588235.29, 247058.82, 304411.77, 1697058.82, 361764.71, 918823.53, 140588.24, 419117.65, 476470.59, 255294.12, 533823.53, 2704705.88, 34117.65, 591176.47, 4375882.35, 705882.35, 1041764.71, 542058.82, 1377647.06, 877941.18, 157058.82, 1050000.0, 271764.71, 3278235.29, 329117.65, 2500000.0, 1164705.88, 1443235.29, 165294.12, 1279411.77, 222647.06, 1336764.71, 1470.59, 58823.53, 7906764.71, 116176.47, 394705.88, 17647058.82, 673235.29, 173529.41, 230882.35, 509411.77, 288235.29, 67058.82, 345588.24, 1738235.29, 402941.18, 1852941.18, 239117.65, 517647.06, 4580882.35, 1689117.65, 632352.94, 411176.47, 1246764.71, 190000.0, 468529.41, 747058.82, 1025588.24, 247352.94, 525882.35, 861764.71, 1697352.94, 640588.24, 198235.29, 1869411.77, 91764.71, 1205882.35, 427647.06, 263823.53, 1377941.18, 5441176.47, 878235.29, 100000.0, 1214117.65, 157352.94, 214705.88, 771764.71, 272058.82, 3000000.0, 1664705.88, 329411.77, 386764.71, 1779411.77, 444117.65, 558823.53, 24823529.41, 1451764.71, 452352.94, 1009411.77, 788235.29, 10000.0, 288529.41, 845588.24, 403235.29, 2574117.65, 182058.82, 460588.24, 2352941.18, 1017647.06, 517941.18, 1132352.94, 354117.65, 411470.59, 1247058.82, 468823.53, 1025882.35, 247647.06, 526176.47, 26470.59, 1419117.65, 83823.53, 1697647.06, 2254705.88, 141176.47, 1755000.0, 198529.41, 477058.82, 1034117.65, 255882.35, 8382352.94, 313235.29, 92058.82, 1705882.35, 370588.24, 927647.06, 206764.71, 485294.12, 42941.18, 600000.0, 23529411.76, 378823.53, 657352.94, 772058.82, 272352.94, 829411.77, 51176.47, 108529.41, 2893823.53, 223235.29, 1058823.53, 337941.18, 116764.71, 395294.12, 5294117.65, 174117.65, 10294.12, 288823.53, 845882.35, 67647.06, 125000.0, 2852941.18, 182352.94, 1017941.18, 239705.88, 1632352.94, 297058.82, 575588.24, 854117.65, 354411.77, 1747058.82, 411764.71, 190588.24, 469117.65, 526470.59, 4647058.82, 362647.06, 2091176.47, 477352.94, 2205882.35, 149705.88, 985294.12, 207058.82, 1042647.06, 6441176.47, 1100000.0, 43235.29, 1607941.18, 1108235.29, 1386764.71, 51470.59, 2779411.77, 108823.53, 8235294.12, 166176.47, 444705.88, 723235.29, 1558823.53, 223529.41, 280882.35, 20261176.47, 338235.29, 117058.82, 395588.24, 5794117.65, 7965000.0, 452941.18, 510294.12, 289117.65, 567647.06, 625000.0, 403823.53, 1239411.77, 240000.0, 18823.53, 297352.94, 911764.71, 2525588.24, 1247647.06, 190882.35, 469411.77, 248235.29, 805294.12, 5147058.82, 29411764.71, 84411.77, 698823.53, 477647.06, 2705882.35, 35294.12, 592352.94, 1149411.77, 92647.06, 1485294.12, 150000.0, 1264117.65, 207352.94, 264705.88, 1714705.88, 100882.35, 379411.77, 11176470.59, 1215000.0, 158235.29, 436764.71, 4500000.0, 215588.24, 494117.65, 551470.59, 4057647.06, 109117.65, 1722941.18, 387647.06, 666176.47, 2058823.53, 723529.41, 223823.53, 780882.35, 281176.47, 838235.29, 60000.0, 6294117.65, 674411.77, 174705.88, 232058.82, 1067647.06, 1903235.29, 2181764.71, 567941.18, 2517647.06, 1239705.88, 32352941.18, 19117.65, 2747058.82, 1411764.71, 76470.59, 191176.47, 3476176.47, 248529.41, 527058.82, 27352.94, 305882.35, 3033823.53, 84705.88, 363235.29, 4426470.59, 142058.82, 420588.24, 199411.77, 477941.18, 756470.59, 3205882.35, 535294.12, 3042058.82, 92941.18, 1764117.65, 764705.88, 822058.82, 4328235.29, 879411.77, 101176.47, 936764.71, 5000000.0, 715588.24, 1051470.59, 273235.29, 2165588.24, 1108823.53, 109411.77, 2558823.53, 445294.12, 224117.65, 2941.18, 2173823.53, 117647.06, 175000.0, 453529.41, 232352.94, 510882.35, 11176.47, 289705.88, 4352941.18, 1682352.94, 347058.82, 1461176.47, 125882.35, 404411.77, 961470.59, 183235.29, 461764.71, 1911764.71, 576470.59, 355294.12, 691176.47, 805882.35, 863235.29, 363529.41, 920588.24, 1035294.12, 257058.82, 4320294.12, 314411.77, 871470.59, 7941176.47, 4992058.82, 1264705.88, 1821764.71, 44117.65, 322647.06, 2772058.82, 101470.59, 937058.82, 158823.53, 216176.47, 1330294.12, 1608823.53, 273529.41, 2722941.18, 52352.94, 330882.35, 388235.29, 167058.82, 445588.24, 502941.18, 560294.12, 1395882.35, 617647.06, 396470.59, 5516470.59, 675000.0, 453823.53, 732352.94, 789705.88, 4852941.18, 290000.0, 847058.82, 68823.53, 625882.35, 904411.77, 404705.88, 183529.41, 2411764.71, 1191176.47, 1748235.29, 412941.18, 1305882.35, 249117.65, 527647.06, 1142058.82, 14888235.29, 1420588.24, 85294.12, 642352.94, 1477941.18, 142647.06, 200000.0, 478529.41, 257352.94, 36176.47, 314705.88, 593235.29, 2485588.24, 8441176.47, 372058.82, 1764705.88, 1322352.94, 544117.65, 1101176.47, 101764.71, 1994117.65, 14126470.59, 658823.53, 437647.06, 216470.59, 773529.41, 2166176.47, 830882.35, 1387941.18, 888235.29, 110000.0, 667058.82, 3116470.59, 2338235.29, 7794117.65, 282058.82, 839117.65, 1117647.06, 339411.77, 396764.71, 2067941.18, 232941.18, 5352941.18, 790000.0, 11764.71, 1625588.24, 1404411.77, 4910588.24, 69117.65, 347647.06, 126470.59, 183823.53, 2911764.71, 241176.47, 77352.94, 1691176.47, 355882.35, 134705.88, 192058.82, 1805882.35, 470588.24, 527941.18, 1085000.0, 585294.12, 364117.65, 4705882.35, 700000.0, 200294.12, 478823.53, 757352.94, 36470.59, 2264705.88, 929411.77, 986764.71, 1044117.65, 5664411.77, 601764.71, 1158823.53, 102058.82, 716470.59, 216764.71, 495294.12, 274117.65, 52941.18, 331470.59, 110294.12, 945882.35, 167647.06, 446176.47, 724705.88, 225000.0, 503529.41, 1617647.06, 282352.94, 25882352.94, 339705.88, 397058.82, 175882.35, 5852941.18, 1290000.0, 511764.71, 847647.06, 1126176.47, 4632352.94, 626470.59, 6025000.0, 6303529.41, 3411764.71, 184117.65, 741176.47, 1298235.29, 577352.94, 77647.06, 634705.88, 7647058.82, 135000.0, 970588.24, 1142647.06, 5205882.35, 85882.35, 143235.29, 5042058.82, 36764.71, 315294.12, 593823.53, 2764705.88, 94117.65, 1707941.18, 151470.59, 1544117.65, 208823.53, 5328823.53, 266176.47, 1658823.53, 45000.0, 323529.41, 880588.24, 102352.94, 380882.35, 1216470.59, 438235.29, 217058.82, 4558823.53, 274411.77, 610294.12, 667647.06, 8794117.65, 725000.0, 2117647.06, 782352.94, 61470.59, 897058.82, 118823.53, 2011176.47, 1290294.12, 512058.82, 790588.24, 290882.35, 69705.88, 10588235.29, 127058.82, 2855000.0, 1519705.88, 20588.24, 577647.06, 77941.18, 1470588.24, 135294.12, 1249411.77, 250000.0, 807058.82, 1921176.47, 364705.88, 143529.41, 422058.82, 479411.77, 1872058.82, 536764.71, 815294.12, 37058.82, 594117.65, 430294.12, 708823.53, 7500000.0, 266470.59, 2158823.53, 823529.41, 45294.12, 102647.06, 160000.0, 995588.24, 553235.29, 332058.82, 3838235.29, 889117.65, 946470.59, 168235.29, 2617647.06, 4411.77, 1397058.82, 61764.71, 119117.65, 954705.88, 176470.59, 455000.0, 733529.41, 233823.53, 512352.94, 291176.47, 348529.41, 4411764.71, 1741176.47, 405882.35, 463235.29, 242058.82, 78235.29, 1970588.24, 414117.65, 692647.06, 750000.0, 3199411.77, 250294.12, 807352.94, 307647.06, 864705.88, 143823.53, 3764705.88, 315882.35, 1151470.59, 94705.88, 1323529.41, 1602058.82, 6443529.41, 45588.24, 1716764.71, 102941.18, 381470.59, 938529.41, 160294.12, 5558823.53, 438823.53, 1552941.18, 217647.06, 275000.0, 553529.41, 332352.94, 111176.47, 389705.88, 447058.82, 3732058.82, 504411.77, 1897058.82, 561764.71, 7352941.18, 676470.59, 2740882.35, 4911764.71, 1299117.65, 520882.35, 21176.47, 2470588.24, 1250000.0, 193235.29, 807647.06, 29411.77, 4150000.0, 2814705.88, 144117.65, 201470.59, 480000.0, 4264705.88, 1037058.82, 258823.53, 1872647.06, 37647.06, 316176.47, 594705.88, 373529.41, 4715294.12, 152352.94, 709411.77, 1823529.41, 45882.35, 602941.18, 103235.29, 6058823.53, 832352.94, 10294117.65, 226176.47, 1397647.06, 1176470.59, 455588.24, 3462058.82, 5354411.77, 70588.24, 1184705.88, 1463235.29, 127941.18, 185294.12, 463823.53, 6976470.59, 242647.06, 2970588.24, 300000.0, 357352.94, 4142058.82, 136176.47, 414705.88, 529411.77, 586764.71, 365588.24, 144411.77, 701470.59, 4764705.88, 201764.71, 758823.53, 259117.65, 816176.47, 873529.41, 373823.53, 2323529.41, 988235.29, 1045588.24, 1602647.06, 1102941.18, 13235294.12, 2217058.82, 103529.41, 1496176.47, 218235.29, 1053823.53, 275588.24, 54411.77, 332941.18, 4117647.06, 111764.71, 668823.53, 169117.65, 447647.06, 2897058.82, 226470.59, 1062058.82, 5294.12, 283823.53, 1676470.59, 62647.06, 341176.47, 398529.41, 177352.94, 455882.35, 1012941.18, 234705.88, 513235.29, 292058.82, 570588.24, 2462941.18, 849117.65, 349411.77, 128235.29, 685294.12, 742647.06, 242941.18, 1635588.24, 578823.53, 636176.47, 193823.53, 1029411.77, 529705.88, 30000.0, 644411.77, 5264705.88, 701764.71, 1258823.53, 16176470.59, 38235.29, 5715294.12, 95588.24, 2823529.41, 152941.18, 210294.12, 267647.06, 882058.82, 1439117.65, 382352.94, 439705.88, 497058.82, 1611176.47, 333235.29, 611764.71, 390588.24, 169411.77, 12301764.71, 284117.65, 2455000.0, 841176.47, 955882.35, 1070588.24, 570882.35, 349705.88, 128529.41, 185882.35, 464411.77, 3970588.24, 742941.18, 1635882.35, 2750000.0, 79411.77, 136764.71, 1529411.77, 194117.65, 251470.59, 1644117.65, 308823.53, 87647.06, 24630882.35, 1201764.71, 423529.41, 202352.94, 1816176.47, 759411.77, 1037941.18, 16676470.59, 95882.35, 652941.18, 489117.65, 882352.94, 104117.65, 661176.47, 218823.53, 775882.35, 5117647.06, 17250000.0, 2447058.82, 1111764.71, 1390294.12, 55000.0, 1169117.65, 169705.88, 726764.71, 227058.82, 1341176.47, 841470.59, 63235.29, 341764.71, 1455882.35, 120588.24, 6911764.71, 456470.59, 2348823.53, 235294.12, 4020000.0, 292647.06, 1406764.71, 71470.59, 350000.0, 128823.53, 407352.94, 4470588.24, 464705.88, 22058823.53, 522058.82, 79705.88, 1972058.82, 636764.71, 2029411.77, 3422058.82, 751470.59, 1308529.41, 808823.53, 30588.24, 309117.65, 5150588.24, 587647.06, 866176.47, 1144705.88, 366470.59, 145294.12, 38823.53, 3823529.41, 595882.35, 931764.71, 1382352.94, 47058.82, 882647.06, 1439705.88, 1497058.82, 161764.71, 440294.12, 718823.53, 219117.65, 497647.06, 276470.59, 391176.47, 170000.0, 448529.41, 3176470.59, 227352.94, 505882.35, 63529.41, 342058.82, 620588.24, 178235.29, 735294.12, 25000000.0, 3741764.71, 235588.24, 1071176.47, 407647.06, 964705.88, 186470.59, 3750000.0, 1079411.77, 22647.06, 301176.47, 2529411.77, 137352.94, 415882.35, 1308823.53, 252058.82, 3258529.41, 30882.35, 309411.77, 88235.29, 145588.24, 202941.18, 260294.12, 817352.94, 317647.06, 96470.59, 375000.0, 432352.94, 211176.47, 489705.88, 1046764.71, 1882352.94, 268529.41, 547058.82, 47352.94, 2218235.29, 661764.71, 997647.06, 3447058.82, 219411.77, 776470.59, 1055000.0, 55588.24, 1448235.29, 948529.41, 3676470.59, 170294.12, 27941176.47, 1005882.35, 227647.06, 63823.53, 899411.77, 121176.47, 1235294.12, 178529.41, 235882.35, 14705.88, 293235.29, 5691764.71, 72058.82, 1464705.88, 129411.77, 465294.12, 244117.65, 22941.18, 301470.59, 1694117.65, 358823.53, 1194411.77, 137647.06, 416176.47, 195000.0, 809411.77, 309705.88, 588235.29, 367058.82, 702941.18, 760294.12, 260588.24, 1096176.47, 39411.77, 375294.12, 932352.94, 711176.47, 2382352.94, 268823.53, 547352.94, 825882.35, 47647.06, 1161764.71, 162352.94, 219705.88, 2447941.18, 55882.35, 113235.29, 391764.71, 170588.24, 449117.65, 227941.18, 2120294.12, 6764.71, 285294.12, 1735294.12, 400000.0, 457352.94, 3685000.0, 514705.88, 12647058.82, 1071764.71, 15000.0, 3300000.0, 129705.88, 408235.29, 686764.71, 187058.82, 465588.24, 801470.59, 3529411.77, 301764.71, 23235.29, 137941.18, 416470.59, 695000.0, 1088235.29, 1645294.12, 867058.82, 146176.47, 424705.88, 2317058.82, 203529.41, 760588.24, 1375000.0, 875294.12, 97058.82, 375588.24, 154411.77, 432941.18, 2882352.94, 1547058.82, 211764.71, 269117.65, 1661764.71, 326470.59, 383823.53, 1776470.59, 162647.06, 441176.47, 777058.82, 555882.35, 56176.47, 613235.29, 4676470.59, 1170294.12, 113529.41, 670588.24, 15588235.29, 7058.82, 564117.65, 2235294.12, 400294.12, 1014705.88, 236470.59, 15294.12, 351176.47, 908235.29, 130000.0, 408529.41, 187352.94, 465882.35, 5364705.88, 4029411.77, 1080294.12, 23529.41, 80882.35, 138235.29, 195588.24, 8821764.71, 1588235.29, 252941.18, 31764.71, 367647.06, 2538529.41, 36764705.88, 146470.59, 482352.94, 1875000.0, 539705.88, 597058.82, 654411.77, 3382352.94, 711764.71, 326764.71, 1162352.94, 941176.47, 441470.59, 720000.0, 220294.12, 6732941.18, 113823.53, 670882.35, 7352.94, 285882.35, 564411.77, 2735294.12, 64705.88, 1178823.53, 122058.82, 1514705.88, 179411.77, 15588.24, 294117.65, 572647.06, 72941.18, 408823.53, 965882.35, 744705.88, 245000.0, 523529.41, 23823.53, 5422352.94, 302352.94, 580882.35, 859411.77, 138529.41, 974117.65, 2088235.29, 752941.18, 26352941.18, 310588.24, 867647.06, 89411.77, 3595588.24, 146764.71, 204117.65, 261470.59, 1154411.77, 97647.06, 3882352.94, 1211764.71, 269705.88, 1441176.47, 105882.35, 384411.77, 662941.18, 7454117.65, 220588.24, 277941.18, 5676470.59, 335294.12, 392647.06, 450000.0, 228823.53, 507352.94, 3235294.12, 564705.88, 65000.0, 622058.82, 679411.77, 179705.88, 794117.65, 1351176.47, 15882.35, 572941.18, 73235.29, 466470.59, 1023529.41, 802352.94, 1080882.35, 302647.06, 81470.59, 138823.53, 2588235.29, 474705.88, 1367647.06, 32352.94, 89705.88, 925294.12, 147058.82, 204411.77, 17735294.12, 261764.71, 1375882.35, 319117.65, 376470.59, 4439705.88, 1490588.24, 433823.53, 990882.35, 491176.47, 548529.41, 48823.53, 1941176.47, 605882.35, 106176.47, 720588.24, 6176470.59, 57058.82, 4955882.35, 114411.77, 3735294.12, 507647.06, 1064705.88, 1122058.82, 1400588.24, 679705.88, 1294117.65, 1908529.41, 1130294.12, 73529.41, 5529411.77, 188235.29, 245588.24, 524117.65, 302941.18, 81764.71, 360294.12, 3088235.29, 417647.06, 1810294.12, 1867647.06, 532352.94, 14000000.0, 32647.06, 311176.47, 589705.88, 647058.82, 147352.94, 425882.35, 18235294.12, 761764.71, 819117.65, 4882352.94, 876470.59, 933823.53, 2547647.06, 155588.24, 212941.18, 491470.59, 7004117.65, 270294.12, 548823.53, 2441176.47, 2719705.88, 5447647.06, 663529.41, 163823.53}\n",
      "********* Deal Status Code *******\n",
      "\n",
      "{'Lost', 'Won'}\n"
     ]
    }
   ],
   "source": [
    "for i in df.columns:\n",
    "    print(\"*********\",i,\"*******\")\n",
    "    print()\n",
    "    print(set(df[i].tolist()))"
   ]
  },
  {
   "cell_type": "code",
   "execution_count": null,
   "id": "0f036cca",
   "metadata": {},
   "outputs": [],
   "source": []
  },
  {
   "cell_type": "markdown",
   "id": "8f3aead7",
   "metadata": {},
   "source": [
    "#### As we can see there extra variables in VP & Managers Name"
   ]
  },
  {
   "cell_type": "code",
   "execution_count": 8,
   "id": "f3602ae8",
   "metadata": {},
   "outputs": [],
   "source": [
    "df['VP Name'] = df['VP Name'].str.replace('\\xa0', ' ')"
   ]
  },
  {
   "cell_type": "code",
   "execution_count": 9,
   "id": "a73bd971",
   "metadata": {},
   "outputs": [],
   "source": [
    "df['Manager Name'] = df['Manager Name'].str.replace('\\xa0', ' ')"
   ]
  },
  {
   "cell_type": "code",
   "execution_count": 10,
   "id": "e440403c",
   "metadata": {},
   "outputs": [
    {
     "data": {
      "text/plain": [
       "array(['Ekta Zutshi', 'Mervin Harwood', 'Sargar Deep Rao', 'Lilli Storrs',\n",
       "       'Long Bergstrom', 'Rosanna Maynez', 'Mangesh K. Singh',\n",
       "       'Brendon Wycoff', 'neeraj kumar', 'Rahul Bajpai',\n",
       "       'Son Mcconnaughy', 'Saurabh Singh', 'Rudraksh Sharma',\n",
       "       'Hardeep Suksma', 'Varsha Arora', 'som dutt', 'Ankita Aggarwal',\n",
       "       'Clinton Mani', 'Marcella Mo', 'Dennis Faux', 'Earline Langton',\n",
       "       'Russell Dahlen', 'Gopa Trilochana', 'Kamelesh Srinivasan',\n",
       "       'Gaurav Sameria', 'Manpreet Singh', 'Man Suddeth', 'Molly Eakes',\n",
       "       'Vidur Hukle', 'Gayle Molter', 'Alam Syed', 'Rahul Kocher',\n",
       "       'Vikram Rawat', 'Jewell Tunstall', 'Jitendra Choudhary',\n",
       "       'Mayank Mewar', 'Kirk Hofmeister', 'P. Somya', 'Prashant Rawat',\n",
       "       'Visvajeet Das', 'Waylon Mulder', 'Sarthak Batra', 'md. afsar'],\n",
       "      dtype=object)"
      ]
     },
     "execution_count": 10,
     "metadata": {},
     "output_type": "execute_result"
    }
   ],
   "source": [
    "df['VP Name'].unique()"
   ]
  },
  {
   "cell_type": "code",
   "execution_count": 11,
   "id": "dedf31ed",
   "metadata": {
    "scrolled": true
   },
   "outputs": [
    {
     "data": {
      "text/plain": [
       "array(['Gopa Trilochana', 'Russell Dahlen', 'rahul sharma', 'Vidur Hukle',\n",
       "       'Md. Daud', 'Hardeep Suksma', 'Luv Malhotra', 'Lino Batterton',\n",
       "       'Sang Ingle', 'shafibul', 'Anand S. Pandey', 'Molly Eakes',\n",
       "       'Prateek Dhotre', 'Roopal Singh', 'Desmond Krout',\n",
       "       'Jean Sappington', 'Mangesh K. Singh', 'Abhinav Warrier',\n",
       "       'Saurabh Singh', 'Tanuj Bindra', 'nahar singh', 'D. Ankit ',\n",
       "       'Muoi Queener', 'Ayusha Gupta', 'Rudraksh Sharma', 'Ekta Zutshi',\n",
       "       'Fredricka Bald', 'Ganesh Malwar', 'Kamelesh Srinivasan',\n",
       "       'Jewell Tunstall', 'Ankita Aggarwal', 'Somnath Mukherji',\n",
       "       'Tafeeq Khan', 'Rosana Yokum', 'Gaurav Sameria', 'Rahul Bajpai',\n",
       "       'Dennis Faux', 'Theron Rex', 'Shobhit Gupta', 'Marcella Mo',\n",
       "       'Rahul Kocher', 'Akshay Sharma', 'ram kumar', 'Sanchita Gulati',\n",
       "       'mohd shakib', 'Anoop Jatley', 'Ralph Bohon', 'mohd khairul',\n",
       "       'Akshansh Goel', 'Rajneesh Tanwar', 'Manpreet Singh',\n",
       "       'Chanchal sharma', 'Vinay Kumar', 'Elenor Halderman',\n",
       "       'Long Bergstrom', 'Karan Dubey', 'Subhangi Sood', 'Clinton Mani',\n",
       "       'Evangeline Kepley', 'Vikrant Saini', 'Gayle Molter',\n",
       "       'Neha Sharma', 'neeraj kumar', 'Jayadev Mitali', 'rijul aggarwal',\n",
       "       'Rahul Singh', 'Jitendra Choudhary', 'sunder paal', 'riyasat ali',\n",
       "       'Evalyn Rayner', 'Sooraj Vohra', 'vansu dev', 'David Toms',\n",
       "       'Eva Harte', 'Ankit Bhutani', 'Kizzie Troxel', 'Rosanna Maynez',\n",
       "       'Mannan Upadhiya', 'Nitish Bhardwaj', 'Abram Fines',\n",
       "       'Natalia Dumlao', 'Earline Langton', 'Sohil Kumar', 'Bhavya Saini',\n",
       "       'Lokesh Pinani', 'Marcelo Riles', 'mayank chaudhary @ rahul',\n",
       "       'som dutt', 'Carroll Truehart', 'Alam Syed', 'Akul Jindal',\n",
       "       'aamir hussain', 'Edmund Brigham', 'Annamaria Phung',\n",
       "       'Varsha Arora', 'Sargar Deep Rao', 'Mervin Harwood',\n",
       "       'Akshansh Chaudhary', 'Manish Saundriyal', 'keshar ansari',\n",
       "       'Zulema Perrine', 'Rayford Durgan', 'Atul Chaudhary',\n",
       "       'Roopal Chaudhary', 'Sergio Cusack', 'shiv kumar',\n",
       "       'Palmer Holmberg', 'Davis Gagner', 'Heeman Daga', 'pankaj kumar',\n",
       "       'Prakash Dhawale', 'Florencio Quiros', 'Herschel Flock',\n",
       "       'Preeti Mehra', 'Chloe Beiler', 'Vincenzo Mushrush',\n",
       "       'Doreen Amerman', 'Danny Bolton', 'Harsh Verma', 'Annett Mcmillen',\n",
       "       'Anmol Mehre', 'Prashant singh', 'Anchal Pandey', 'Vikrant Soneja',\n",
       "       'Emil Knudsen', 'Eesha Yadav', 'bhagwati prasad', 'Gunjan Singh',\n",
       "       'Aditya Kumar', 'rahul kumar', 'Randy Fontana', 'Abhiskek Kumar',\n",
       "       'Ahdarsha Jha', 'kamal jit singh', 'Jayant Kalra', 'Darin Vath',\n",
       "       'Roop Sachdeva', 'Aman Singh', 'Sherell Peace', 'Tarun Garg',\n",
       "       'Akasnah Arora', 'Saneel Tyagi', 'Rajat Bansal', 'Harpreet Bedi',\n",
       "       'bablu regar', 'shyam kumar', 'Abhishek Singhal', 'Sultan Khan',\n",
       "       'Darla Dickinson', 'Manisha Saundriyal', 'Akshay Gosh',\n",
       "       'Kaniksh Dhyani', 'Sanchita Pant', 'Rishab Jain', 'Leticia Denton',\n",
       "       'Manisha Gulati', 'Kendra Tripathi', 'Kanika Sharma',\n",
       "       'khadak singh', 'R. T. Ramakrishnan', 'Md Irshad',\n",
       "       'Ranjnesh Tanwar', 'Andrew Michalowski', 'Rodney Wilkison',\n",
       "       'Nanette Hennessee', 'Harshita Singh', 'Anish Jonson',\n",
       "       'Tanu Panwar', 'Shalendra D.', 'Laurine Quintanar', 'Kamal Deep',\n",
       "       'Karna Bhuvennant', 'Vishvajeet Kumar', 'Virak Kandpal',\n",
       "       'Kim Tavernier', 'rohit', 'Anju Nanda', 'Manish Johar',\n",
       "       'Sarwan Singh', 'Arron Hack', 'Akshant Garg', 'Vikram Rawat',\n",
       "       'Ahswini Saini', 'shiv shakti singh', 'Sierra Yamamoto',\n",
       "       'Taran Singh', 'Anand Vikram', 'Abhiskhek  D', 'Jackie Wolfson',\n",
       "       'Umesh Kholi', 'Atul Kumar', 'kailash kumar', 'lalit kathuriya',\n",
       "       'birender mandal', 'Son Mcconnaughy', 'Eula Hallowell',\n",
       "       'Raj Pinani', 'mohd ataullah', 'Akshit Khanna', 'Ravi Chaudhary',\n",
       "       'Siddhant Gaur', 'Devendra Vishvakarma', 'ram dutt gupta',\n",
       "       'Chad Jamal', 'Thurman Niemi', 'Prakash Srinivas',\n",
       "       'Millicent Firth', 'Varun Bhel', 'Lakendra Hartgrove',\n",
       "       'Deepak Chandra Prakash', 'Kamal Chandra', 'Donovan Rockwood',\n",
       "       'Leeladhar Pandey', 'pooran chand', 'Prashant Rawat',\n",
       "       'Sangeet Daga', 'Taran Deep', 'Sharavan Singh', 'Akhil Biyas',\n",
       "       'Rishab Bhatt', 'Mahesh Gulati', 'Jarred Parrino', 'Beutune Varma',\n",
       "       'Cameron Deleeuw', 'Aditya Tondon', 'vinit katariya',\n",
       "       'Jose Gamber', 'Rateesh Singh', 'Ranjan Prakash', 'Johnna Lemay',\n",
       "       'Jasmin kaur', 'Genny Mcgivney', 'sheak shakir', 'Naveen Dogra',\n",
       "       'Vaibhav singh', 'Martin Cheyne', 'Kittie Selvey',\n",
       "       'Vaibhav Somaskandan', 'Royal Garofalo', 'Kamaldeep Singh',\n",
       "       'Antonio Yelvington', 'jamil khan', 'Aman Gupta',\n",
       "       'Himanshu Upadhiya', 'Varun  Behl', 'Brenton Launius',\n",
       "       'Preetan Gujar', 'Geoffrey Recker', 'Russ Vaz', 'Aastha Gandhi',\n",
       "       'Sai S Sabitha', 'sharat chandran', 'Tom Blanca',\n",
       "       'maansingh aswal', 'farmaan khan', 'Sanjeev Diwakar',\n",
       "       'Navita Chauhan', 'Sumita Verma', 'gurmit singh', 'Mayank Praveen',\n",
       "       'Heath Mullarkey', 'Zachary Oconner', 'Upendra Bhatt',\n",
       "       'Himanshu Daga', 'Matt Redel', 'Amit Jain', 'Joe Castorena',\n",
       "       'ramdin verma', 'Cori Gillispie', 'Sanjeev Talreja', 'Sumit Arora',\n",
       "       'Preston Dumire', 'Arti Bindra', 'Ike Deppen', 'Waseem Khan',\n",
       "       'Ali Rafiq', 'Uzaar Ali', 'Cleotilde Biron'], dtype=object)"
      ]
     },
     "execution_count": 11,
     "metadata": {},
     "output_type": "execute_result"
    }
   ],
   "source": [
    "df['Manager Name'].unique()"
   ]
  },
  {
   "cell_type": "code",
   "execution_count": null,
   "id": "df5d0eec",
   "metadata": {},
   "outputs": [],
   "source": []
  },
  {
   "cell_type": "code",
   "execution_count": 12,
   "id": "b75c39db",
   "metadata": {
    "scrolled": true
   },
   "outputs": [
    {
     "name": "stdout",
     "output_type": "stream",
     "text": [
      "<class 'lux.core.frame.LuxDataFrame'>\n",
      "RangeIndex: 10061 entries, 0 to 10060\n",
      "Data columns (total 9 columns):\n",
      " #   Column            Non-Null Count  Dtype         \n",
      "---  ------            --------------  -----         \n",
      " 0   Client Category   10061 non-null  object        \n",
      " 1   Solution Type     10061 non-null  object        \n",
      " 2   Deal Date         10061 non-null  datetime64[ns]\n",
      " 3   Sector            10061 non-null  object        \n",
      " 4   Location          10061 non-null  object        \n",
      " 5   VP Name           10061 non-null  object        \n",
      " 6   Manager Name      10061 non-null  object        \n",
      " 7   Deal Cost         10061 non-null  float64       \n",
      " 8   Deal Status Code  10061 non-null  object        \n",
      "dtypes: datetime64[ns](1), float64(1), object(7)\n",
      "memory usage: 707.5+ KB\n"
     ]
    }
   ],
   "source": [
    "df.info()"
   ]
  },
  {
   "cell_type": "code",
   "execution_count": null,
   "id": "e90484cf",
   "metadata": {},
   "outputs": [],
   "source": []
  },
  {
   "cell_type": "markdown",
   "id": "6a23377d",
   "metadata": {},
   "source": [
    "#### Droping unnecceary columns"
   ]
  },
  {
   "cell_type": "code",
   "execution_count": 13,
   "id": "d52e7d9f",
   "metadata": {},
   "outputs": [],
   "source": [
    "df = df.drop([ 'Deal Date', 'VP Name', 'Manager Name'], axis=1)"
   ]
  },
  {
   "cell_type": "code",
   "execution_count": 14,
   "id": "38f1f0bb",
   "metadata": {
    "scrolled": true
   },
   "outputs": [
    {
     "data": {
      "application/vnd.jupyter.widget-view+json": {
       "model_id": "6e5d1dd68b3f434c82614c647c4bb71c",
       "version_major": 2,
       "version_minor": 0
      },
      "text/plain": [
       "Button(description='Toggle Pandas/Lux', layout=Layout(top='5px', width='140px'), style=ButtonStyle())"
      ]
     },
     "metadata": {},
     "output_type": "display_data"
    },
    {
     "data": {
      "application/vnd.jupyter.widget-view+json": {
       "model_id": "f593416a3bc74dfbbc933a2297c46ed4",
       "version_major": 2,
       "version_minor": 0
      },
      "text/plain": [
       "Output()"
      ]
     },
     "metadata": {},
     "output_type": "display_data"
    }
   ],
   "source": [
    "df.head()"
   ]
  },
  {
   "cell_type": "code",
   "execution_count": null,
   "id": "a105ad35",
   "metadata": {},
   "outputs": [],
   "source": []
  },
  {
   "cell_type": "markdown",
   "id": "9f26b970",
   "metadata": {},
   "source": [
    "### Lost = 0\n",
    "### Won = 1"
   ]
  },
  {
   "cell_type": "code",
   "execution_count": 15,
   "id": "5c02083a",
   "metadata": {},
   "outputs": [],
   "source": [
    "df['Deal Status Code'] = df['Deal Status Code'].apply(lambda x:1 if x=='Won' else x)\n",
    "df['Deal Status Code'] = df['Deal Status Code'].apply(lambda x:0 if x=='Lost' else x)"
   ]
  },
  {
   "cell_type": "code",
   "execution_count": 16,
   "id": "24cb94f0",
   "metadata": {
    "scrolled": true
   },
   "outputs": [
    {
     "data": {
      "application/vnd.jupyter.widget-view+json": {
       "model_id": "da460d98da164cf2bbf3d332c9904db5",
       "version_major": 2,
       "version_minor": 0
      },
      "text/plain": [
       "Button(description='Toggle Pandas/Lux', layout=Layout(top='5px', width='140px'), style=ButtonStyle())"
      ]
     },
     "metadata": {},
     "output_type": "display_data"
    },
    {
     "data": {
      "application/vnd.jupyter.widget-view+json": {
       "model_id": "2975a2ca4bdc499e973a4ee22064d2b7",
       "version_major": 2,
       "version_minor": 0
      },
      "text/plain": [
       "Output()"
      ]
     },
     "metadata": {},
     "output_type": "display_data"
    }
   ],
   "source": [
    "df['Deal Status Code'].value_counts()"
   ]
  },
  {
   "cell_type": "code",
   "execution_count": 17,
   "id": "92019190",
   "metadata": {},
   "outputs": [
    {
     "data": {
      "application/vnd.jupyter.widget-view+json": {
       "model_id": "8a02a89bc78a4bf288e21ed2e2510934",
       "version_major": 2,
       "version_minor": 0
      },
      "text/plain": [
       "Button(description='Toggle Pandas/Lux', layout=Layout(top='5px', width='140px'), style=ButtonStyle())"
      ]
     },
     "metadata": {},
     "output_type": "display_data"
    },
    {
     "data": {
      "application/vnd.jupyter.widget-view+json": {
       "model_id": "faec0fbf25d54573ab1b5eb93c26c1a1",
       "version_major": 2,
       "version_minor": 0
      },
      "text/plain": [
       "Output()"
      ]
     },
     "metadata": {},
     "output_type": "display_data"
    }
   ],
   "source": [
    "df.nunique()"
   ]
  },
  {
   "cell_type": "markdown",
   "id": "2d23e23f",
   "metadata": {},
   "source": [
    "## Step 2 - Handling Outliers "
   ]
  },
  {
   "cell_type": "code",
   "execution_count": 18,
   "id": "fd56ca66",
   "metadata": {},
   "outputs": [
    {
     "data": {
      "image/png": "[encoded data removed]",
      "text/plain": [
       "<Figure size 432x288 with 1 Axes>"
      ]
     },
     "metadata": {
      "needs_background": "light"
     },
     "output_type": "display_data"
    },
    {
     "data": {
      "image/png": "[encoded data removed]",
      "text/plain": [
       "<Figure size 432x288 with 1 Axes>"
      ]
     },
     "metadata": {
      "needs_background": "light"
     },
     "output_type": "display_data"
    }
   ],
   "source": [
    "def boxplots(col):\n",
    "    sns.boxplot(df[col])\n",
    "    plt.show()\n",
    "    \n",
    "for i in list(df.select_dtypes(exclude=['object']).columns):\n",
    "    boxplots(i)"
   ]
  },
  {
   "cell_type": "code",
   "execution_count": 19,
   "id": "42954e24",
   "metadata": {
    "scrolled": true
   },
   "outputs": [
    {
     "data": {
      "image/png": "[encoded data removed]",
      "text/plain": [
       "<Figure size 360x360 with 1 Axes>"
      ]
     },
     "metadata": {
      "needs_background": "light"
     },
     "output_type": "display_data"
    },
    {
     "data": {
      "image/png": "[encoded data removed]",
      "text/plain": [
       "<Figure size 360x360 with 1 Axes>"
      ]
     },
     "metadata": {
      "needs_background": "light"
     },
     "output_type": "display_data"
    },
    {
     "data": {
      "image/png": "[encoded data removed]",
      "text/plain": [
       "<Figure size 360x360 with 1 Axes>"
      ]
     },
     "metadata": {
      "needs_background": "light"
     },
     "output_type": "display_data"
    },
    {
     "data": {
      "image/png": "[encoded data removed]",
      "text/plain": [
       "<Figure size 360x360 with 1 Axes>"
      ]
     },
     "metadata": {
      "needs_background": "light"
     },
     "output_type": "display_data"
    },
    {
     "data": {
      "image/png": "[encoded data removed]",
      "text/plain": [
       "<Figure size 360x360 with 1 Axes>"
      ]
     },
     "metadata": {
      "needs_background": "light"
     },
     "output_type": "display_data"
    },
    {
     "data": {
      "image/png": "[encoded data removed]",
      "text/plain": [
       "<Figure size 360x360 with 1 Axes>"
      ]
     },
     "metadata": {
      "needs_background": "light"
     },
     "output_type": "display_data"
    }
   ],
   "source": [
    "def displots(col):\n",
    "    sns.displot(df[col])\n",
    "    plt.show()\n",
    "    \n",
    "for i in list(df.columns):\n",
    "    displots(i)"
   ]
  },
  {
   "cell_type": "code",
   "execution_count": null,
   "id": "d1b378d7",
   "metadata": {},
   "outputs": [],
   "source": []
  },
  {
   "cell_type": "code",
   "execution_count": 20,
   "id": "15e55a36",
   "metadata": {},
   "outputs": [],
   "source": [
    "Q1 =df['Deal Cost'].quantile(0.25)\n",
    "Q3 =df['Deal Cost'].quantile(0.75)\n",
    "IQR = Q3 - Q1\n",
    "pos_outlier = Q3 + 1.5 * IQR\n",
    "neg_outlier = Q1 - 1.5 * IQR"
   ]
  },
  {
   "cell_type": "code",
   "execution_count": 21,
   "id": "114918d8",
   "metadata": {},
   "outputs": [],
   "source": [
    "for i in df['Deal Cost']:\n",
    "    if i > pos_outlier or i < neg_outlier:\n",
    "        df['Deal Cost'] = df['Deal Cost'].replace(i, np.median(df['Deal Cost']))"
   ]
  },
  {
   "cell_type": "code",
   "execution_count": 22,
   "id": "6fb4c27c",
   "metadata": {},
   "outputs": [
    {
     "data": {
      "text/plain": [
       "<AxesSubplot:xlabel='Deal Cost'>"
      ]
     },
     "execution_count": 22,
     "metadata": {},
     "output_type": "execute_result"
    },
    {
     "data": {
      "image/png": "[encoded data removed]",
      "text/plain": [
       "<Figure size 432x288 with 1 Axes>"
      ]
     },
     "metadata": {
      "needs_background": "light"
     },
     "output_type": "display_data"
    }
   ],
   "source": [
    "sns.boxplot(x='Deal Cost', data = df)"
   ]
  },
  {
   "cell_type": "code",
   "execution_count": 23,
   "id": "3afc7433",
   "metadata": {},
   "outputs": [
    {
     "data": {
      "text/plain": [
       "<AxesSubplot:>"
      ]
     },
     "execution_count": 23,
     "metadata": {},
     "output_type": "execute_result"
    },
    {
     "data": {
      "image/png": "[encoded data removed]",
      "text/plain": [
       "<Figure size 432x288 with 2 Axes>"
      ]
     },
     "metadata": {
      "needs_background": "light"
     },
     "output_type": "display_data"
    }
   ],
   "source": [
    "sns.heatmap(df.corr(), annot=True)"
   ]
  },
  {
   "cell_type": "code",
   "execution_count": 24,
   "id": "422bf2c2",
   "metadata": {},
   "outputs": [
    {
     "data": {
      "text/plain": [
       "<seaborn.axisgrid.PairGrid at 0x2158d9a04c8>"
      ]
     },
     "execution_count": 24,
     "metadata": {},
     "output_type": "execute_result"
    },
    {
     "data": {
      "image/png": "[encoded data removed]",
      "text/plain": [
       "<Figure size 360x360 with 6 Axes>"
      ]
     },
     "metadata": {
      "needs_background": "light"
     },
     "output_type": "display_data"
    }
   ],
   "source": [
    "sns.pairplot(df)"
   ]
  },
  {
   "cell_type": "code",
   "execution_count": null,
   "id": "d2a23088",
   "metadata": {},
   "outputs": [],
   "source": []
  },
  {
   "cell_type": "code",
   "execution_count": null,
   "id": "7e029a45",
   "metadata": {},
   "outputs": [],
   "source": []
  },
  {
   "cell_type": "markdown",
   "id": "cbd50465",
   "metadata": {},
   "source": [
    "## Step 3 - Encoding"
   ]
  },
  {
   "cell_type": "code",
   "execution_count": null,
   "id": "3c3da7d6",
   "metadata": {},
   "outputs": [],
   "source": []
  },
  {
   "cell_type": "code",
   "execution_count": 25,
   "id": "9ecf009f",
   "metadata": {
    "scrolled": false
   },
   "outputs": [],
   "source": [
    "df['Location'] = df['Location'].astype('category')\n",
    "df['Location'] = df['Location'].cat.codes\n",
    "\n",
    "df['Client Category'] = df['Client Category'].astype('category')\n",
    "df['Client Category'] = df['Client Category'].cat.codes\n",
    "\n",
    "df['Solution Type'] = df['Solution Type'].astype('category')\n",
    "df['Solution Type'] = df['Solution Type'].cat.codes\n",
    "\n",
    "df['Sector'] = df['Sector'].astype('category')\n",
    "df['Sector'] = df['Sector'].cat.codes"
   ]
  },
  {
   "cell_type": "code",
   "execution_count": 26,
   "id": "90ab0b42",
   "metadata": {},
   "outputs": [],
   "source": [
    "df = pd.get_dummies(df, columns =  ['Client Category', 'Location', 'Solution Type', 'Sector'])"
   ]
  },
  {
   "cell_type": "code",
   "execution_count": 27,
   "id": "97c06ce5",
   "metadata": {},
   "outputs": [],
   "source": [
    "df = df.drop(['Client Category_0', 'Location_0', 'Solution Type_0', 'Sector_0'], axis=1)"
   ]
  },
  {
   "cell_type": "code",
   "execution_count": null,
   "id": "13d96c93",
   "metadata": {},
   "outputs": [],
   "source": []
  },
  {
   "cell_type": "code",
   "execution_count": 28,
   "id": "9472ffca",
   "metadata": {
    "scrolled": true
   },
   "outputs": [
    {
     "data": {
      "application/vnd.jupyter.widget-view+json": {
       "model_id": "c6b060026e1d43a29d21f11d228129f7",
       "version_major": 2,
       "version_minor": 0
      },
      "text/plain": [
       "Button(description='Toggle Pandas/Lux', layout=Layout(top='5px', width='140px'), style=ButtonStyle())"
      ]
     },
     "metadata": {},
     "output_type": "display_data"
    },
    {
     "data": {
      "application/vnd.jupyter.widget-view+json": {
       "model_id": "a9cba7d725f7406ea9f13ee3b9b3ad11",
       "version_major": 2,
       "version_minor": 0
      },
      "text/plain": [
       "Output()"
      ]
     },
     "metadata": {},
     "output_type": "display_data"
    }
   ],
   "source": [
    "df.describe().T"
   ]
  },
  {
   "cell_type": "code",
   "execution_count": null,
   "id": "93779697",
   "metadata": {},
   "outputs": [],
   "source": []
  },
  {
   "cell_type": "markdown",
   "id": "2dac4ff5",
   "metadata": {},
   "source": [
    "## Spliting data into independent and dependent"
   ]
  },
  {
   "cell_type": "code",
   "execution_count": 29,
   "id": "8d954768",
   "metadata": {},
   "outputs": [],
   "source": [
    "x = df.drop(['Deal Status Code'], axis=1)\n",
    "y = df['Deal Status Code']"
   ]
  },
  {
   "cell_type": "code",
   "execution_count": null,
   "id": "b2179726",
   "metadata": {},
   "outputs": [],
   "source": []
  },
  {
   "cell_type": "markdown",
   "id": "d80b0c30",
   "metadata": {},
   "source": [
    "## Step 4 - Feature Scaling"
   ]
  },
  {
   "cell_type": "code",
   "execution_count": 30,
   "id": "d667b7c5",
   "metadata": {},
   "outputs": [],
   "source": [
    "from sklearn.preprocessing import StandardScaler "
   ]
  },
  {
   "cell_type": "code",
   "execution_count": 31,
   "id": "08546e68",
   "metadata": {},
   "outputs": [],
   "source": [
    "sc = StandardScaler()\n",
    "x = sc.fit_transform(x)"
   ]
  },
  {
   "cell_type": "code",
   "execution_count": null,
   "id": "37ad87be",
   "metadata": {},
   "outputs": [],
   "source": []
  },
  {
   "cell_type": "markdown",
   "id": "3477468a",
   "metadata": {},
   "source": [
    "## Step 5 - Handling Imbalance Dataset"
   ]
  },
  {
   "cell_type": "code",
   "execution_count": 32,
   "id": "c630c978",
   "metadata": {},
   "outputs": [],
   "source": [
    "import imblearn"
   ]
  },
  {
   "cell_type": "code",
   "execution_count": 33,
   "id": "dcb36646",
   "metadata": {},
   "outputs": [],
   "source": [
    "from imblearn.over_sampling import RandomOverSampler\n",
    "ros = RandomOverSampler()\n",
    "x_sam, y_sam = ros.fit_resample(x, y)"
   ]
  },
  {
   "cell_type": "code",
   "execution_count": null,
   "id": "505b5262",
   "metadata": {},
   "outputs": [],
   "source": []
  },
  {
   "cell_type": "markdown",
   "id": "9a38910a",
   "metadata": {},
   "source": [
    "## Split into test and train dataset"
   ]
  },
  {
   "cell_type": "code",
   "execution_count": 35,
   "id": "5dfc8a00",
   "metadata": {},
   "outputs": [
    {
     "name": "stdout",
     "output_type": "stream",
     "text": [
      "(9459, 143)\n",
      "(3153, 143)\n",
      "(9459,)\n",
      "(3153,)\n"
     ]
    }
   ],
   "source": [
    "from sklearn.model_selection import train_test_split\n",
    "x_train, x_test, y_train, y_test = train_test_split(x_sam, y_sam, test_size=0.25, random_state=101)\n",
    "print(x_train.shape)\n",
    "print(x_test.shape)\n",
    "print(y_train.shape)\n",
    "print(y_test.shape)"
   ]
  },
  {
   "cell_type": "code",
   "execution_count": null,
   "id": "bc54c458",
   "metadata": {},
   "outputs": [],
   "source": []
  },
  {
   "cell_type": "markdown",
   "id": "d170d634",
   "metadata": {},
   "source": [
    "## Model Building"
   ]
  },
  {
   "cell_type": "code",
   "execution_count": null,
   "id": "b79e3c21",
   "metadata": {},
   "outputs": [],
   "source": []
  },
  {
   "cell_type": "markdown",
   "id": "c638f93f",
   "metadata": {},
   "source": [
    "### Decision Tree"
   ]
  },
  {
   "cell_type": "code",
   "execution_count": 36,
   "id": "ea39db68",
   "metadata": {},
   "outputs": [
    {
     "data": {
      "text/plain": [
       "DecisionTreeClassifier()"
      ]
     },
     "execution_count": 36,
     "metadata": {},
     "output_type": "execute_result"
    }
   ],
   "source": [
    "from sklearn.tree import DecisionTreeClassifier\n",
    "dtree = DecisionTreeClassifier()\n",
    "dtree.fit(x_train, y_train)"
   ]
  },
  {
   "cell_type": "code",
   "execution_count": 37,
   "id": "b7553820",
   "metadata": {},
   "outputs": [],
   "source": [
    "from sklearn.metrics import confusion_matrix, classification_report, accuracy_score"
   ]
  },
  {
   "cell_type": "code",
   "execution_count": 38,
   "id": "11bba4c4",
   "metadata": {},
   "outputs": [],
   "source": [
    "y_pred_dt_train = dtree.predict(x_train)\n",
    "y_pred_dt_test = dtree.predict(x_test)"
   ]
  },
  {
   "cell_type": "code",
   "execution_count": 39,
   "id": "661dfb64",
   "metadata": {},
   "outputs": [
    {
     "name": "stdout",
     "output_type": "stream",
     "text": [
      "[[4659   58]\n",
      " [  97 4645]]\n",
      "################################################\n",
      "[[1441  148]\n",
      " [ 253 1311]]\n"
     ]
    }
   ],
   "source": [
    "print(confusion_matrix(y_train, y_pred_dt_train))\n",
    "print(\"##\"*24)\n",
    "print(confusion_matrix(y_test, y_pred_dt_test))"
   ]
  },
  {
   "cell_type": "code",
   "execution_count": 40,
   "id": "07000a99",
   "metadata": {},
   "outputs": [
    {
     "name": "stdout",
     "output_type": "stream",
     "text": [
      "              precision    recall  f1-score   support\n",
      "\n",
      "           0       0.98      0.99      0.98      4717\n",
      "           1       0.99      0.98      0.98      4742\n",
      "\n",
      "    accuracy                           0.98      9459\n",
      "   macro avg       0.98      0.98      0.98      9459\n",
      "weighted avg       0.98      0.98      0.98      9459\n",
      "\n",
      "################################################\n",
      "              precision    recall  f1-score   support\n",
      "\n",
      "           0       0.85      0.91      0.88      1589\n",
      "           1       0.90      0.84      0.87      1564\n",
      "\n",
      "    accuracy                           0.87      3153\n",
      "   macro avg       0.87      0.87      0.87      3153\n",
      "weighted avg       0.87      0.87      0.87      3153\n",
      "\n"
     ]
    }
   ],
   "source": [
    "print(classification_report(y_train, y_pred_dt_train))\n",
    "print(\"##\"*24)\n",
    "print(classification_report(y_test, y_pred_dt_test))"
   ]
  },
  {
   "cell_type": "code",
   "execution_count": 41,
   "id": "cf089235",
   "metadata": {},
   "outputs": [
    {
     "name": "stdout",
     "output_type": "stream",
     "text": [
      "Decision Tree :-\n",
      "==============================\n",
      "Train Accuracy :  0.983613489798076\n",
      "==============================\n",
      "Test Accuracy :  0.8728195369489375\n"
     ]
    }
   ],
   "source": [
    "print(\"Decision Tree :-\")\n",
    "print(\"=\"*30)\n",
    "print(\"Train Accuracy : \", accuracy_score(y_train, y_pred_dt_train))\n",
    "print(\"=\"*30)\n",
    "print(\"Test Accuracy : \", accuracy_score(y_test, y_pred_dt_test))"
   ]
  },
  {
   "cell_type": "code",
   "execution_count": null,
   "id": "bc8e2653",
   "metadata": {},
   "outputs": [],
   "source": []
  },
  {
   "cell_type": "markdown",
   "id": "2648018d",
   "metadata": {},
   "source": [
    "### Random Forest"
   ]
  },
  {
   "cell_type": "code",
   "execution_count": 42,
   "id": "13c9ba59",
   "metadata": {},
   "outputs": [
    {
     "data": {
      "text/plain": [
       "RandomForestClassifier()"
      ]
     },
     "execution_count": 42,
     "metadata": {},
     "output_type": "execute_result"
    }
   ],
   "source": [
    "from sklearn.ensemble import RandomForestClassifier\n",
    "rf = RandomForestClassifier()\n",
    "rf.fit(x_train, y_train)"
   ]
  },
  {
   "cell_type": "code",
   "execution_count": 43,
   "id": "a532d0d4",
   "metadata": {},
   "outputs": [],
   "source": [
    "y_pred_rf_train = rf.predict(x_train)\n",
    "y_pred_rf_test = rf.predict(x_test)"
   ]
  },
  {
   "cell_type": "code",
   "execution_count": 44,
   "id": "d4c64940",
   "metadata": {},
   "outputs": [
    {
     "name": "stdout",
     "output_type": "stream",
     "text": [
      "[[4638   79]\n",
      " [  76 4666]]\n",
      "################################################\n",
      "[[1442  147]\n",
      " [ 253 1311]]\n"
     ]
    }
   ],
   "source": [
    "print(confusion_matrix(y_train, y_pred_rf_train))\n",
    "print(\"##\"*24)\n",
    "print(confusion_matrix(y_test, y_pred_rf_test))"
   ]
  },
  {
   "cell_type": "code",
   "execution_count": 45,
   "id": "385bc7b5",
   "metadata": {},
   "outputs": [
    {
     "name": "stdout",
     "output_type": "stream",
     "text": [
      "              precision    recall  f1-score   support\n",
      "\n",
      "           0       0.98      0.98      0.98      4717\n",
      "           1       0.98      0.98      0.98      4742\n",
      "\n",
      "    accuracy                           0.98      9459\n",
      "   macro avg       0.98      0.98      0.98      9459\n",
      "weighted avg       0.98      0.98      0.98      9459\n",
      "\n",
      "################################################\n",
      "              precision    recall  f1-score   support\n",
      "\n",
      "           0       0.85      0.91      0.88      1589\n",
      "           1       0.90      0.84      0.87      1564\n",
      "\n",
      "    accuracy                           0.87      3153\n",
      "   macro avg       0.87      0.87      0.87      3153\n",
      "weighted avg       0.87      0.87      0.87      3153\n",
      "\n"
     ]
    }
   ],
   "source": [
    "print(classification_report(y_train, y_pred_rf_train))\n",
    "print(\"##\"*24)\n",
    "print(classification_report(y_test, y_pred_rf_test))"
   ]
  },
  {
   "cell_type": "code",
   "execution_count": 46,
   "id": "d80f2fd7",
   "metadata": {
    "scrolled": true
   },
   "outputs": [
    {
     "name": "stdout",
     "output_type": "stream",
     "text": [
      "Random Forest :-\n",
      "==============================\n",
      "Train Accuracy :  0.983613489798076\n",
      "==============================\n",
      "Test Accuracy :  0.8731366952109102\n"
     ]
    }
   ],
   "source": [
    "print(\"Random Forest :-\")\n",
    "print(\"=\"*30)\n",
    "print(\"Train Accuracy : \", accuracy_score(y_train, y_pred_rf_train))\n",
    "print(\"=\"*30)\n",
    "print(\"Test Accuracy : \", accuracy_score(y_test, y_pred_rf_test))"
   ]
  },
  {
   "cell_type": "code",
   "execution_count": null,
   "id": "eb22c32b",
   "metadata": {},
   "outputs": [],
   "source": []
  },
  {
   "cell_type": "markdown",
   "id": "f725d336",
   "metadata": {},
   "source": [
    "### AUC Curve"
   ]
  },
  {
   "cell_type": "code",
   "execution_count": 47,
   "id": "0c41b42a",
   "metadata": {},
   "outputs": [],
   "source": [
    "from sklearn.metrics import roc_curve,auc"
   ]
  },
  {
   "cell_type": "code",
   "execution_count": 48,
   "id": "6d7d9542",
   "metadata": {
    "scrolled": true
   },
   "outputs": [
    {
     "name": "stdout",
     "output_type": "stream",
     "text": [
      "0.872862140450894\n"
     ]
    },
    {
     "data": {
      "image/png": "[encoded data removed]",
      "text/plain": [
       "<Figure size 432x288 with 1 Axes>"
      ]
     },
     "metadata": {
      "needs_background": "light"
     },
     "output_type": "display_data"
    }
   ],
   "source": [
    "fpr, tpr, thresholds = roc_curve(y_test, y_pred_rf_test)\n",
    "rf_auc = auc(fpr,tpr)\n",
    "plt.title('Receiver Operating Characteristic')\n",
    "plt.plot(fpr,tpr, color='red',label = 'AUC = %0.3f' % rf_auc)\n",
    "plt.legend(loc = 'lower right')\n",
    "plt.plot([0, 1], [0, 1],linestyle='--')\n",
    "plt.axis('tight')\n",
    "plt.ylabel('True Positive Rate')\n",
    "plt.xlabel('False Positive Rate')\n",
    "rf_auc = auc(fpr,tpr)\n",
    "print(rf_auc)\n",
    "plt.show()"
   ]
  },
  {
   "cell_type": "code",
   "execution_count": null,
   "id": "d91085d3",
   "metadata": {},
   "outputs": [],
   "source": []
  },
  {
   "cell_type": "code",
   "execution_count": null,
   "id": "ad23c024",
   "metadata": {},
   "outputs": [],
   "source": []
  },
  {
   "cell_type": "markdown",
   "id": "f397ad6e",
   "metadata": {},
   "source": [
    "## Cross Validation"
   ]
  },
  {
   "cell_type": "code",
   "execution_count": 49,
   "id": "2e6e1f56",
   "metadata": {},
   "outputs": [
    {
     "name": "stdout",
     "output_type": "stream",
     "text": [
      "Train Accuracy :  [0.80824089 0.84944532 0.83993661 0.86212361 0.85736926 0.84944532\n",
      " 0.87321712 0.86212361 0.82408875 0.85714286 0.85873016 0.86666667\n",
      " 0.82698413 0.85396825 0.86507937]\n",
      "######################################################################\n",
      "Test Accuracy :  [0.74407583 0.67298578 0.69668246 0.66666667 0.73809524 0.7\n",
      " 0.66190476 0.66190476 0.7        0.68095238 0.72857143 0.6952381\n",
      " 0.68571429 0.6952381  0.67142857]\n"
     ]
    }
   ],
   "source": [
    "# cross validation\n",
    "## Decison Tree\n",
    "\n",
    "from sklearn.model_selection import cross_val_score\n",
    "train_accuracy = cross_val_score(dtree, x_train, y_train, cv=15)\n",
    "test_accuracy = cross_val_score(dtree, x_test, y_test, cv=15)\n",
    "\n",
    "print(\"Train Accuracy : \",train_accuracy)\n",
    "print(\"#######\"*10)\n",
    "print(\"Test Accuracy : \", test_accuracy)"
   ]
  },
  {
   "cell_type": "code",
   "execution_count": 50,
   "id": "a22cf26f",
   "metadata": {},
   "outputs": [
    {
     "name": "stdout",
     "output_type": "stream",
     "text": [
      "Train Accuracy :  [0.81458003 0.86529319 0.84469097 0.87321712 0.86212361 0.85419968\n",
      " 0.87797147 0.86529319 0.84786054 0.85079365 0.86825397 0.84285714\n",
      " 0.84444444 0.85079365 0.86507937]\n",
      "######################################################################\n",
      "Test Accuracy :  [0.7535545  0.68246445 0.68246445 0.71904762 0.73333333 0.75714286\n",
      " 0.71428571 0.70952381 0.69047619 0.77142857 0.70952381 0.73809524\n",
      " 0.68095238 0.73333333 0.71428571]\n"
     ]
    }
   ],
   "source": [
    "# cross validation\n",
    "## Random forest\n",
    "from sklearn.model_selection import cross_val_score\n",
    "train_accuracy = cross_val_score(rf, x_train, y_train, cv=15)\n",
    "test_accuracy = cross_val_score(rf, x_test, y_test, cv=15)\n",
    "\n",
    "print(\"Train Accuracy : \",train_accuracy)\n",
    "print(\"#######\"*10)\n",
    "print(\"Test Accuracy : \", test_accuracy)"
   ]
  },
  {
   "cell_type": "code",
   "execution_count": null,
   "id": "1838abc0",
   "metadata": {},
   "outputs": [],
   "source": []
  },
  {
   "cell_type": "code",
   "execution_count": null,
   "id": "b01bac1d",
   "metadata": {},
   "outputs": [],
   "source": []
  },
  {
   "cell_type": "markdown",
   "id": "66d4f52d",
   "metadata": {},
   "source": [
    "### KNN"
   ]
  },
  {
   "cell_type": "code",
   "execution_count": 51,
   "id": "fb1eddc3",
   "metadata": {},
   "outputs": [],
   "source": [
    "from sklearn.neighbors import KNeighborsClassifier"
   ]
  },
  {
   "cell_type": "code",
   "execution_count": 52,
   "id": "5a5cb0c2",
   "metadata": {},
   "outputs": [],
   "source": [
    "error_rate = []\n",
    "\n",
    "for i in range(1,40):\n",
    "    knn = KNeighborsClassifier(n_neighbors=i)\n",
    "    knn.fit(x_train, y_train)\n",
    "    pred_i = knn.predict(x_test)\n",
    "    error_rate.append(np.mean(pred_i != y_test))"
   ]
  },
  {
   "cell_type": "code",
   "execution_count": 53,
   "id": "0a5854d0",
   "metadata": {},
   "outputs": [
    {
     "data": {
      "image/png": "[encoded data removed]",
      "text/plain": [
       "<Figure size 1080x360 with 1 Axes>"
      ]
     },
     "metadata": {
      "needs_background": "light"
     },
     "output_type": "display_data"
    }
   ],
   "source": [
    "plt.figure(figsize=(15,5))\n",
    "plt.plot(range(1,40), error_rate, color = 'blue', linestyle='dashed', marker='o',\n",
    "        markerfacecolor = 'red', markersize=10)\n",
    "plt.title(\"Error Rate Vs K_Value\")\n",
    "plt.xlabel(\"K_Value\")\n",
    "plt.ylabel(\"Error Rate\")\n",
    "plt.show()"
   ]
  },
  {
   "cell_type": "code",
   "execution_count": 54,
   "id": "74ccc626",
   "metadata": {},
   "outputs": [
    {
     "data": {
      "text/plain": [
       "KNeighborsClassifier(n_neighbors=1)"
      ]
     },
     "execution_count": 54,
     "metadata": {},
     "output_type": "execute_result"
    }
   ],
   "source": [
    "knn = KNeighborsClassifier(n_neighbors=1)\n",
    "knn.fit(x_train, y_train)"
   ]
  },
  {
   "cell_type": "code",
   "execution_count": 55,
   "id": "66e10a34",
   "metadata": {},
   "outputs": [],
   "source": [
    "y_pred_knn_train = knn.predict(x_train)\n",
    "y_pred_knn_test = knn.predict(x_test)"
   ]
  },
  {
   "cell_type": "code",
   "execution_count": 56,
   "id": "2b4a771f",
   "metadata": {},
   "outputs": [
    {
     "name": "stdout",
     "output_type": "stream",
     "text": [
      "KNN :--\n",
      "==============================\n",
      "Train Accuracy :  0.983084892694788\n",
      "------------------------------\n",
      "Test Accuracy :  0.8598160482080558\n"
     ]
    }
   ],
   "source": [
    "print(\"KNN :--\")\n",
    "print(\"=\"*30)\n",
    "print(\"Train Accuracy : \",accuracy_score(y_train, y_pred_knn_train))\n",
    "print(\"-\"*30)\n",
    "print(\"Test Accuracy : \",accuracy_score(y_test, y_pred_knn_test))"
   ]
  },
  {
   "cell_type": "code",
   "execution_count": null,
   "id": "c5338635",
   "metadata": {},
   "outputs": [],
   "source": []
  },
  {
   "cell_type": "code",
   "execution_count": 57,
   "id": "5494628f",
   "metadata": {},
   "outputs": [],
   "source": [
    "from xgboost import XGBClassifier\n",
    "from sklearn.ensemble import GradientBoostingClassifier\n",
    "from sklearn.ensemble import AdaBoostClassifier\n",
    "from sklearn.naive_bayes import GaussianNB\n",
    "from sklearn.naive_bayes import BernoulliNB\n",
    "\n",
    "dtree = DecisionTreeClassifier()\n",
    "rf = RandomForestClassifier()\n",
    "knn = KNeighborsClassifier(n_neighbors=1)\n",
    "xgb = XGBClassifier()\n",
    "gboost = GradientBoostingClassifier()\n",
    "ada = AdaBoostClassifier()\n",
    "gnb = GaussianNB()\n",
    "bnb = BernoulliNB()"
   ]
  },
  {
   "cell_type": "code",
   "execution_count": 58,
   "id": "6854b087",
   "metadata": {},
   "outputs": [],
   "source": [
    "Models = [dtree, rf, knn, xgb, gboost, ada, gnb, bnb]"
   ]
  },
  {
   "cell_type": "code",
   "execution_count": 59,
   "id": "fe29ef4a",
   "metadata": {},
   "outputs": [
    {
     "name": "stdout",
     "output_type": "stream",
     "text": [
      "\n",
      "***** DecisionTreeClassifier() *****\n",
      "\n",
      "Train Accuracy :  0.983613489798076\n",
      "Test Accuracy :  0.8693307960672375\n",
      "\n",
      "***** RandomForestClassifier() *****\n",
      "\n",
      "Train Accuracy :  0.983613489798076\n",
      "Test Accuracy :  0.8731366952109102\n",
      "\n",
      "***** KNeighborsClassifier(n_neighbors=1) *****\n",
      "\n",
      "Train Accuracy :  0.983084892694788\n",
      "Test Accuracy :  0.8598160482080558\n",
      "\n",
      "***** XGBClassifier(base_score=0.5, booster='gbtree', callbacks=None,\n",
      "              colsample_bylevel=1, colsample_bynode=1, colsample_bytree=1,\n",
      "              early_stopping_rounds=None, enable_categorical=False,\n",
      "              eval_metric=None, gamma=0, gpu_id=-1, grow_policy='depthwise',\n",
      "              importance_type=None, interaction_constraints='',\n",
      "              learning_rate=0.300000012, max_bin=256, max_cat_to_onehot=4,\n",
      "              max_delta_step=0, max_depth=6, max_leaves=0, min_child_weight=1,\n",
      "              missing=nan, monotone_constraints='()', n_estimators=100,\n",
      "              n_jobs=0, num_parallel_tree=1, predictor='auto', random_state=0,\n",
      "              reg_alpha=0, reg_lambda=1, ...) *****\n",
      "\n",
      "Train Accuracy :  0.83391479014695\n",
      "Test Accuracy :  0.7627656200444022\n",
      "\n",
      "***** GradientBoostingClassifier() *****\n",
      "\n",
      "Train Accuracy :  0.6985939317052543\n",
      "Test Accuracy :  0.6891849032667301\n",
      "\n",
      "***** AdaBoostClassifier() *****\n",
      "\n",
      "Train Accuracy :  0.6688867745004757\n",
      "Test Accuracy :  0.672058357120203\n",
      "\n",
      "***** GaussianNB() *****\n",
      "\n",
      "Train Accuracy :  0.5396976424569193\n",
      "Test Accuracy :  0.5318744053282588\n",
      "\n",
      "***** BernoulliNB() *****\n",
      "\n",
      "Train Accuracy :  0.6257532508721853\n",
      "Test Accuracy :  0.6267047256581034\n"
     ]
    }
   ],
   "source": [
    "for i in Models:\n",
    "    x = i.fit(x_train, y_train)\n",
    "    tr = i.predict(x_train)\n",
    "    te = i.predict(x_test)\n",
    "    print()\n",
    "    print(\"*****\",i,\"*****\")\n",
    "    print()\n",
    "    print(\"Train Accuracy : \", accuracy_score(y_train, tr))\n",
    "    print(\"Test Accuracy : \", accuracy_score(y_test, te))"
   ]
  },
  {
   "cell_type": "code",
   "execution_count": null,
   "id": "de8903f4",
   "metadata": {},
   "outputs": [],
   "source": []
  },
  {
   "cell_type": "code",
   "execution_count": 64,
   "id": "fab308c4",
   "metadata": {},
   "outputs": [],
   "source": [
    "# Only for getting Accuracy data in table format\n",
    "data = {'Models' : ['Decision Tree', 'Random Forest', 'KNN', 'XGB', 'GBoost', 'AdaBoost', 'GaussianNB', 'BernoulliNB'],\n",
    "'Train' : [0.98, 0.98, 0.98, 0.83, 0.69, 0.66, 0.53, 0.62],\n",
    "'Test' : [0.86, 0.88, 0.85, 0.76, 0.68, 0.67, 0.53, 0.62]}"
   ]
  },
  {
   "cell_type": "code",
   "execution_count": 65,
   "id": "a618c417",
   "metadata": {},
   "outputs": [],
   "source": [
    "df = pd.DataFrame(data)"
   ]
  },
  {
   "cell_type": "code",
   "execution_count": 66,
   "id": "6a3a22d9",
   "metadata": {},
   "outputs": [
    {
     "data": {
      "application/vnd.jupyter.widget-view+json": {
       "model_id": "efb7f8baa5cb426a84c00fb22b745dd6",
       "version_major": 2,
       "version_minor": 0
      },
      "text/plain": [
       "Button(description='Toggle Pandas/Lux', layout=Layout(top='5px', width='140px'), style=ButtonStyle())"
      ]
     },
     "metadata": {},
     "output_type": "display_data"
    },
    {
     "data": {
      "application/vnd.jupyter.widget-view+json": {
       "model_id": "21423de3830c49bc82acff4b847be02e",
       "version_major": 2,
       "version_minor": 0
      },
      "text/plain": [
       "Output()"
      ]
     },
     "metadata": {},
     "output_type": "display_data"
    }
   ],
   "source": [
    "df"
   ]
  },
  {
   "cell_type": "code",
   "execution_count": 67,
   "id": "431a0c7a",
   "metadata": {},
   "outputs": [
    {
     "data": {
      "image/png": "[encoded data removed]",
      "text/plain": [
       "<Figure size 720x360 with 1 Axes>"
      ]
     },
     "metadata": {
      "needs_background": "light"
     },
     "output_type": "display_data"
    }
   ],
   "source": [
    "sns.barplot(x='Models', y='Test', data=df)\n",
    "fig = plt.gcf()\n",
    "fig.set_size_inches(10,5)\n",
    "plt.xticks(rotation=90)\n",
    "plt.show()"
   ]
  },
  {
   "cell_type": "code",
   "execution_count": null,
   "id": "6c33f0da",
   "metadata": {},
   "outputs": [],
   "source": []
  }
 ],
 "metadata": {
  "kernelspec": {
   "display_name": "Python 3 (ipykernel)",
   "language": "python",
   "name": "python3"
  },
  "language_info": {
   "codemirror_mode": {
    "name": "ipython",
    "version": 3
   },
   "file_extension": ".py",
   "mimetype": "text/x-python",
   "name": "python",
   "nbconvert_exporter": "python",
   "pygments_lexer": "ipython3",
   "version": "3.9.16"
  }
 },
 "nbformat": 4,
 "nbformat_minor": 5
}
